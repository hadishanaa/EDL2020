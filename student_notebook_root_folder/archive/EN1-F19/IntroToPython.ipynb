{
 "cells": [
  {
   "cell_type": "markdown",
   "metadata": {},
   "source": [
    "# Introduction to Python and Coding\n",
    "\n"
   ]
  },
  {
   "cell_type": "markdown",
   "metadata": {},
   "source": [
    "**Welcome to Jupyter Notebooks.** This Jupyter notebook introduces some of the basics of Python."
   ]
  },
  {
   "cell_type": "markdown",
   "metadata": {},
   "source": [
    "The textbook _Think Python (2nd Edition)_ by Allen B. Downey is a helpful resource that you are welcome to reference: http://greenteapress.com/thinkpython2/thinkpython2.pdf\n",
    "\n",
    "There will be links throughout the notebook that bring you to the relevant parts of the textbook."
   ]
  },
  {
   "cell_type": "markdown",
   "metadata": {},
   "source": [
    "This notebook covers:\n",
    "    \n",
    "- [Running Python](#Running-Python)\n",
    "- [Print Statements](#Print-Statements)\n",
    "- [Values and Types](#Values-and-Types)\n",
    "- [Naming Variables](#Naming-Variables)\n",
    "- [Functions](#Functions)\n",
    "- [User Input](#User-Input)\n",
    "- [for loops](#for-loops)\n",
    "- [Conditionals](#Conditionals)\n",
    "- [while loops](#while-loops)\n",
    "- [break](#break)\n",
    "- [Importing time](#Importing-time)"
   ]
  },
  {
   "cell_type": "markdown",
   "metadata": {},
   "source": [
    "# Running Python\n",
    "([Sec 1.2](http://greenteapress.com/thinkpython2/html/thinkpython2002.html#sec7))"
   ]
  },
  {
   "cell_type": "markdown",
   "metadata": {},
   "source": [
    "The Raspberry Pi has Python3 built into it, and we will be using the Raspberry Pi as our little computer that executes our Python code.  Thus, there is nothing you need to install.  Once the Raspberry Pi is up and running (and connected to the network) you are then able to write and execute Python code!\n",
    "\n",
    "The notebook, when it opens, creates a Kernal that acts as your Python interpreter.  Right now that is running in the background!  Which means you can then create a \"cell\" (block of code) within your Jupyter Notebook that contains Python code, and execute it (Run that cell).  In the following cell is the first one (\"1 + 1\").  Click on that cell (should be highlighted) and then hi \"Run\" in the menu.  It will then execute that code and display the output."
   ]
  },
  {
   "cell_type": "code",
   "execution_count": null,
   "metadata": {},
   "outputs": [],
   "source": [
    "2+2"
   ]
  },
  {
   "cell_type": "markdown",
   "metadata": {},
   "source": [
    "You can use Python to compute basic arithmetic operations ([Sec 1.4](http://greenteapress.com/thinkpython2/html/thinkpython2002.html#sec9))!\n",
    "\n",
    "- `2+2`\n",
    "- `6-1` \n",
    "- `2*3`\n",
    "- `16/2`\n",
    "- `3**2`\n",
    "\n",
    "**Play around with these arithmetic operations below to see what they do:**"
   ]
  },
  {
   "cell_type": "code",
   "execution_count": null,
   "metadata": {},
   "outputs": [],
   "source": []
  },
  {
   "cell_type": "markdown",
   "metadata": {},
   "source": [
    "# Print Statements"
   ]
  },
  {
   "cell_type": "markdown",
   "metadata": {},
   "source": [
    "A print statement ([Sec 1.3](http://greenteapress.com/thinkpython2/html/thinkpython2002.html#sec8)) returns the string inside its parenthesis. The parenthesis tell us that **print is a function**. You must also put quotations around the string to mark the beginning and the end of the statement.\n",
    "\n",
    "Ex: `print ('Hello, World')` will return Hello World\n",
    "\n",
    "Try it below:"
   ]
  },
  {
   "cell_type": "code",
   "execution_count": null,
   "metadata": {},
   "outputs": [],
   "source": []
  },
  {
   "cell_type": "markdown",
   "metadata": {},
   "source": [
    "# Values and Types\n",
    "\n",
    "([Sec 1.5](http://greenteapress.com/thinkpython2/html/thinkpython2002.html#sec10))"
   ]
  },
  {
   "cell_type": "markdown",
   "metadata": {},
   "source": [
    "integer:`2`\n",
    "\n",
    "floating-point number: `42.0`\n",
    "\n",
    "string: `Hello, World`\n",
    "\n",
    "**Try to guess the types of the values below and then test to see if you were right!**\n",
    "\n",
    "- `type(2)`\n",
    "- `type(42.0)`\n",
    "- `type('Hello, World!')`\n",
    "- `type('2')`\n",
    "- `type('42.0')`"
   ]
  },
  {
   "cell_type": "code",
   "execution_count": null,
   "metadata": {},
   "outputs": [],
   "source": []
  },
  {
   "cell_type": "markdown",
   "metadata": {},
   "source": [
    "# Naming Variables"
   ]
  },
  {
   "cell_type": "markdown",
   "metadata": {},
   "source": [
    "When you create a variable in a Jupyter Notebook (by executing the Code Cell), it exists in the memory (Kernal) of that notebook.  If you shut down the notebook (or the Raspberry Pi) it goes away and you'd have to rerun the Code Cell to create the variable again. It only exists in the context of the notebook that created it; that is, another notebook can't \"see\" that same variable.\n",
    "\n",
    "You can name your variables almost anything you want (although it is helpful to choose relevant names). \n",
    "\n",
    "Python has some keywords that cannot be used as variable names:\n",
    "\n",
    "    False class finally is return\n",
    "    None continue for lambda try\n",
    "    True def from nonlocal while\n",
    "    and del global not with\n",
    "    as elif if or yield\n",
    "    assert else import pass\n",
    "    break except in raise\n",
    "    \n",
    "**Try to name and print some variables:**"
   ]
  },
  {
   "cell_type": "raw",
   "metadata": {},
   "source": [
    "n = 6\n",
    "print(n)"
   ]
  },
  {
   "cell_type": "code",
   "execution_count": null,
   "metadata": {},
   "outputs": [],
   "source": []
  },
  {
   "cell_type": "markdown",
   "metadata": {},
   "source": [
    "# Functions"
   ]
  },
  {
   "cell_type": "markdown",
   "metadata": {},
   "source": [
    "Python has some built in functions (e.g. `print`). \n",
    "\n",
    "There are also built-in math functions that can be used if you import the math module ([Sec 3.2](http://greenteapress.com/thinkpython2/html/thinkpython2004.html#sec28)). An example of this is `math.sqrt(n)`. If you want to learn more about the math functions see [_Think Python_](http://greenteapress.com/thinkpython2/html/thinkpython2004.html#sec28)."
   ]
  },
  {
   "cell_type": "code",
   "execution_count": null,
   "metadata": {},
   "outputs": [],
   "source": [
    "import math\n",
    "math.sqrt(4)"
   ]
  },
  {
   "cell_type": "markdown",
   "metadata": {},
   "source": [
    "You can also create new functions!\n",
    "\n",
    "To do this you must create a **function definition** ([Sec 3.4](http://greenteapress.com/thinkpython2/html/thinkpython2004.html#sec30)) and include the code that runs the function.\n",
    "\n",
    "**def** is the keyword that signifies what follows is a definition.\n",
    "\n",
    "In _Think Python_ they use the following lyrics example: "
   ]
  },
  {
   "cell_type": "raw",
   "metadata": {},
   "source": [
    "def print_lyrics():\n",
    "    print(\"I'm a lumberjack, and I'm okay.\")\n",
    "    print(\"I sleep all night and I work all day.\")"
   ]
  },
  {
   "cell_type": "markdown",
   "metadata": {},
   "source": [
    "Use the `def` keyword to define a new function `print_lyrics` that prints two lines from a favorite song of yours.  \n",
    "\n",
    "Also note: the \"indentation\" in Python is really important, as this tells Python which lines \"belong\" to the function.  The Jupyter Notebooks interface will automatically indent the lines for you when it knows you are writing the function.  When you have completed the function, if you want to write more code (that's *not* part of the function), you don't use indentation.  That is: hit backspace, delete the indentation, and continue writing your code aligned to the left."
   ]
  },
  {
   "cell_type": "code",
   "execution_count": null,
   "metadata": {},
   "outputs": [],
   "source": []
  },
  {
   "cell_type": "markdown",
   "metadata": {},
   "source": [
    "If you \"run\" the Code Cell that has your definition (that you just wrote above), even though it has the `print` function as part of it, it doesn't print anything because you are just *defining* the overall function and not actually executing it.\n",
    "\n",
    "Now let's test some things about your `print_lyrics` function:\n",
    "- Call `print` on your `print_lyrics` function (Function Object): `print(print_lyrics)`\n",
    "- Find out what `type` your `print_lyrics` function is: `type(print_lyrics)`\n",
    "- And finally, call your `print_lyrics` function: `print_lyrics()`"
   ]
  },
  {
   "cell_type": "code",
   "execution_count": null,
   "metadata": {},
   "outputs": [],
   "source": []
  },
  {
   "cell_type": "markdown",
   "metadata": {},
   "source": [
    "Now try to create a `repeat_lyrics` function ([Sec 3.5](http://greenteapress.com/thinkpython2/html/thinkpython2004.html#sec31)) that prints the lyrics from your favorite song twice. You can use your `print_lyrics` function to complete this exercise."
   ]
  },
  {
   "cell_type": "code",
   "execution_count": null,
   "metadata": {},
   "outputs": [],
   "source": []
  },
  {
   "cell_type": "markdown",
   "metadata": {},
   "source": [
    "# User input"
   ]
  },
  {
   "cell_type": "markdown",
   "metadata": {},
   "source": [
    "In python there is a built-in function called `input` ([Sec 5.11](http://greenteapress.com/thinkpython2/html/thinkpython2006.html#sec65)) where the user is prompted and must input something in order for the code to continue running"
   ]
  },
  {
   "cell_type": "code",
   "execution_count": null,
   "metadata": {},
   "outputs": [],
   "source": [
    "print('Enter something:')\n",
    "text = input()\n",
    "print('You entered the following:', text)"
   ]
  },
  {
   "cell_type": "markdown",
   "metadata": {},
   "source": [
    "If you put a string inside the `input` function, it automatically prints the string as part of the function:"
   ]
  },
  {
   "cell_type": "code",
   "execution_count": null,
   "metadata": {},
   "outputs": [],
   "source": [
    "name = input('Enter your name:') \n",
    "print('Good morning,', name,\"!\")"
   ]
  },
  {
   "cell_type": "markdown",
   "metadata": {},
   "source": [
    "# `for` Loops"
   ]
  },
  {
   "cell_type": "markdown",
   "metadata": {},
   "source": [
    "Key concept: repetition through a `for` statement ([Sec 4.2](http://greenteapress.com/thinkpython2/html/thinkpython2005.html#sec43)). In the section above we created functions that called other functions to create repeated commands. Here you can use a \"for loop\" in order to do something over and over. For instance: *print the word Hello four times*."
   ]
  },
  {
   "cell_type": "code",
   "execution_count": null,
   "metadata": {},
   "outputs": [],
   "source": [
    "for i in range(4):\n",
    "    print('Hello!')"
   ]
  },
  {
   "cell_type": "markdown",
   "metadata": {},
   "source": [
    "The `for` statement can be included within a function, thus allowing you to generalize a command.  The following is a function that prints text four times, and you pass into the function what text you want to print. Execute it to see the output."
   ]
  },
  {
   "cell_type": "code",
   "execution_count": null,
   "metadata": {},
   "outputs": [],
   "source": [
    "def print_four(text):\n",
    "    for i in range(4):\n",
    "        print(text)\n",
    "\n",
    "print_four('Hello!')"
   ]
  },
  {
   "cell_type": "markdown",
   "metadata": {},
   "source": [
    "# Conditionals"
   ]
  },
  {
   "cell_type": "markdown",
   "metadata": {},
   "source": [
    "Oftentimes when writing code, we want to be able to check certain conditions and do different things based on those conditions. The `if` statement helps us do this ([Sec 5.4](http://greenteapress.com/thinkpython2/html/thinkpython2006.html#sec58)). \n",
    "\n",
    "Change the value of `x` and see what happens:"
   ]
  },
  {
   "cell_type": "code",
   "execution_count": 19,
   "metadata": {},
   "outputs": [],
   "source": [
    "x = 6 # Try different values of x\n",
    "if x > 0:\n",
    "    print('x is positive')"
   ]
  },
  {
   "cell_type": "markdown",
   "metadata": {},
   "source": [
    "You can also use an `else` statement ([Sec 5.5](http://greenteapress.com/thinkpython2/html/thinkpython2006.html#sec59)):"
   ]
  },
  {
   "cell_type": "code",
   "execution_count": null,
   "metadata": {},
   "outputs": [],
   "source": [
    "x = 6 # Try different values of x\n",
    "if x > 0:\n",
    "    print('x is positive')\n",
    "else:\n",
    "    print('x is not positive')"
   ]
  },
  {
   "cell_type": "markdown",
   "metadata": {},
   "source": [
    "Sometimes there are more than just two options in an `if` statement. In this case you use `elif` between `if` and `else` ([Sec 5.6](http://greenteapress.com/thinkpython2/html/thinkpython2006.html#sec60)):"
   ]
  },
  {
   "cell_type": "code",
   "execution_count": null,
   "metadata": {},
   "outputs": [],
   "source": [
    "x = 6 # Try different values of x\n",
    "if x > 0:\n",
    "    print('x is positive')\n",
    "elif x < 0:\n",
    "    print('x is negative')\n",
    "else:\n",
    "    print('x is zero')"
   ]
  },
  {
   "cell_type": "markdown",
   "metadata": {},
   "source": [
    "There are also **nested conditionals** ([Sec 5.7](http://greenteapress.com/thinkpython2/html/thinkpython2006.html#sec61)). An example is shown below:"
   ]
  },
  {
   "cell_type": "code",
   "execution_count": null,
   "metadata": {},
   "outputs": [],
   "source": [
    "# try with different numbers for x and y\n",
    "x = 6\n",
    "y = 10\n",
    "if x == y:\n",
    "    print('x and y are equal')\n",
    "else:\n",
    "    if x < y:\n",
    "        print('x is less than y')\n",
    "    else:\n",
    "        # only remaining possibility\n",
    "        print('x is greater than y')"
   ]
  },
  {
   "cell_type": "markdown",
   "metadata": {},
   "source": [
    "# `while` Loops"
   ]
  },
  {
   "cell_type": "markdown",
   "metadata": {},
   "source": [
    "Like the `for` loop, the `while` loop ([Sec 7.3](http://greenteapress.com/thinkpython2/html/thinkpython2008.html#sec84)) is another way to have repetition in your code. Although they are similar, the `while` loop is slightly different than the `for` loop. \n",
    "\n",
    "Run the following code and see what happens.  What happens if you do `countdown(0)` or `countdown(-5)`?"
   ]
  },
  {
   "cell_type": "code",
   "execution_count": null,
   "metadata": {},
   "outputs": [],
   "source": [
    "def countdown(n):\n",
    "    while n > 0:\n",
    "        print(n)\n",
    "        n = n - 1\n",
    "    print('Blastoff!')\n",
    "        \n",
    "countdown(10) "
   ]
  },
  {
   "cell_type": "markdown",
   "metadata": {},
   "source": [
    "The loop below will iterate through as long as x is greater than zero. The value of x is redefined each time the loop iterates through."
   ]
  },
  {
   "cell_type": "code",
   "execution_count": null,
   "metadata": {},
   "outputs": [],
   "source": [
    "x = 10\n",
    "while x > 0: # this loop will iterate through until x is equal to (or less than) zero\n",
    "    print(x)\n",
    "    x = x - 1 # x is redefined each time the loop is iterated through"
   ]
  },
  {
   "cell_type": "markdown",
   "metadata": {},
   "source": [
    "You can also write `while True` loops that iterate through forever (unless you include a [break](#break) function)"
   ]
  },
  {
   "cell_type": "code",
   "execution_count": null,
   "metadata": {},
   "outputs": [],
   "source": [
    "x = 1\n",
    "while True: # this will always be true so the while loop will go forever\n",
    "    print(x)\n",
    "    x = x + 1"
   ]
  },
  {
   "cell_type": "markdown",
   "metadata": {},
   "source": [
    "# `break`"
   ]
  },
  {
   "cell_type": "markdown",
   "metadata": {},
   "source": [
    "You can use `break` ([Sec 7.4](http://greenteapress.com/thinkpython2/html/thinkpython2008.html#sec85)) to force exit `while` loops (or `for` loop, etc)."
   ]
  },
  {
   "cell_type": "code",
   "execution_count": null,
   "metadata": {},
   "outputs": [],
   "source": [
    "while True:\n",
    "    line = input('Write \"done\" to quit: ')\n",
    "    if line == 'done':\n",
    "        break\n",
    "print('Done!')"
   ]
  },
  {
   "cell_type": "markdown",
   "metadata": {},
   "source": [
    "# Importing `time`"
   ]
  },
  {
   "cell_type": "markdown",
   "metadata": {},
   "source": [
    "Here is the Python 3 help manual for `time`:\n",
    "\n",
    "https://docs.python.org/3/library/time.html\n",
    "\n",
    "In python you can import the **time** module. This module is very useful as it can help you see how long parts of the code take to run. With this module you can also pause the code for a given amount of seconds.\n",
    "\n",
    "For example, in the last section we used a `while` statement to count down from 10, yet all the numbers printed at once. We can now `import time` and use `time.sleep(1)` in between each countdown so that the code sleeps/delays for 1 second in between numbers."
   ]
  },
  {
   "cell_type": "code",
   "execution_count": null,
   "metadata": {},
   "outputs": [],
   "source": [
    "import time\n",
    "\n",
    "def countdown(n):\n",
    "    while n > 0:\n",
    "        print(n)\n",
    "        n = n - 1\n",
    "        time.sleep(1)\n",
    "    print('Blastoff!')\n",
    "        \n",
    "countdown(10)"
   ]
  },
  {
   "cell_type": "markdown",
   "metadata": {},
   "source": [
    "The other `time` function that is nice to have is one to be able to calculate how much time has passed, which is also helpful when measuring loops or user actions, etc. \n",
    "\n",
    "In the time module `time.time()` gives the amount of time in seconds since the epoch (January 1st, 1970). This time is arbitrary so you must define time at the start and reference it to time later in the code."
   ]
  },
  {
   "cell_type": "code",
   "execution_count": null,
   "metadata": {},
   "outputs": [],
   "source": [
    "import time \n",
    "\n",
    "start_time = time.time() # use time.time() to save the amount of seconds since the epoch as a reference\n",
    "\n",
    "print('Hello, World') # can try any function here\n",
    "\n",
    "end_time = time.time() # use time.time() to save the time after the function\n",
    "\n",
    "total_time = end_time - start_time # this total time shows how long the computer took to print Hello, World\n",
    "\n",
    "print(total_time)"
   ]
  },
  {
   "cell_type": "markdown",
   "metadata": {},
   "source": [
    "Startegy when calculating how much time has passed:\n",
    "- before the action, record a baseline time\n",
    "- perform the actions\n",
    "- after the action, record the new time\n",
    "- subtract the baseline time (smaller) from the new time (bigger) to find the difference"
   ]
  },
  {
   "cell_type": "markdown",
   "metadata": {},
   "source": [
    "You can also use the time module to run a program for a specific amount of time. The following code runs for x seconds. Try changing the value of x."
   ]
  },
  {
   "cell_type": "code",
   "execution_count": null,
   "metadata": {},
   "outputs": [],
   "source": [
    "import time\n",
    "\n",
    "start_time = time.time() #use time.time() to get the amount of seconds since the epoch as a reference\n",
    "end_time = time.time() # define an intial end_time\n",
    "total_time = end_time - start_time # the total_time is the difference between the start and end times \n",
    "\n",
    "x = 5 #try changing the value of x - this will change how long the code runs for\n",
    "\n",
    "while total_time <= x: # this loop will run for the set amount of time x\n",
    "    time.sleep(1) #have the code pause for 1 second \n",
    "    end_time = time.time() # redefine end time\n",
    "    total_time = end_time - start_time # redefine the total time using the new end time\n",
    "    print(int(total_time)) #print the integer of the value so that it rounds "
   ]
  }
 ],
 "metadata": {
  "kernelspec": {
   "display_name": "Python 3",
   "language": "python",
   "name": "python3"
  },
  "language_info": {
   "codemirror_mode": {
    "name": "ipython",
    "version": 3
   },
   "file_extension": ".py",
   "mimetype": "text/x-python",
   "name": "python",
   "nbconvert_exporter": "python",
   "pygments_lexer": "ipython3",
   "version": "3.5.3"
  }
 },
 "nbformat": 4,
 "nbformat_minor": 2
}
