{
 "cells": [
  {
   "cell_type": "markdown",
   "metadata": {},
   "source": [
    "# Jupyter Notebook with MicroPython & Python\n",
    "\n",
    "Using Terminal: https://canvas.tufts.edu/courses/9610/pages/help-using-the-terminal\n",
    "\n",
    "Using VNC to \"copy from Jupyter\" and \"paste into Terminal REPL Prompt\": https://canvas.tufts.edu/courses/9610/pages/help-using-vnc-to-code-spike-prime\n",
    "\n",
    "Using Jupyter Notebooks: https://canvas.tufts.edu/courses/9610/pages/help-using-jupyter-notebooks"
   ]
  },
  {
   "cell_type": "markdown",
   "metadata": {},
   "source": [
    "## MicroPython Code (paste into Terminal to run):"
   ]
  },
  {
   "cell_type": "code",
   "execution_count": null,
   "metadata": {},
   "outputs": [],
   "source": [
    "import hub\n",
    "import time\n",
    "print('start')\n",
    "print('Beeeeeep!')\n",
    "hub.sound.beep(440,500)\n",
    "time.sleep(2)\n",
    "print('Beeeeeep! #2')\n",
    "hub.sound.beep(440,500)\n",
    "print('done')"
   ]
  },
  {
   "cell_type": "markdown",
   "metadata": {},
   "source": [
    "## Python Code (runs in Jupyter Notebooks natively):"
   ]
  },
  {
   "cell_type": "code",
   "execution_count": null,
   "metadata": {},
   "outputs": [],
   "source": [
    "import time\n",
    "from SPIKEPrimeSerial.Serial import SPIKEPrimeSerial as SPIKE\n",
    "mySPIKE = SPIKE()\n",
    "print('Initialized.')\n",
    "print('Connected devices:')\n",
    "print(mySPIKE.ListDevices())\n",
    "name = mySPIKE.OpenSerial()\n",
    "print('Connected to:',name)\n",
    "print('Beeeeeep!')\n",
    "mySPIKE.SendCommand('hub.sound.beep(440,500)')\n",
    "time.sleep(2)\n",
    "print('Beeeeeep! #2')\n",
    "mySPIKE.SendCommand('hub.sound.beep(440,500)')\n",
    "mySPIKE.CloseSerial()\n",
    "print('Serial Closed')"
   ]
  }
 ],
 "metadata": {
  "kernelspec": {
   "display_name": "Python 3",
   "language": "python",
   "name": "python3"
  },
  "language_info": {
   "codemirror_mode": {
    "name": "ipython",
    "version": 3
   },
   "file_extension": ".py",
   "mimetype": "text/x-python",
   "name": "python",
   "nbconvert_exporter": "python",
   "pygments_lexer": "ipython3",
   "version": "3.5.3"
  }
 },
 "nbformat": 4,
 "nbformat_minor": 2
}
