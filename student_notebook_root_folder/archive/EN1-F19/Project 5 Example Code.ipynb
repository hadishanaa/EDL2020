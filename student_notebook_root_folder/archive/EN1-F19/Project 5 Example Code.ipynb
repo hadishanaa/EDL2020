{
 "cells": [
  {
   "cell_type": "markdown",
   "metadata": {},
   "source": [
    "# EN1 Fall 2019: Project 5\n",
    "\n",
    "Here are some experimental codes you can use for **Project 5: Color and Distance Sensors**.\n",
    "\n",
    "SPIKE Prime setup for these examples are: motor plugged into Port A, Distance Sensor plugged into Port C, and Color Sensor plugged into Port E."
   ]
  },
  {
   "cell_type": "markdown",
   "metadata": {},
   "source": [
    "## Code 1: Setting Up SPIKE Prime\n",
    "\n",
    "(This is the same as Project 4.  Just to make sure things are working!)\n",
    "\n",
    "Use this to check that SPIKE Prime is connecting properly.  This code:\n",
    "- opens up a serial connection\n",
    "- checks battery\n",
    "- beeps\n",
    "- checks a Force Sensor plugged into Port D\n",
    "- then closes the connection\n",
    "\n",
    "If it opens serial, beeps, and closes but ***DOES NOT*** get good readings of the battery or Force Sensor, then there is a communication error between the SPIKE Prime and Jupyter Notebooks (reading values BACK).  Please try again!"
   ]
  },
  {
   "cell_type": "code",
   "execution_count": null,
   "metadata": {},
   "outputs": [],
   "source": [
    "import time\n",
    "# import the serial communication module (for talking to SPIKE Prime)\n",
    "from SPIKEPrimeSerial.Serial import SPIKEPrimeSerial as SPIKE\n",
    "\n",
    "mySPIKE = SPIKE()\n",
    "print(mySPIKE.ListDevices())\n",
    "# open a Serial Connection to your SPIKE Prime\n",
    "name = mySPIKE.OpenSerial()\n",
    "print('Connected to:',name)\n",
    "\n",
    "val = mySPIKE.GetValue('hub.battery.voltage()')\n",
    "print('SPIKE Prime Voltage:',val,'millivolts')\n",
    "\n",
    "print('Beeeeeep!')\n",
    "mySPIKE.SendCommand('hub.sound.beep()')\n",
    "\n",
    "val = mySPIKE.GetValue('hub.port.C.device.get()')\n",
    "print('Distance:',val,'cm')\n",
    "val = mySPIKE.GetValue('hub.port.E.device.get()')\n",
    "print('Color:',val)\n",
    "\n",
    "mySPIKE.CloseSerial()\n",
    "print('Closed Connection')"
   ]
  },
  {
   "cell_type": "markdown",
   "metadata": {},
   "source": [
    "## Code 2: Read Color Value\n",
    "\n",
    "This code is in three parts:\n",
    "1. Setting up and opening serial connection\n",
    "2. Reading the Color Sensor\n",
    "3. Closing the serial connection (always good programming)\n",
    "\n",
    "### Reading the Color Sensor\n",
    "\n",
    "The color sensor has three modes:\n",
    "- Mode 0: Color Mode (returns an integer representing the color, or `None` if no color detected)\n",
    "- Mode 1: Reflected Light (returns percent reflected light off a surface, 0% to 100%)\n",
    "- Mode 2: Ambient Light (returns percent ambient light entering sensor, 0% to 100%)\n",
    "\n",
    "Note: when you \"switch modes\" it takes a second for the sensor to adjust before you can read it.  So in the code below you'll see a slight delay added after switching modes and reading value in order to give sensor time to adjust.\n",
    "\n",
    "If the sensor doesn't read anything, it returns the Python `None` type.  If it does return a value, it is a `list` of one value: the integer (`int`) value of the reading. It also might return something else (e.g. Error). So, need to check the type of value before processing.\n",
    "\n",
    "Tons of info on `types`: https://docs.python.org/3.7/library/stdtypes.html\n",
    "\n",
    "### Color Mode Info\n",
    "\n",
    "Here are a few of the color numbers:\n",
    "- `4`: Light Blue\n",
    "- `5`: Green\n",
    "- `7`: Yellow\n",
    "- `10`: White\n",
    "\n",
    "You can experiment to determine other colors it detects and their associated values."
   ]
  },
  {
   "cell_type": "code",
   "execution_count": 6,
   "metadata": {},
   "outputs": [
    {
     "name": "stdout",
     "output_type": "stream",
     "text": [
      "Connected to: /dev/ttyACM0\n"
     ]
    }
   ],
   "source": [
    "import time\n",
    "# import the serial communication module (for talking to SPIKE Prime)\n",
    "from SPIKEPrimeSerial.Serial import SPIKEPrimeSerial as SPIKE\n",
    "mySPIKE = SPIKE()\n",
    "# open a Serial Connection to your SPIKE Prime\n",
    "name = mySPIKE.OpenSerial()\n",
    "print('Connected to:',name)"
   ]
  },
  {
   "cell_type": "code",
   "execution_count": 8,
   "metadata": {},
   "outputs": [
    {
     "name": "stdout",
     "output_type": "stream",
     "text": [
      "Color in Mode 0 (color): 4\n",
      "Color in Mode 1 (reflected): 66\n",
      "Color in Mode 2 (abient): 0\n"
     ]
    }
   ],
   "source": [
    "# here is the code to read the Color Sensor\n",
    "time_delay = 0.08\n",
    "\n",
    "# test Color Sensor (Port E) mode 0 (color mode)\n",
    "mySPIKE.SendCommand('hub.port.E.device.mode(0)')\n",
    "time.sleep(time_delay)\n",
    "val = mySPIKE.GetValue('hub.port.E.device.get()') # get value of Color Sensor\n",
    "time.sleep(time_delay)\n",
    "if type(val) == None:\n",
    "    color = None # should already be this\n",
    "elif type(val) == list:\n",
    "    color = val[0] # convert value to integer\n",
    "else:\n",
    "    color = 'Error (' + str(val) + ')' # set to string\n",
    "print('Color in Mode 0 (color):', color)\n",
    "\n",
    "# test Color Sensor (Port E) mode 1 (reflective mode)\n",
    "mySPIKE.SendCommand('hub.port.E.device.mode(1)')\n",
    "time.sleep(time_delay)\n",
    "val = mySPIKE.GetValue('hub.port.E.device.get()') # get value of Color Sensor\n",
    "time.sleep(time_delay)\n",
    "if type(val) == None:\n",
    "    color = None # should already be this\n",
    "elif type(val) == list:\n",
    "    color = val[0] # convert value to integer\n",
    "else:\n",
    "    color = 'Error (' + str(val) + ')' # set to string\n",
    "print('Color in Mode 1 (reflected):', color)\n",
    "\n",
    "# test Color Sensor (Port E) mode 2 (ambient mode)\n",
    "mySPIKE.SendCommand('hub.port.E.device.mode(2)')\n",
    "time.sleep(time_delay)\n",
    "val = mySPIKE.GetValue('hub.port.E.device.get()') # get value of Color Sensor\n",
    "time.sleep(time_delay)\n",
    "if type(val) == None:\n",
    "    color = None # should already be this\n",
    "elif type(val) == list:\n",
    "    color = val[0] # convert value to integer\n",
    "else:\n",
    "    color = 'Error (' + str(val) + ')' # set to string\n",
    "print('Color in Mode 2 (abient):', color)\n"
   ]
  },
  {
   "cell_type": "code",
   "execution_count": 5,
   "metadata": {},
   "outputs": [
    {
     "name": "stdout",
     "output_type": "stream",
     "text": [
      "Closed Connection\n"
     ]
    }
   ],
   "source": [
    "mySPIKE.CloseSerial()\n",
    "print('Closed Connection')"
   ]
  },
  {
   "cell_type": "markdown",
   "metadata": {},
   "source": [
    "## Code 3: Color Sensor Lookup\n",
    "\n",
    "Here is a helper function for looking up the color and returning a string.\n",
    "\n",
    "If the color isn't detected (python `None`) it returns the string `'None'` instead."
   ]
  },
  {
   "cell_type": "code",
   "execution_count": null,
   "metadata": {},
   "outputs": [],
   "source": [
    "import time\n",
    "# import the serial communication module (for talking to SPIKE Prime)\n",
    "from SPIKEPrimeSerial.Serial import SPIKEPrimeSerial as SPIKE\n",
    "mySPIKE = SPIKE()\n",
    "# open a Serial Connection to your SPIKE Prime\n",
    "name = mySPIKE.OpenSerial()\n",
    "print('Connected to:',name)"
   ]
  },
  {
   "cell_type": "code",
   "execution_count": null,
   "metadata": {},
   "outputs": [],
   "source": [
    "# color helper function; import once\n",
    "def lookup_color(mySPIKE, port):\n",
    "    time_delay = 0.08 # how long to wait\n",
    "    # color is mode(0) for Color Sensor\n",
    "    mySPIKE.SendCommand('hub.port.' + str(port) + '.device.mode(0)')\n",
    "    time.sleep(time_delay) # wait after switching mode\n",
    "    val = mySPIKE.GetValue('hub.port.' + str(port) + '.device.get()') # get value of Color Sensor\n",
    "    if type(val) == None:\n",
    "        color = 'None' # note returning a STRING version of 'None'\n",
    "    elif type(val) == list:\n",
    "        color = val[0] # convert value to integer\n",
    "        # now convert that integer into a string representing the color\n",
    "        if color == 4:\n",
    "            color = 'Light Blue'\n",
    "        elif color == 5:\n",
    "            color = 'Green'\n",
    "        elif color == 7:\n",
    "            color = 'Yellow'\n",
    "        elif color == 10:\n",
    "            color = 'White'\n",
    "        else:\n",
    "            # default case\n",
    "            color = 'Unknown Color'\n",
    "        pass\n",
    "    else:\n",
    "        # error, still return 'None'\n",
    "        color = 'None' # set to string\n",
    "    return color"
   ]
  },
  {
   "cell_type": "code",
   "execution_count": null,
   "metadata": {},
   "outputs": [],
   "source": [
    "# read color in a loop\n",
    "# - read 10 times, pausing 2-seconds each time\n",
    "time_delay = 2\n",
    "print('Reading color 10 times...')\n",
    "for i in range(10):\n",
    "    color = lookup_color(mySPIKE, 'E')\n",
    "    print('Color is:', color)\n",
    "    # do something based on color\n",
    "    if color == 'Green':\n",
    "        print(' - GREEN MEANS GOOD TO GO!')\n",
    "    time.sleep(time_delay) # delay before next color read"
   ]
  },
  {
   "cell_type": "code",
   "execution_count": null,
   "metadata": {},
   "outputs": [],
   "source": [
    "mySPIKE.CloseSerial()\n",
    "print('Closed Connection')"
   ]
  },
  {
   "cell_type": "markdown",
   "metadata": {},
   "source": [
    "## Code 4: Reading the Distance Sensor\n",
    "\n",
    "This code is in three parts:\n",
    "1. Setting up and opening serial connection\n",
    "2. Reading the Distance Sensor\n",
    "3. Closing the serial connection (always good programming)\n",
    "\n",
    "Note: the Distance Sensor has different modes:\n",
    "- Mode 0: good for (???)\n",
    "- Mode 1: good for (???)\n",
    "- Mode 2: good for (???)\n",
    "\n",
    "Note: when you \"switch modes\" it takes a second for the sensor to adjust before you can read it.  So in the code below you'll see a slight delay added after switching modes and reading value in order to give sensor time to adjust.\n",
    "\n",
    "If the sensor doesn't read anything, it returns the Python `None` type.  If it does return a value, it is a `list` of one value: the integer (`int`) value of the reading. It also might return something else (e.g. Error). So, need to check the type of value before processing.\n",
    "\n",
    "Tons of info on `types`: https://docs.python.org/3.7/library/stdtypes.html"
   ]
  },
  {
   "cell_type": "code",
   "execution_count": null,
   "metadata": {},
   "outputs": [],
   "source": [
    "import time\n",
    "# import the serial communication module (for talking to SPIKE Prime)\n",
    "from SPIKEPrimeSerial.Serial import SPIKEPrimeSerial as SPIKE\n",
    "mySPIKE = SPIKE()\n",
    "# open a Serial Connection to your SPIKE Prime\n",
    "name = mySPIKE.OpenSerial()\n",
    "print('Connected to:',name)"
   ]
  },
  {
   "cell_type": "code",
   "execution_count": null,
   "metadata": {},
   "outputs": [],
   "source": [
    "# here is the code to read the Distance Sensor\n",
    "time_delay = 0.08\n",
    "\n",
    "# test Distance Sensor (Port C) mode 0\n",
    "mySPIKE.SendCommand('hub.port.C.device.mode(0)')\n",
    "time.sleep(time_delay)\n",
    "val = mySPIKE.GetValue('hub.port.C.device.get()') # get value of Distance Sensor\n",
    "time.sleep(time_delay)\n",
    "if type(val) == None:\n",
    "    dist = None # should already be this\n",
    "elif type(val) == list:\n",
    "    dist = val[0] # convert value to integer\n",
    "else:\n",
    "    dist = 'Error (' + str(val) + ')' # set to string\n",
    "print('Distance in Mode 0:', dist, 'cm')\n",
    "\n",
    "# test Distance Sensor (Port C) mode 1\n",
    "mySPIKE.SendCommand('hub.port.C.device.mode(1)')\n",
    "time.sleep(time_delay)\n",
    "val = mySPIKE.GetValue('hub.port.C.device.get()') # get value of Distance Sensor\n",
    "time.sleep(time_delay)\n",
    "if val == None:\n",
    "    dist = None\n",
    "elif type(val) == list:\n",
    "    dist = val[0] # convert value to integer\n",
    "else:\n",
    "    dist = 'Error (' + str(val) + ')' # set to string\n",
    "print('Distance in Mode 1:', dist, 'cm')\n",
    "\n",
    "# test Distance Sensor (Port C) mode 2\n",
    "mySPIKE.SendCommand('hub.port.C.device.mode(2)')\n",
    "time.sleep(time_delay)\n",
    "val = mySPIKE.GetValue('hub.port.C.device.get()') # get value of Distance Sensor\n",
    "time.sleep(time_delay)\n",
    "if val == None:\n",
    "    dist = None\n",
    "elif type(val) == list:\n",
    "    dist = val[0] # convert value to integer\n",
    "else:\n",
    "    dist = 'Error (' + str(val) + ')' # set to string\n",
    "print('Distance in Mode 2:', dist, 'cm')"
   ]
  },
  {
   "cell_type": "code",
   "execution_count": null,
   "metadata": {},
   "outputs": [],
   "source": [
    "mySPIKE.CloseSerial()\n",
    "print('Closed Connection')"
   ]
  },
  {
   "cell_type": "markdown",
   "metadata": {},
   "source": [
    "## Code 5: Average Distance (across modes)\n",
    "\n",
    "Now we've created a helper function (`avg_sensor()`) that does the reading/processing of the Distance Sensor reading for us.  It checks each mode, stores the values, and averages them together.  If none of them return value data, it returns `int(-1)` so we can be sure to *always* be getting a value (and if `>= 0`, we know a valid value!).\n",
    "\n",
    "Then we read the sensor in a loop so we can test it out."
   ]
  },
  {
   "cell_type": "code",
   "execution_count": null,
   "metadata": {},
   "outputs": [],
   "source": [
    "import time\n",
    "# import the serial communication module (for talking to SPIKE Prime)\n",
    "from SPIKEPrimeSerial.Serial import SPIKEPrimeSerial as SPIKE\n",
    "mySPIKE = SPIKE()\n",
    "# open a Serial Connection to your SPIKE Prime\n",
    "name = mySPIKE.OpenSerial()\n",
    "print('Connected to:',name)"
   ]
  },
  {
   "cell_type": "code",
   "execution_count": null,
   "metadata": {},
   "outputs": [],
   "source": [
    "# this is the function that does the averaging\n",
    "def avg_sensor(mySPIKE, port, modes):\n",
    "    time_delay = 0.08 # how long to wait\n",
    "    average = 0\n",
    "    num_data_points = 0\n",
    "    for mode in modes:\n",
    "        # code that sends the new mode value to the right port\n",
    "        mySPIKE.SendCommand('hub.port.' + str(port) + '.device.mode(' + str(mode) + ')')\n",
    "        time.sleep(time_delay)\n",
    "        val = mySPIKE.GetValue('hub.port.' + str(port) + '.device.get()')\n",
    "        if type(val) == list:\n",
    "            sensor_data = val[0]\n",
    "            if type(sensor_data) == int:\n",
    "                average = average + sensor_data\n",
    "                num_data_points = num_data_points + 1\n",
    "        time.sleep(time_delay)\n",
    "    if num_data_points > 0:\n",
    "        return average/num_data_points\n",
    "    else:\n",
    "        return -1 # didn't get any valid data, return -1"
   ]
  },
  {
   "cell_type": "code",
   "execution_count": null,
   "metadata": {},
   "outputs": [],
   "source": [
    "# take 10 readings, every 1/2 second: so five seconds of data\n",
    "for i in range(10):\n",
    "    current_val = avg_sensor(mySPIKE, 'C', [0, 1, 2]) # try modes 0, 1, and 2\n",
    "    print('Distance Sensor:', current_val, 'cm')\n",
    "    time.sleep(0.5)"
   ]
  },
  {
   "cell_type": "code",
   "execution_count": null,
   "metadata": {},
   "outputs": [],
   "source": [
    "mySPIKE.CloseSerial()\n",
    "print('Closed Connection')"
   ]
  },
  {
   "cell_type": "markdown",
   "metadata": {},
   "source": [
    "# MicroPython Code\n",
    "\n",
    "If you are running MicroPython code directly on the SPIKE Prime (not in Jupyter Notebook), then here are the above examples in MicroPython."
   ]
  },
  {
   "cell_type": "markdown",
   "metadata": {},
   "source": [
    "## Code 6: Read Color Sensor (MicroPython Code)\n",
    "\n",
    "NOTE: must run on SPIKE Prime (Not in Jupyter Notebook)\n",
    "\n",
    "This code reads Mode 0 (Color Mode) and displays color to the Hub's LED screen"
   ]
  },
  {
   "cell_type": "code",
   "execution_count": null,
   "metadata": {},
   "outputs": [],
   "source": [
    "# Note: to run on SPIKE Prime (NOT in Jupyter Notebook!)\n",
    "# This code reads the Color Sensor (on Port E) and displays value to console\n",
    "import time\n",
    "import hub\n",
    "hub.sound.beep() # make sure working\n",
    "# set mode\n",
    "hub.port.E.device.mode(0)\n",
    "hub.display.show('Color:', fade=4) # color mode\n",
    "time.sleep(3)\n",
    "val = hub.port.E.device.get()\n",
    "print(val) # print to console (debugging)\n",
    "if type(val) == None:\n",
    "    color = None # should already be this\n",
    "elif type(val) == list:\n",
    "    color = val[0] # convert value to integer\n",
    "else:\n",
    "    color = 'Error (' + str(val) + ')' # set to string\n",
    "hub.display.show(str(color), fade=4) # show color"
   ]
  },
  {
   "cell_type": "markdown",
   "metadata": {},
   "source": [
    "## Code 7: Lookup Color Name (MicroPython Code)\n",
    "\n",
    "NOTE: must run on SPIKE Prime (Not in Jupyter Notebook)\n",
    "\n",
    "Defines a function to help with color detection (converts number to name).\n",
    "\n",
    "Then calls that in a loop displaying detected color to the Hub's LED screen."
   ]
  },
  {
   "cell_type": "code",
   "execution_count": null,
   "metadata": {},
   "outputs": [],
   "source": [
    "# Note: to run on SPIKE Prime (NOT in Jupyter Notebook!)\n",
    "# this just defines a function; doesn't actually \"do\" anything\n",
    "# only need to input/run this once, then the next cell of code will call it\n",
    "def lookup_color(port):\n",
    "    time_delay = 0.08 # how long to wait\n",
    "    # color is mode(0) for Color Sensor\n",
    "    eval('hub.port.' + str(port) + '.device.mode(0)')\n",
    "    time.sleep(time_delay) # wait after switching mode\n",
    "    val = eval('hub.port.' + str(port) + '.device.get()') # get value of Color Sensor\n",
    "    if type(val) == None:\n",
    "        color = 'None' # note returning a STRING version of 'None'\n",
    "    elif type(val) == list:\n",
    "        color = val[0] # convert value to integer\n",
    "        # now convert that integer into a string representing the color\n",
    "        if color == 4:\n",
    "            color = 'Light Blue'\n",
    "        elif color == 5:\n",
    "            color = 'Green'\n",
    "        elif color == 7:\n",
    "            color = 'Yellow'\n",
    "        elif color == 10:\n",
    "            color = 'White'\n",
    "        else:\n",
    "            # default case\n",
    "            color = 'Unknown Color'\n",
    "        pass\n",
    "    else:\n",
    "        # error, still return 'None'\n",
    "        color = 'None' # set to string\n",
    "    return color"
   ]
  },
  {
   "cell_type": "code",
   "execution_count": null,
   "metadata": {},
   "outputs": [],
   "source": [
    "# Note: to run on SPIKE Prime (NOT in Jupyter Notebook!)\n",
    "# This calls the lookup_color() function 10 times (once every 3 seconds)\n",
    "# and displays the name of the color detected each time\n",
    "import time\n",
    "import hub\n",
    "time_delay = 3\n",
    "for i in range(10):\n",
    "    hub.display.show(lookup_color('E'), fade=4)\n",
    "    time.sleep(time_delay)"
   ]
  },
  {
   "cell_type": "markdown",
   "metadata": {},
   "source": [
    "## Code 8: Read Distance Sensor (MicroPython Code)\n",
    "\n",
    "NOTE: must run on SPIKE Prime (Not in Jupyter Notebook)\n",
    "\n",
    "Reads a Distance Sensor plugged into Port C.  (Reads three times: for modes 0, 1, and 2.)"
   ]
  },
  {
   "cell_type": "code",
   "execution_count": null,
   "metadata": {},
   "outputs": [],
   "source": [
    "# Note: to run on SPIKE Prime (NOT in Jupyter Notebook!)\n",
    "# In a loop, this makes a decision based on the Force Sensor value\n",
    "# - run motor if force is strong\n",
    "import time\n",
    "import hub\n",
    "time_delay = 0.08\n",
    "modes = [0, 1, 2]\n",
    "for mode in modes:\n",
    "    hub.port.C.device.mode(mode) # switch mode\n",
    "    time.sleep(time_delay)\n",
    "    val = hub.port.C.device.get() # read value\n",
    "    print('Mode',mode,', Val',val) # print to console"
   ]
  },
  {
   "cell_type": "markdown",
   "metadata": {},
   "source": [
    "## Code 9: Read Average Distance (MicroPython Code)\n",
    "\n",
    "NOTE: must run on SPIKE Prime (Not in Jupyter Notebook)\n",
    "\n",
    "Two Code Cells:\n",
    "- first is a helper function that reads the distance multiple times (based on list of modes passed in)\n",
    "- the second calls this function 10 times (once every 1/2 second)"
   ]
  },
  {
   "cell_type": "code",
   "execution_count": null,
   "metadata": {},
   "outputs": [],
   "source": [
    "# Note: to run on SPIKE Prime (NOT in Jupyter Notebook!)\n",
    "def avg_sensor(port, modes):\n",
    "    time_delay = 0.08 # how long to wait\n",
    "    average = 0\n",
    "    num_data_points = 0\n",
    "    for mode in modes:\n",
    "        # code that sends the new mode value to the right port\n",
    "        eval('hub.port.' + str(port) + '.device.mode(' + str(mode) + ')')\n",
    "        time.sleep(time_delay)\n",
    "        val = eval('hub.port.' + str(port) + '.device.get()')\n",
    "        if type(val) == list:\n",
    "            sensor_data = val[0]\n",
    "            if type(sensor_data) == int:\n",
    "                average = average + sensor_data\n",
    "                num_data_points = num_data_points + 1\n",
    "            pass\n",
    "        pass\n",
    "    if num_data_points > 0:\n",
    "        return average/num_data_points\n",
    "    else:\n",
    "        return -1 # didn't get any valid data, return -1"
   ]
  },
  {
   "cell_type": "code",
   "execution_count": null,
   "metadata": {},
   "outputs": [],
   "source": [
    "# Note: to run on SPIKE Prime (NOT in Jupyter Notebook!)\n",
    "# Reads Distance Sensor (in Port C) 10 times (once every 1/2 second)\n",
    "import time\n",
    "import hub\n",
    "for i in range(10):\n",
    "    dist = avg_sensor('C',[0,1,2])\n",
    "    print('Distance:', dist) # print to console\n",
    "    hub.display.show(str(dist), fade=4) # show on Hub's LED screen\n",
    "    time.sleep(0.5)\n",
    "print('done')"
   ]
  },
  {
   "cell_type": "markdown",
   "metadata": {},
   "source": [
    "## Code 10: Read Average Distance (MicroPython Code)\n",
    "\n",
    "NOTE: must run on SPIKE Prime (Not in Jupyter Notebook)\n",
    "\n",
    "Bonus code (using the `avg_sensor()` function from Code 9 above): display a little \"rotating dial\" (using the Clock Image) on the front of the SPIKE Prime based on the Distance Sensor.\n",
    "\n",
    "- Distance Sensor plugged into Port C\n",
    "- Force Sensor (for exiting) plugged into Port D"
   ]
  },
  {
   "cell_type": "code",
   "execution_count": null,
   "metadata": {},
   "outputs": [],
   "source": [
    "# Note: to run on SPIKE Prime (NOT in Jupyter Notebook!)\n",
    "# Reads Distance Sensor and display \"clock\" on front of SPIKE Prime showing relative distance\n",
    "import time\n",
    "import hub\n",
    "val = hub.port.D.device.get() # get value of Force Sensor\n",
    "force = val[0] # convert value to integer\n",
    "while not force > 0: # loop until Force Sensor pushed\n",
    "    dist = avg_sensor('C',[0,1,2]) # get distance from sensor in Port C\n",
    "    if dist > 0:\n",
    "        clock = dist/101 # percentage distance 0->100 (but don't want 100%)\n",
    "        clock = clock * 12 # convert to 0->11\n",
    "        hub.display.show(eval('hub.Image.CLOCK' + str(int(clock)+1)))\n",
    "    else:\n",
    "        # bad value (-1) came back from avg_sensor\n",
    "        hub.display.show(hub.Image.SAD)\n",
    "    # recalculate force value for next loop iteration\n",
    "    val = hub.port.D.device.get() # get value of Force Sensor\n",
    "    force = val[0] # convert value to integer\n",
    "print('done')"
   ]
  }
 ],
 "metadata": {
  "kernelspec": {
   "display_name": "Python 3",
   "language": "python",
   "name": "python3"
  },
  "language_info": {
   "codemirror_mode": {
    "name": "ipython",
    "version": 3
   },
   "file_extension": ".py",
   "mimetype": "text/x-python",
   "name": "python",
   "nbconvert_exporter": "python",
   "pygments_lexer": "ipython3",
   "version": "3.5.3"
  }
 },
 "nbformat": 4,
 "nbformat_minor": 2
}
