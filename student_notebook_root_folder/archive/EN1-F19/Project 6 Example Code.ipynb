{
 "cells": [
  {
   "cell_type": "markdown",
   "metadata": {},
   "source": [
    "# EN1 Fall 2019: Project 6\n",
    "\n",
    "Here are some experimental codes you can use for **Project 6: Trailer Control**."
   ]
  },
  {
   "cell_type": "markdown",
   "metadata": {},
   "source": [
    "## Code 1: Setting Up SPIKE Prime\n",
    "\n",
    "(This is the same as Project 4.  Just to make sure things are working!)\n",
    "\n",
    "Use this to check that SPIKE Prime is connecting properly.  This code:\n",
    "- opens up a serial connection\n",
    "- checks battery\n",
    "- beeps\n",
    "- then closes the connection\n",
    "\n",
    "If it opens serial, beeps, and closes but ***DOES NOT*** get good readings of the battery, then there is a communication error between the SPIKE Prime and Jupyter Notebooks (reading values BACK).  Please try again!"
   ]
  },
  {
   "cell_type": "code",
   "execution_count": null,
   "metadata": {},
   "outputs": [],
   "source": [
    "import time\n",
    "# import the serial communication module (for talking to SPIKE Prime)\n",
    "from SPIKEPrimeSerial.Serial import SPIKEPrimeSerial as SPIKE\n",
    "\n",
    "mySPIKE = SPIKE()\n",
    "print(mySPIKE.ListDevices())\n",
    "# open a Serial Connection to your SPIKE Prime\n",
    "name = mySPIKE.OpenSerial()\n",
    "print('Connected to:',name)\n",
    "\n",
    "val = mySPIKE.GetValue('hub.battery.voltage()')\n",
    "print('SPIKE Prime Voltage:',val,'millivolts')\n",
    "\n",
    "print('Beeeeeep!')\n",
    "mySPIKE.SendCommand('hub.sound.beep()')\n",
    "\n",
    "mySPIKE.CloseSerial()\n",
    "print('Closed Connection')"
   ]
  },
  {
   "cell_type": "markdown",
   "metadata": {},
   "source": [
    "## Code 2: Read Acceleration\n",
    "\n",
    "This code is in three parts:\n",
    "1. Setting up and opening serial connection\n",
    "2. Reading the Hub's Acceleration\n",
    "3. Closing the serial connection (always good programming)\n",
    "\n",
    "### Reading the Hub's Acceleration\n",
    "\n",
    "The SPIKE Prime Hub has a built in 3-axis Accelerometer.  Reading it returns a `tuple` of three values, one for each axis.  A `tuple` is like a `list` but it's \"read only\" (access data, but can't change it).  You still get at the individual values the same (with `[ ]` subscript notation).\n",
    "\n",
    "https://docs.python.org/3.3/tutorial/datastructures.html#tuples-and-sequences"
   ]
  },
  {
   "cell_type": "code",
   "execution_count": null,
   "metadata": {},
   "outputs": [],
   "source": [
    "import time\n",
    "# import the serial communication module (for talking to SPIKE Prime)\n",
    "from SPIKEPrimeSerial.Serial import SPIKEPrimeSerial as SPIKE\n",
    "mySPIKE = SPIKE()\n",
    "# open a Serial Connection to your SPIKE Prime\n",
    "name = mySPIKE.OpenSerial()\n",
    "print('Connected to:',name)"
   ]
  },
  {
   "cell_type": "code",
   "execution_count": null,
   "metadata": {},
   "outputs": [],
   "source": [
    "# here is the code to read the Accelerometer\n",
    "val = mySPIKE.GetValue('hub.motion.accelerometer()')\n",
    "print('Raw acceleration data:', val)\n",
    "\n",
    "if type(val) == tuple:\n",
    "    accl_x = val[0] # convert value to integer\n",
    "    accl_y = val[1] # convert value to integer\n",
    "    accl_z = val[2] # convert value to integer\n",
    "else:\n",
    "    accl_x = 'Error (' + str(val) + ')' # set to string\n",
    "    accl_y = 'Error (' + str(val) + ')' # set to string\n",
    "    accl_z = 'Error (' + str(val) + ')' # set to string\n",
    "\n",
    "print('Acceleration X:', accl_x)\n",
    "print('Acceleration Y:', accl_y)\n",
    "print('Acceleration Z:', accl_z)"
   ]
  },
  {
   "cell_type": "code",
   "execution_count": null,
   "metadata": {},
   "outputs": [],
   "source": [
    "mySPIKE.CloseSerial()\n",
    "print('Closed Connection')"
   ]
  },
  {
   "cell_type": "markdown",
   "metadata": {},
   "source": [
    "## Code 3: Read Gyro\n",
    "\n",
    "Similar to acceleration, you can read the built-in Gyro within the SPIKE Prime Hub.  This gives the rotational motion in degrees/sec."
   ]
  },
  {
   "cell_type": "code",
   "execution_count": null,
   "metadata": {},
   "outputs": [],
   "source": [
    "import time\n",
    "# import the serial communication module (for talking to SPIKE Prime)\n",
    "from SPIKEPrimeSerial.Serial import SPIKEPrimeSerial as SPIKE\n",
    "mySPIKE = SPIKE()\n",
    "# open a Serial Connection to your SPIKE Prime\n",
    "name = mySPIKE.OpenSerial()\n",
    "print('Connected to:',name)"
   ]
  },
  {
   "cell_type": "code",
   "execution_count": null,
   "metadata": {},
   "outputs": [],
   "source": [
    "# here is the code to read the Accelerometer\n",
    "val = mySPIKE.GetValue('hub.motion.gyroscope()')\n",
    "print('Raw gyro data:', val)\n",
    "\n",
    "if type(val) == tuple:\n",
    "    gyro_x = val[0] # convert value to integer\n",
    "    gyro_y = val[1] # convert value to integer\n",
    "    gyro_z = val[2] # convert value to integer\n",
    "else:\n",
    "    gyro_x = 'Error (' + str(val) + ')' # set to string\n",
    "    gyro_y = 'Error (' + str(val) + ')' # set to string\n",
    "    gyro_z = 'Error (' + str(val) + ')' # set to string\n",
    "\n",
    "print('Gyro X:', gyro_x)\n",
    "print('Gyro Y:', gyro_y)\n",
    "print('Gyro Z:', gyro_z)"
   ]
  },
  {
   "cell_type": "code",
   "execution_count": null,
   "metadata": {},
   "outputs": [],
   "source": [
    "mySPIKE.CloseSerial()\n",
    "print('Closed Connection')"
   ]
  },
  {
   "cell_type": "markdown",
   "metadata": {},
   "source": [
    "## Code 4: Read Position\n",
    "\n",
    "This gives the Yaw, Pitch and Roll rotation of the SPIKE Prime Hub in degrees."
   ]
  },
  {
   "cell_type": "code",
   "execution_count": null,
   "metadata": {},
   "outputs": [],
   "source": [
    "import time\n",
    "# import the serial communication module (for talking to SPIKE Prime)\n",
    "from SPIKEPrimeSerial.Serial import SPIKEPrimeSerial as SPIKE\n",
    "mySPIKE = SPIKE()\n",
    "# open a Serial Connection to your SPIKE Prime\n",
    "name = mySPIKE.OpenSerial()\n",
    "print('Connected to:',name)"
   ]
  },
  {
   "cell_type": "code",
   "execution_count": null,
   "metadata": {},
   "outputs": [],
   "source": [
    "# here is the code to read the Accelerometer\n",
    "val = mySPIKE.GetValue('hub.motion.position()')\n",
    "print('Raw position data:', val)\n",
    "\n",
    "if type(val) == tuple:\n",
    "    position_x = val[0] # convert value to integer\n",
    "    position_y = val[1] # convert value to integer\n",
    "    position_z = val[2] # convert value to integer\n",
    "else:\n",
    "    position_x = 'Error (' + str(val) + ')' # set to string\n",
    "    position_y = 'Error (' + str(val) + ')' # set to string\n",
    "    position_z = 'Error (' + str(val) + ')' # set to string\n",
    "\n",
    "print('Position X:', position_x)\n",
    "print('Position Y:', position_y)\n",
    "print('Position Z:', gyro_z)"
   ]
  },
  {
   "cell_type": "code",
   "execution_count": null,
   "metadata": {},
   "outputs": [],
   "source": [
    "mySPIKE.CloseSerial()\n",
    "print('Closed Connection')"
   ]
  },
  {
   "cell_type": "markdown",
   "metadata": {},
   "source": [
    "## Code 5: Reading Position in a Loop\n",
    "\n",
    "Now we create a helper function to read the position of the Hub, and then call it in a loop."
   ]
  },
  {
   "cell_type": "code",
   "execution_count": null,
   "metadata": {},
   "outputs": [],
   "source": [
    "import time\n",
    "# import the serial communication module (for talking to SPIKE Prime)\n",
    "from SPIKEPrimeSerial.Serial import SPIKEPrimeSerial as SPIKE\n",
    "mySPIKE = SPIKE()\n",
    "# open a Serial Connection to your SPIKE Prime\n",
    "name = mySPIKE.OpenSerial()\n",
    "print('Connected to:',name)"
   ]
  },
  {
   "cell_type": "code",
   "execution_count": null,
   "metadata": {},
   "outputs": [],
   "source": [
    "# here is helper code for position\n",
    "def getPosition(mySPIKE, direction='X'):\n",
    "    val = mySPIKE.GetValue('hub.motion.position()')\n",
    "    if type(val) == tuple:\n",
    "        position_x = val[0] # convert value to integer\n",
    "        position_y = val[1] # convert value to integer\n",
    "        position_z = val[2] # convert value to integer\n",
    "    else:\n",
    "        position_x = 'Error (' + str(val) + ')' # set to string\n",
    "        position_y = 'Error (' + str(val) + ')' # set to string\n",
    "        position_z = 'Error (' + str(val) + ')' # set to string\n",
    "    if direction == 'X':\n",
    "        return position_x\n",
    "    elif direction == 'Y':\n",
    "        return position_y\n",
    "    else:\n",
    "        return position_z"
   ]
  },
  {
   "cell_type": "code",
   "execution_count": null,
   "metadata": {},
   "outputs": [],
   "source": [
    "# take 10 readings, every 1/2 second: so five seconds of data\n",
    "for i in range(10):\n",
    "    current_val = getPosition(mySPIKE, 'X') # or try 'X', 'Y', and 'Z'\n",
    "    print('Hub Position:', current_val, 'degrees')\n",
    "    time.sleep(0.5)"
   ]
  },
  {
   "cell_type": "code",
   "execution_count": null,
   "metadata": {},
   "outputs": [],
   "source": [
    "mySPIKE.CloseSerial()\n",
    "print('Closed Connection')"
   ]
  }
 ],
 "metadata": {
  "kernelspec": {
   "display_name": "Python 3",
   "language": "python",
   "name": "python3"
  },
  "language_info": {
   "codemirror_mode": {
    "name": "ipython",
    "version": 3
   },
   "file_extension": ".py",
   "mimetype": "text/x-python",
   "name": "python",
   "nbconvert_exporter": "python",
   "pygments_lexer": "ipython3",
   "version": "3.5.3"
  }
 },
 "nbformat": 4,
 "nbformat_minor": 2
}
