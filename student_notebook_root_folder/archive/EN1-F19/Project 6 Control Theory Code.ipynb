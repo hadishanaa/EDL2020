{
 "cells": [
  {
   "cell_type": "markdown",
   "metadata": {},
   "source": [
    "# Project 6: Control Theory Code\n",
    "\n",
    "Motors in Port A and Port B\n",
    "Distance Sensor in Port C"
   ]
  },
  {
   "cell_type": "markdown",
   "metadata": {},
   "source": [
    "## 1. General Check Connection Code\n",
    "\n",
    "To run a few times to make sure connection is solid and getting good data for battery and Distance Sensor."
   ]
  },
  {
   "cell_type": "code",
   "execution_count": null,
   "metadata": {},
   "outputs": [],
   "source": [
    "import time\n",
    "# import the serial communication module (for talking to SPIKE Prime)\n",
    "from SPIKEPrimeSerial.Serial import SPIKEPrimeSerial as SPIKE\n",
    "\n",
    "mySPIKE = SPIKE()\n",
    "print(mySPIKE.ListDevices())\n",
    "# open a Serial Connection to your SPIKE Prime\n",
    "name = mySPIKE.OpenSerial()\n",
    "print('Connected to:',name)\n",
    "\n",
    "val = mySPIKE.GetValue('hub.battery.voltage()')\n",
    "print('SPIKE Prime Voltage:',val,'millivolts')\n",
    "\n",
    "print('Beeeeeep!')\n",
    "mySPIKE.SendCommand('hub.sound.beep()')\n",
    "\n",
    "mySPIKE.SendCommand('hub.port.C.device.mode(0)')\n",
    "time.sleep(1)\n",
    "val = mySPIKE.GetValue('hub.port.C.device.get()')\n",
    "print('Distance:',val,'cm')\n",
    "\n",
    "mySPIKE.CloseSerial()\n",
    "print('Closed Connection')"
   ]
  },
  {
   "cell_type": "markdown",
   "metadata": {},
   "source": [
    "## 2. Drive to object\n",
    "\n",
    "Drive forward till reach object (distance <= 4cm)"
   ]
  },
  {
   "cell_type": "code",
   "execution_count": null,
   "metadata": {},
   "outputs": [],
   "source": [
    "import time\n",
    "# import the serial communication module (for talking to SPIKE Prime)\n",
    "from SPIKEPrimeSerial.Serial import SPIKEPrimeSerial as SPIKE\n",
    "\n",
    "mySPIKE = SPIKE()\n",
    "print(mySPIKE.ListDevices())\n",
    "# open a Serial Connection to your SPIKE Prime\n",
    "name = mySPIKE.OpenSerial()\n",
    "print('Connected to:',name)"
   ]
  },
  {
   "cell_type": "code",
   "execution_count": null,
   "metadata": {},
   "outputs": [],
   "source": [
    "# this is the function that does the averaging\n",
    "def avg_sensor(mySPIKE, port, modes):\n",
    "    time_delay = 0.08 # how long to wait\n",
    "    average = 0\n",
    "    num_data_points = 0\n",
    "    for mode in modes:\n",
    "        # code that sends the new mode value to the right port\n",
    "        mySPIKE.SendCommand('hub.port.' + str(port) + '.device.mode(' + str(mode) + ')')\n",
    "        time.sleep(time_delay)\n",
    "        val = mySPIKE.GetValue('hub.port.' + str(port) + '.device.get()')\n",
    "        if type(val) == list:\n",
    "            sensor_data = val[0]\n",
    "            if type(sensor_data) == int:\n",
    "                average = average + sensor_data\n",
    "                num_data_points = num_data_points + 1\n",
    "        #time.sleep(time_delay)\n",
    "    if num_data_points > 0:\n",
    "        return average/num_data_points\n",
    "    else:\n",
    "        return -1 # didn't get any valid data, return -1"
   ]
  },
  {
   "cell_type": "code",
   "execution_count": null,
   "metadata": {},
   "outputs": [],
   "source": [
    "# STOP ROBOT\n",
    "def STOP(mySPIKE):\n",
    "    # force motors to stop!\n",
    "    mySPIKE.SendCommand('hub.display.show(\"S\")')\n",
    "    mySPIKE.SendCommand('hub.port.A.motor.brake()')\n",
    "    mySPIKE.SendCommand('hub.port.B.motor.brake()')\n",
    "    mySPIKE.SendCommand('hub.port.A.motor.float()')\n",
    "    mySPIKE.SendCommand('hub.port.B.motor.float()')\n",
    "    return\n",
    "STOP(mySPIKE)"
   ]
  },
  {
   "cell_type": "code",
   "execution_count": null,
   "metadata": {},
   "outputs": [],
   "source": [
    "# helper function for making sure value is in range\n",
    "def force_range(x, min_val, max_val):\n",
    "    x = min(x, max_val)\n",
    "    x = max(min_val, x)\n",
    "    return x\n",
    "\n",
    "def drive(mySPIKE, A=50, B=50):\n",
    "    # MY HARDWARE: A needs to be \"reversed\" in order to drive forward\n",
    "    A = A*-1\n",
    "    # check to make sure between -100 and 100\n",
    "    A = force_range(A, -100, 100)\n",
    "    B = force_range(B, -100, 100)\n",
    "    # run (start) motors:\n",
    "    mySPIKE.SendCommand('hub.port.A.motor.pwm(' + str(A) + ')')\n",
    "    mySPIKE.SendCommand('hub.port.B.motor.pwm(' + str(B) + ')')\n",
    "    return"
   ]
  },
  {
   "cell_type": "code",
   "execution_count": null,
   "metadata": {},
   "outputs": [],
   "source": [
    "# test that the driving works\n",
    "drive(mySPIKE, A=50, B=50) # half speed\n",
    "time.sleep(2) # for two seconds\n",
    "drive(mySPIKE, A=25, B=25) # quarter speed\n",
    "time.sleep(2) # for two seconds\n",
    "STOP(mySPIKE)"
   ]
  },
  {
   "cell_type": "code",
   "execution_count": null,
   "metadata": {},
   "outputs": [],
   "source": [
    "# 2. WRITE CODE HERE TO DRIVE TO OBJECT\n",
    "current_val = avg_sensor(mySPIKE, 'C', [0]) # try mode 0\n",
    "print(current_val)\n",
    "while current_val > 5:\n",
    "    drive(mySPIKE, A=50, B=50)\n",
    "    current_val = avg_sensor(mySPIKE, 'C', [0]) # try mode 0\n",
    "    print(current_val)\n",
    "STOP(mySPIKE)"
   ]
  },
  {
   "cell_type": "code",
   "execution_count": null,
   "metadata": {},
   "outputs": [],
   "source": [
    "mySPIKE.CloseSerial()\n",
    "print('Closed Connection')"
   ]
  },
  {
   "cell_type": "markdown",
   "metadata": {},
   "source": [
    "## 3. Drive proportionally to object"
   ]
  },
  {
   "cell_type": "code",
   "execution_count": null,
   "metadata": {},
   "outputs": [],
   "source": [
    "# 3. WRITE CODE HERE TO DRIVE PROPORTIONALLY TO OBJECT\n",
    "current_val = avg_sensor(mySPIKE, 'C', [0]) # try mode 0\n",
    "print(current_val)\n",
    "while current_val > 5:\n",
    "    current_val = avg_sensor(mySPIKE, 'C', [0]) # try mode 0\n",
    "    print(current_val)\n",
    "    drive(mySPIKE, A=int(current_val+18), B=int(current_val+18))\n",
    "STOP(mySPIKE)"
   ]
  },
  {
   "cell_type": "markdown",
   "metadata": {},
   "source": [
    "## 4. Drive faster to object"
   ]
  },
  {
   "cell_type": "code",
   "execution_count": null,
   "metadata": {},
   "outputs": [],
   "source": [
    "# 4. WRITE CODE HERE TO DRIVE FASTER TO OBJECT\n",
    "Kp = 2 # proportionality constant Kp\n",
    "current_val = avg_sensor(mySPIKE, 'C', [0]) # try modes 0\n",
    "print(current_val)\n",
    "while current_val > 5:\n",
    "    current_val = avg_sensor(mySPIKE, 'C', [0]) # try modes 0\n",
    "    print(current_val)\n",
    "    drive(mySPIKE, A=Kp*int(current_val)+8, B=Kp*int(current_val)+8)\n",
    "STOP(mySPIKE)"
   ]
  },
  {
   "cell_type": "markdown",
   "metadata": {},
   "source": [
    "## 5. Drive to distance away from object"
   ]
  },
  {
   "cell_type": "code",
   "execution_count": null,
   "metadata": {},
   "outputs": [],
   "source": [
    "# 5. WRITE CODE HERE TO DRIVE DISTANCE AWAY FROM OBJECT\n",
    "Kp = 2\n",
    "goal = 33\n",
    "current_val = avg_sensor(mySPIKE, 'C', [0]) # try mode 0\n",
    "error = current_val - goal # error is how far away are we from our goal\n",
    "print(current_val, 'Error:', error)\n",
    "while abs(error) > 7:\n",
    "    current_val = avg_sensor(mySPIKE, 'C', [0]) # try mode 0\n",
    "    error = current_val - goal # error is how far away are we from our goal\n",
    "    print(current_val, 'Error:', error)\n",
    "    drive(mySPIKE, A=Kp*int(error), B=Kp*int(error))\n",
    "STOP(mySPIKE)"
   ]
  },
  {
   "cell_type": "markdown",
   "metadata": {},
   "source": [
    "## 6. Stay certain distance from object\n",
    "\n",
    "Same code works if before goal or after goal!"
   ]
  },
  {
   "cell_type": "code",
   "execution_count": null,
   "metadata": {},
   "outputs": [],
   "source": [
    "# 6. WRITE CODE HERE TO STAY CERTAIN DISTANCE AWAY FROM OBJECT\n",
    "Kp = 7\n",
    "goal = 33\n",
    "current_val = avg_sensor(mySPIKE, 'C', [0]) # try modes 0, 1, and 2\n",
    "error = current_val - goal # error is how far away are we from our goal\n",
    "print(current_val, 'Error:', error)\n",
    "while True:\n",
    "    current_val = avg_sensor(mySPIKE, 'C', [0]) # try modes 0, 1, and 2\n",
    "    error = current_val - goal # error is how far away are we from our goal\n",
    "    print(current_val, 'Error:', error)\n",
    "    drive(mySPIKE, A=Kp*int(error), B=Kp*int(error))\n",
    "STOP(mySPIKE)"
   ]
  },
  {
   "cell_type": "markdown",
   "metadata": {},
   "source": [
    "## 7. Rotate to Angle"
   ]
  },
  {
   "cell_type": "code",
   "execution_count": null,
   "metadata": {},
   "outputs": [],
   "source": [
    "# here is helper code for position\n",
    "def getPosition(mySPIKE, direction='X'):\n",
    "    val = mySPIKE.GetValue('hub.motion.position()')\n",
    "    if type(val) == tuple:\n",
    "        position_x = val[0] # convert value to integer\n",
    "        position_y = val[1] # convert value to integer\n",
    "        position_z = val[2] # convert value to integer\n",
    "    else:\n",
    "        position_x = 'Error (' + str(val) + ')' # set to string\n",
    "        position_y = 'Error (' + str(val) + ')' # set to string\n",
    "        position_z = 'Error (' + str(val) + ')' # set to string\n",
    "    if direction == 'X':\n",
    "        return position_x\n",
    "    elif direction == 'Y':\n",
    "        return position_y\n",
    "    else:\n",
    "        return position_z"
   ]
  },
  {
   "cell_type": "code",
   "execution_count": null,
   "metadata": {},
   "outputs": [],
   "source": [
    "# Test getting position to make sure reading it right\n",
    "current_val = getPosition(mySPIKE, direction='X')\n",
    "print(current_val)"
   ]
  },
  {
   "cell_type": "code",
   "execution_count": null,
   "metadata": {},
   "outputs": [],
   "source": [
    "# 7. WRITE CODE HERE TO ROTATE TO SPECIFIC ANGLE\n",
    "orig_val = getPosition(mySPIKE, direction='X') # record where we are starting\n",
    "print('Starting location:', orig_val)\n",
    "Kp = 2\n",
    "goal = 90\n",
    "current_val = (getPosition(mySPIKE, direction='X') - orig_val)\n",
    "error = current_val - goal\n",
    "print(current_val, 'Error:', error)\n",
    "while True:\n",
    "    current_val = (getPosition(mySPIKE, direction='X') - orig_val)\n",
    "    error = current_val - goal\n",
    "    print(current_val, 'Error:', error)\n",
    "    # throw in \"-1\" times A value to turn in circle\n",
    "    drive(mySPIKE, A=-1*Kp*int(error), B=Kp*int(error))\n",
    "STOP(mySPIKE)"
   ]
  },
  {
   "cell_type": "code",
   "execution_count": null,
   "metadata": {},
   "outputs": [],
   "source": [
    "# STOP ROBOT\n",
    "STOP(mySPIKE)"
   ]
  },
  {
   "cell_type": "markdown",
   "metadata": {},
   "source": [
    "## Dr. E's SCRATCH CODE\n",
    "\n",
    "Down here is code I was using as I tested this out before class."
   ]
  },
  {
   "cell_type": "code",
   "execution_count": null,
   "metadata": {},
   "outputs": [],
   "source": [
    "# 2. WRITE CODE HERE TO GO TO DRIVE TO OBJECT\n",
    "current_val = avg_sensor(mySPIKE, 'C', [0, 1, 2]) # try modes 0, 1, and 2\n",
    "print(current_val)\n",
    "while current_val > 4:\n",
    "    current_val = avg_sensor(mySPIKE, 'C', [0, 1, 2]) # try modes 0, 1, and 2\n",
    "    print(current_val)\n",
    "    drive(mySPIKE, A=50, B=50)\n",
    "STOP(mySPIKE)"
   ]
  },
  {
   "cell_type": "code",
   "execution_count": null,
   "metadata": {},
   "outputs": [],
   "source": [
    "# 3. WRITE CODE HERE TO DRIVE PROPORTIONALLY TO OBJECT\n",
    "current_val = avg_sensor(mySPIKE, 'C', [0, 1, 2]) # try modes 0, 1, and 2\n",
    "print(current_val)\n",
    "while current_val > 4:\n",
    "    current_val = avg_sensor(mySPIKE, 'C', [0, 1, 2]) # try modes 0, 1, and 2\n",
    "    print(current_val)\n",
    "    drive(mySPIKE, A=int(current_val), B=int(current_val))\n",
    "STOP(mySPIKE)"
   ]
  },
  {
   "cell_type": "code",
   "execution_count": null,
   "metadata": {},
   "outputs": [],
   "source": [
    "def in_range(x, min_val=-100, max_val=100):\n",
    "    x = max(x, min_val)\n",
    "    x = min(x, max_val)\n",
    "    return x"
   ]
  },
  {
   "cell_type": "code",
   "execution_count": null,
   "metadata": {},
   "outputs": [],
   "source": [
    "# 4. WRITE CODE HERE TO DRIVE FASTER TO OBJECT\n",
    "Kp = 7\n",
    "current_val = avg_sensor(mySPIKE, 'C', [0, 1, 2]) # try modes 0, 1, and 2\n",
    "print(current_val)\n",
    "while current_val > 4:\n",
    "    current_val = avg_sensor(mySPIKE, 'C', [0, 1, 2]) # try modes 0, 1, and 2\n",
    "    print(current_val)\n",
    "    drive(mySPIKE, A=in_range((Kp*int(current_val))), B=in_range(Kp*int(current_val)))\n",
    "STOP(mySPIKE)"
   ]
  },
  {
   "cell_type": "code",
   "execution_count": null,
   "metadata": {},
   "outputs": [],
   "source": [
    "# 5. WRITE CODE HERE TO DRIVE DISTANCE AWAY FROM OBJECT\n",
    "Kp = 2\n",
    "goal = 30\n",
    "current_val = avg_sensor(mySPIKE, 'C', [0, 1, 2]) # try modes 0, 1, and 2\n",
    "error = current_val - goal\n",
    "print(current_val,'Error:',error)\n",
    "while error > 0:\n",
    "    current_val = avg_sensor(mySPIKE, 'C', [0, 1, 2]) # try modes 0, 1, and 2\n",
    "    error = current_val - goal\n",
    "    print(current_val,'Error:',error)\n",
    "    drive(mySPIKE, A=in_range((Kp*int(error))), B=in_range(Kp*int(error)))\n",
    "STOP(mySPIKE)"
   ]
  },
  {
   "cell_type": "code",
   "execution_count": null,
   "metadata": {},
   "outputs": [],
   "source": [
    "# 6. WRITE CODE HERE TO STAY CERTAIN DISTANCE AWAY FROM OBJECT\n",
    "Kp = 3\n",
    "goal = 30\n",
    "current_val = avg_sensor(mySPIKE, 'C', [0, 1, 2]) # try modes 0, 1, and 2\n",
    "error = current_val - goal\n",
    "print(current_val,'Error:',error)\n",
    "while True:\n",
    "    current_val = avg_sensor(mySPIKE, 'C', [0, 1, 2]) # try modes 0, 1, and 2\n",
    "    error = current_val - goal\n",
    "    print(current_val,'Error:',error)\n",
    "    drive(mySPIKE, A=in_range((Kp*int(error))), B=in_range(Kp*int(error)))\n",
    "STOP(mySPIKE)"
   ]
  },
  {
   "cell_type": "code",
   "execution_count": null,
   "metadata": {},
   "outputs": [],
   "source": [
    "# 7. WRITE CODE HERE TO ROTATE TO SPECIFIC ANGLE\n",
    "Kp = 1\n",
    "goal = 90 # degrees\n",
    "current_val = getPosition(mySPIKE, direction='X')\n",
    "error = current_val - goal\n",
    "print(current_val,'Error:',error)\n",
    "while True:\n",
    "    current_val = getPosition(mySPIKE, direction='X')\n",
    "    error = current_val - goal\n",
    "    print(current_val,'Error:',error)\n",
    "    drive(mySPIKE, A=-1*in_range((Kp*int(error))), B=in_range(Kp*int(error)))\n",
    "STOP(mySPIKE)"
   ]
  }
 ],
 "metadata": {
  "kernelspec": {
   "display_name": "Python 3",
   "language": "python",
   "name": "python3"
  },
  "language_info": {
   "codemirror_mode": {
    "name": "ipython",
    "version": 3
   },
   "file_extension": ".py",
   "mimetype": "text/x-python",
   "name": "python",
   "nbconvert_exporter": "python",
   "pygments_lexer": "ipython3",
   "version": "3.5.3"
  }
 },
 "nbformat": 4,
 "nbformat_minor": 2
}
