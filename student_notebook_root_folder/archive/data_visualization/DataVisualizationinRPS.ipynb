{
 "cells": [
  {
   "cell_type": "markdown",
   "metadata": {},
   "source": [
    "# Rock Paper Scissors Machine"
   ]
  },
  {
   "cell_type": "code",
   "execution_count": 2,
   "metadata": {},
   "outputs": [],
   "source": [
    "import numpy,time\n",
    "import matplotlib.pyplot as plt\n",
    "\n",
    "#Random seed\n",
    "numpy.random.seed(int(time.time()))\n",
    "\n",
    "# RPS Function\n",
    "def rps():\n",
    "    #Rock Paper Scissors\n",
    "    answer = numpy.random.randint(3)\n",
    "    if (answer == 2):\n",
    "        return \"S\",\"Scissors\"\n",
    "    elif (answer == 1):\n",
    "        return \"P\",\"Paper\"\n",
    "    else:\n",
    "        return \"R\",\"Rock\"\n"
   ]
  },
  {
   "cell_type": "code",
   "execution_count": 3,
   "metadata": {},
   "outputs": [
    {
     "name": "stdout",
     "output_type": "stream",
     "text": [
      "Round 0 Rock, Paper, Scissors! (Respond with R/P/S)R\n",
      "Computer threw Rock\n",
      "It was a tie!\n",
      "Round 1 Rock, Paper, Scissors! (Respond with R/P/S)S\n",
      "Computer threw Paper\n",
      "You won this round!\n",
      "Round 2 Rock, Paper, Scissors! (Respond with R/P/S)P\n",
      "Computer threw Scissors\n",
      "You lost this round!\n",
      "Round 3 Rock, Paper, Scissors! (Respond with R/P/S)P\n",
      "Computer threw Rock\n",
      "You won this round!\n",
      "Round 4 Rock, Paper, Scissors! (Respond with R/P/S)P\n",
      "Computer threw Paper\n",
      "It was a tie!\n"
     ]
    }
   ],
   "source": [
    "# Version 1\n",
    "# Computer vs Player 5 times\n",
    "ntimes = 5\n",
    "player = []\n",
    "computer = []\n",
    "tie = 0\n",
    "win = 0\n",
    "\n",
    "for i in range(ntimes):\n",
    "    compin,cstr = rps()\n",
    "    computer.append(compin)\n",
    "    while True:\n",
    "        pin = input(\"Round \"+ str(i) +\" Rock, Paper, Scissors! (Respond with R/P/S)\")\n",
    "        if pin == \"R\" or pin == \"P\" or pin == \"S\":\n",
    "            break\n",
    "        else:\n",
    "            print(\"Invalid input\")\n",
    "    player.append(pin)\n",
    "    print(\"Computer threw {}\".format(cstr))\n",
    "    \n",
    "    if (compin == \"R\" and pin == \"S\") or \\\n",
    "       (compin == \"S\" and pin == \"P\") or \\\n",
    "       (compin == \"P\" and pin == \"R\"):\n",
    "        print(\"You lost this round!\")\n",
    "        continue\n",
    "    elif compin == pin:\n",
    "        print(\"It was a tie!\")\n",
    "        tie +=1\n",
    "    else:\n",
    "        win +=1\n",
    "        print(\"You won this round!\")\n",
    "\n",
    "loss = ntimes - tie - win\n"
   ]
  },
  {
   "cell_type": "code",
   "execution_count": 4,
   "metadata": {},
   "outputs": [
    {
     "data": {
      "image/png": "[encoded data removed]",
      "text/plain": [
       "<Figure size 432x288 with 4 Axes>"
      ]
     },
     "metadata": {
      "needs_background": "light"
     },
     "output_type": "display_data"
    }
   ],
   "source": [
    "#Version 2\n",
    "#Plotting Statistics from Version 1\n",
    "plt.figure()\n",
    "\n",
    "plt.subplot(2,2,1)\n",
    "plt.title(\"Computer Roll Stats\")\n",
    "plt.bar([\"R\",\"P\",\"S\"], [computer.count(\"R\"),computer.count(\"P\"),computer.count(\"S\")],alpha = 0.5)\n",
    "\n",
    "plt.subplot(2,2,2)\n",
    "plt.title(\"Computer Victory Stats\")\n",
    "plt.bar([\"W\",\"T\",\"L\"],[loss, tie, win],alpha=0.5)\n",
    "\n",
    "plt.subplot(2,2,3)\n",
    "plt.title(\"Player Choice Stats\")\n",
    "plt.bar([\"R\",\"P\",\"S\"], [player.count(\"R\"),player.count(\"P\"),player.count(\"S\")],alpha = 0.5)\n",
    "\n",
    "plt.subplot(2,2,4)\n",
    "plt.title(\"Player Victory Stats\")\n",
    "plt.bar([\"W\",\"T\",\"L\"],[win, tie, loss],alpha=0.5)\n",
    "plt.tight_layout()\n",
    "#Unnecessary in Jupyter Notebook\n",
    "plt.show()"
   ]
  },
  {
   "cell_type": "code",
   "execution_count": 5,
   "metadata": {},
   "outputs": [
    {
     "data": {
      "image/png": "[encoded data removed]",
      "text/plain": [
       "<Figure size 432x288 with 4 Axes>"
      ]
     },
     "metadata": {
      "needs_background": "light"
     },
     "output_type": "display_data"
    }
   ],
   "source": [
    "#Version 3\n",
    "#Statistics of Computer vs Computer (1000 runs)\n",
    "comp1 = []\n",
    "comp2 = []\n",
    "comp1tie = 0\n",
    "comp1win = 0\n",
    "ntimes = 1000\n",
    "\n",
    "for i in range(ntimes):\n",
    "    compin1,_ = rps()\n",
    "    comp1.append(compin1)\n",
    "    compin2,_ = rps()\n",
    "    comp2.append(compin2)\n",
    "    \n",
    "    #1 Wins\n",
    "    if (compin1 == \"R\" and compin2 == \"S\") or \\\n",
    "       (compin1 == \"S\" and compin2 == \"P\") or \\\n",
    "       (compin1 == \"P\" and compin2 == \"R\"):\n",
    "        comp1win += 1\n",
    "    #Ties\n",
    "    elif compin1 == compin2:\n",
    "        comp1tie +=1\n",
    "\n",
    "# comp1loss calculated based on number of ties and wins\n",
    "comp1loss = ntimes - comp1tie - comp1win\n",
    "\n",
    "#Plots\n",
    "plt.figure()\n",
    "\n",
    "plt.subplot(2,2,1)\n",
    "plt.title(\"Computer 1 Roll Stats\")\n",
    "plt.bar([\"R\",\"P\",\"S\"], [comp1.count(\"R\"),comp1.count(\"P\"),comp1.count(\"S\")],alpha = 0.5)\n",
    "\n",
    "plt.subplot(2,2,2)\n",
    "plt.title(\"Computer 1 Victory Stats\")\n",
    "plt.bar([\"W\",\"T\",\"L\"],[comp1win, comp1tie, comp1loss],alpha=0.5)\n",
    "\n",
    "plt.subplot(2,2,3)\n",
    "plt.title(\"Computer 2 Roll Stats\")\n",
    "plt.bar([\"R\",\"P\",\"S\"], [comp2.count(\"R\"),comp2.count(\"P\"),comp2.count(\"S\")],alpha = 0.5)\n",
    "\n",
    "plt.subplot(2,2,4)\n",
    "plt.title(\"Computer 2 Victory Stats\")\n",
    "plt.bar([\"W\",\"T\",\"L\"],[comp1loss, comp1tie, comp1win],alpha=0.5)\n",
    "plt.tight_layout()\n",
    "\n",
    "plt.show()"
   ]
  },
  {
   "cell_type": "code",
   "execution_count": null,
   "metadata": {},
   "outputs": [],
   "source": []
  }
 ],
 "metadata": {
  "kernelspec": {
   "display_name": "Python 3",
   "language": "python",
   "name": "python3"
  },
  "language_info": {
   "codemirror_mode": {
    "name": "ipython",
    "version": 3
   },
   "file_extension": ".py",
   "mimetype": "text/x-python",
   "name": "python",
   "nbconvert_exporter": "python",
   "pygments_lexer": "ipython3",
   "version": "3.5.3"
  }
 },
 "nbformat": 4,
 "nbformat_minor": 2
}
