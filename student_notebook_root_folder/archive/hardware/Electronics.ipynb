{
 "cells": [
  {
   "cell_type": "markdown",
   "metadata": {},
   "source": [
    "GPIO are general purpose pins you can find on the edge of one side of your raspberry PI\n",
    "\n",
    "The picture below shows the pin layout for the Raspberry Pi\n",
    "\n",
    "<img src=\"../images/pi3_gpio.png\" width=\"600\" >"
   ]
  },
  {
   "cell_type": "code",
   "execution_count": 1,
   "metadata": {},
   "outputs": [],
   "source": [
    "import RPi.GPIO as GPIO\n",
    "from time import sleep\n",
    "GPIO.setmode(GPIO.BCM)"
   ]
  },
  {
   "cell_type": "markdown",
   "metadata": {},
   "source": [
    "# Blinking LED\n",
    "\n",
    "For the following exercise, connect the LED +ve side to to GPIO 4, and the a resistor to its -veside which is then connected to ground.\n",
    "\n",
    "<img src=\"../images/LEDBlink.jpg\" width = \"400\">"
   ]
  },
  {
   "cell_type": "code",
   "execution_count": 3,
   "metadata": {},
   "outputs": [],
   "source": [
    "#Set Pin 4 to output mode\n",
    "GPIO.setup(4, GPIO.OUT)\n",
    "#Turn on pin 4\n",
    "GPIO.output(4, 1)\n",
    "sleep(1)\n",
    "GPIO.setup(4, GPIO.IN)\n",
    " \n",
    "for i in range(0,100):\n",
    "    GPIO.setup(4, GPIO.IN)\n",
    "    #If previously on\n",
    "    if GPIO.input(4):\n",
    "        GPIO.setup(4, GPIO.OUT)\n",
    "        #Turn off\n",
    "        GPIO.output(4, 0)\n",
    "        sleep(0.5)\n",
    "    else:\n",
    "        GPIO.setup(4, GPIO.OUT)\n",
    "        GPIO.output(4, 1)\n",
    "        sleep(0.5)\n",
    "GPIO.output(4,0)"
   ]
  },
  {
   "cell_type": "markdown",
   "metadata": {},
   "source": [
    "# Photoresistor Example\n",
    "\n",
    "For the following code, connect the photoresistor (to +3.3v output) and resistor(to ground) in series. Attach the wire connecting in between the two resistors to GPIO 18.\n",
    "\n",
    "Attach the LED and resistor to GPIO 4 and ground.\n",
    "\n",
    "The following code lights the LED upon low lighting, due to darkness increasing the resistance of the photoresistor and lowering the intermediate voltage. This code loops infinitely.\n",
    "\n",
    "<img src=\"../images/PhotoresistorLED.jpg\" width = \"400\">\n",
    "\n",
    "Circuit for the Photoresistor (used variable resistor symbol due to browser circuit limitations)\n",
    "\n",
    "<img src=\"../images/CircuitPhoto.PNG\" width = \"500\">"
   ]
  },
  {
   "cell_type": "code",
   "execution_count": 1,
   "metadata": {},
   "outputs": [
    {
     "ename": "RuntimeError",
     "evalue": "Please set pin numbering mode using GPIO.setmode(GPIO.BOARD) or GPIO.setmode(GPIO.BCM)",
     "output_type": "error",
     "traceback": [
      "\u001b[0;31m---------------------------------------------------------------------------\u001b[0m",
      "\u001b[0;31mRuntimeError\u001b[0m                              Traceback (most recent call last)",
      "\u001b[0;32m<ipython-input-1-6ecd8f43cf52>\u001b[0m in \u001b[0;36m<module>\u001b[0;34m\u001b[0m\n\u001b[1;32m      1\u001b[0m \u001b[0;32mimport\u001b[0m \u001b[0mRPi\u001b[0m\u001b[0;34m.\u001b[0m\u001b[0mGPIO\u001b[0m \u001b[0;32mas\u001b[0m \u001b[0mGPIO\u001b[0m\u001b[0;34m\u001b[0m\u001b[0m\n\u001b[0;32m----> 2\u001b[0;31m \u001b[0mGPIO\u001b[0m\u001b[0;34m.\u001b[0m\u001b[0msetup\u001b[0m\u001b[0;34m(\u001b[0m\u001b[0;36m18\u001b[0m\u001b[0;34m,\u001b[0m \u001b[0mGPIO\u001b[0m\u001b[0;34m.\u001b[0m\u001b[0mIN\u001b[0m\u001b[0;34m)\u001b[0m\u001b[0;34m\u001b[0m\u001b[0m\n\u001b[0m\u001b[1;32m      3\u001b[0m \u001b[0mGPIO\u001b[0m\u001b[0;34m.\u001b[0m\u001b[0msetup\u001b[0m\u001b[0;34m(\u001b[0m\u001b[0;36m4\u001b[0m\u001b[0;34m,\u001b[0m \u001b[0mGPIO\u001b[0m\u001b[0;34m.\u001b[0m\u001b[0mOUT\u001b[0m\u001b[0;34m)\u001b[0m \u001b[0;31m#sets pin4 as output\u001b[0m\u001b[0;34m\u001b[0m\u001b[0m\n\u001b[1;32m      4\u001b[0m \u001b[0;32mwhile\u001b[0m \u001b[0;32mTrue\u001b[0m\u001b[0;34m:\u001b[0m\u001b[0;34m\u001b[0m\u001b[0m\n\u001b[1;32m      5\u001b[0m     \u001b[0;31m#If high voltage detected (under bright light)\u001b[0m\u001b[0;34m\u001b[0m\u001b[0;34m\u001b[0m\u001b[0m\n",
      "\u001b[0;31mRuntimeError\u001b[0m: Please set pin numbering mode using GPIO.setmode(GPIO.BOARD) or GPIO.setmode(GPIO.BCM)"
     ]
    }
   ],
   "source": [
    "import RPi.GPIO as GPIO\n",
    "GPIO.setup(18, GPIO.IN)\n",
    "GPIO.setup(4, GPIO.OUT) #sets pin4 as output\n",
    "while True:\n",
    "    #If high voltage detected (under bright light)\n",
    "    if(GPIO.input(18)):\n",
    "        #Turn off LED\n",
    "        GPIO.output(4,0)\n",
    "    else:\n",
    "        GPIO.output(4,1)\n"
   ]
  },
  {
   "cell_type": "markdown",
   "metadata": {},
   "source": [
    "# Button LED\n",
    "\n",
    "Using the 4-pin button:\n",
    "There are two pins on opposite sides, when the button is not-pressed, the pins on opposite sides are connected to each other (2 connections). When the button is pressed, all 4 pins are connected.\n",
    "\n",
    "\n",
    "Place a resister from one corner of the button to the ground pin. \n",
    "On the opposite pin (which will be the reading pin), connect it to GPIO18.\n",
    "On the Pin on the same side as it, connect it to the 3.3V pin.\n",
    "When the button is pressed, the 3.3V pin will be connected to GPIO18, when it isnt, the GPIO18 is attached to ground through the resistor.\n",
    "\n",
    "Circuit for the LED:\n",
    "Connect a resistor and LED in series. Attach the longer pin-side of the LED-resistor to GPIO4 and the other side to ground.\n",
    "\n",
    "The code below should then turn on the LED when the button is pressed.\n",
    "\n",
    "A simpler method would be connecting the LED directly to the button circuit, but there is no computation there.\n",
    "\n",
    "<img src = \"../images/Button.jpg\" width = \"400\">"
   ]
  },
  {
   "cell_type": "code",
   "execution_count": null,
   "metadata": {},
   "outputs": [],
   "source": [
    "import RPi.GPIO as GPIO\n",
    "from time import sleep\n",
    "GPIO.setmode(GPIO.BCM)\n",
    "GPIO.setup(18, GPIO.IN)\n",
    "GPIO.setup(4, GPIO.OUT)\n",
    "\n",
    "while True:\n",
    "    #If high voltage detected (when button pressed)\n",
    "    if GPIO.input(18):\n",
    "        #turn on LED\n",
    "        GPIO.output(4, 1)\n",
    "        sleep(0.1)\n",
    "    else:\n",
    "        #Turn off\n",
    "        GPIO.output(4,0)"
   ]
  }
 ],
 "metadata": {
  "kernelspec": {
   "display_name": "Python 3",
   "language": "python",
   "name": "python3"
  },
  "language_info": {
   "codemirror_mode": {
    "name": "ipython",
    "version": 3
   },
   "file_extension": ".py",
   "mimetype": "text/x-python",
   "name": "python",
   "nbconvert_exporter": "python",
   "pygments_lexer": "ipython3",
   "version": "3.5.3"
  }
 },
 "nbformat": 4,
 "nbformat_minor": 2
}
