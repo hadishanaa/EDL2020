{
 "cells": [
  {
   "cell_type": "markdown",
   "metadata": {},
   "source": [
    "# __GPG Parts Examples__"
   ]
  },
  {
   "cell_type": "markdown",
   "metadata": {},
   "source": [
    "This notebook is designed to help users get started with the GoPiGo3. The first step is to set up your Raspberry Pi 3. Assuming your Pi is already working, you must then attach the GoPiGo (GPG) shield, powered through its 12V coax jack. Press the button next to the power jack to turn on the board, _then_ plug in the Pi's microUSB power cord. These can both be powered by the same rechargeable battery pack. You should now be ready to get started.\n",
    "\n",
    "The software intended for use with GoPiGo is based in three packages. Each package is a class, a collection of functions called \"methods\" that allow the user to code the GPG without starting from square one.\n",
    "- The first of these classes is \"<a href=\"https://github.com/DexterInd/GoPiGo3/blob/master/Software/Python/gopigo3.py\">gopigo3</a>\". This class is the lowest-level of the three, meaning that it deals with more basic functionality, like declaring which pin the output will be sent through. This class is very important and includes several useful methods, but it is fairly difficult to use (and very difficult to get started with). This class is also undocumented, meaning that many issues you may encounter while using it cannot be easily solved.\n",
    "- The next class is \"<a href=\"https://github.com/DexterInd/GoPiGo3/blob/master/Software/Python/easysensors.py\">easysensors</a>\". This class uses parts of the _gopigo3_ class to create methods for more easily interacting with sensors, motors, and other output devices. While it is possible to solve many coding challenges with these two classes alone, this can prove to be tedious and unnecessary. Fortunately, there exists decent documentation on this class, so most of the methods are fairly straightforward.\n",
    "- The third and highest-level class of the three is \"<a href=\"https://github.com/DexterInd/GoPiGo3/blob/master/Software/Python/easygopigo3.py\">easygopigo3</a>\". This class is intended for use by beginner users, so it contains methods that may come across as somewhat juvenile or silly. Because of this, there are also many methods that make complex tasks very easy, which can save a lot of time and energy when working on larger projects. While having such high-level functionality can be useful, it also tends to limit the user's ability to customize interactions with peripheral devices. In these cases, it is best to switch to using the other two classes, allowing for more freedom at a slightly lower level of abstraction.\n",
    "\n",
    "The notes below are structured for ease of understanding, organized into output devices and input devices. For each component, there is at least one snippet of example code. Depending on the component, these snippets may rely on the use of the _easygopigo3_ class (\"easy\") or the lower-level _gopigo3_ class (\"non-easy\").\n",
    "\n",
    "If you are viewing this in Jupyter Notebook, there are a few more things to note:\n",
    "- Jupyter notebooks are divided into cells. This means that code can be broken up into separate blocks and run in pieces, rather than all at once. To run a code cell, simply click the button to the top left corner of the cell (shaped like this: |>|). If that does not show up, you can simply select the cell and then hit the analogous \"Run\" button on the top toolbar.\n",
    "- Depending on how your code is set up, certain cells may throw errors if run out of order. In this notebook, it is very important to be sure that the initialization cell is run before anything else.\n",
    "- If your code results in a strange error that doesn't seem to make sense when you trace it back, try stopping the kernel, restarting the kernel, and reloading the page. This often resolves unexepected bugs.\n",
    "- There are many helpful keyboard shortcuts that you should familiarize yourself with through the help menu."
   ]
  },
  {
   "cell_type": "markdown",
   "metadata": {},
   "source": [
    "## Table of Contents"
   ]
  },
  {
   "cell_type": "markdown",
   "metadata": {},
   "source": [
    "I.   [Initialization](#init) <br>\n",
    "II.  [Outputs](#outs) <br>\n",
    "    1. Servo Motor\n",
    "    2. Yellow Motor\n",
    "    3. Built-in LEDs\n",
    "    4. Buzzer\n",
    "III. [Inputs](#ins) <br>\n",
    "    1. Ultrasonic Sensor\n",
    "    2. Button\n",
    "    3. Light Sensor\n",
    "    4. Sound Sensor\n",
    "    5. Line Finder"
   ]
  },
  {
   "cell_type": "markdown",
   "metadata": {},
   "source": [
    "# _Initialization_\n",
    "<a id='init'></a>"
   ]
  },
  {
   "cell_type": "code",
   "execution_count": 1,
   "metadata": {
    "scrolled": true
   },
   "outputs": [
    {
     "name": "stdout",
     "output_type": "stream",
     "text": [
      "Initialization complete.\n"
     ]
    }
   ],
   "source": [
    "# Import necessary libraries for initialization\n",
    "from time import *\n",
    "import gopigo3\n",
    "import easysensors\n",
    "import easygopigo3 as easy\n",
    "\n",
    "# Initialize instances of both GPG class objects\n",
    "gpg = gopigo3.GoPiGo3()\n",
    "egpg = easy.EasyGoPiGo3()\n",
    "\n",
    "# Make sure that all sensors and output devices are uncofigured to start\n",
    "gpg.reset_all()\n",
    "\n",
    "# Define variables for later use\n",
    "red    = (255,   0,   0)\n",
    "orange = (237, 109,   0)\n",
    "yellow = (255, 215,   0)\n",
    "green  = (  0, 255,   0)\n",
    "blue   = (  0,   0, 255)\n",
    "ingigo = (  0,  46,  90)\n",
    "violet = (128,   0, 128)\n",
    "l_eye = gpg.LED_LEFT_EYE\n",
    "r_eye = gpg.LED_RIGHT_EYE\n",
    "lb = gpg.LED_LEFT_BLINKER\n",
    "rb = gpg.LED_RIGHT_BLINKER\n",
    "\n",
    "print(\"Initialization complete.\")"
   ]
  },
  {
   "cell_type": "markdown",
   "metadata": {},
   "source": [
    "# __Outputs__\n",
    "<a id='outs'></a>"
   ]
  },
  {
   "cell_type": "markdown",
   "metadata": {},
   "source": [
    "### Servo Motor\n",
    "<a id='servo'></a>"
   ]
  },
  {
   "cell_type": "markdown",
   "metadata": {},
   "source": [
    "#### _Run servo for 1 second_"
   ]
  },
  {
   "cell_type": "code",
   "execution_count": 3,
   "metadata": {
    "scrolled": true
   },
   "outputs": [],
   "source": [
    "##\n",
    "## Using non-easy class\n",
    "## Servo is in \"SERVO_1\" port\n",
    "##\n",
    "\n",
    "# Declare that the servo is in port \"SERVO_1\"\n",
    "servo = gpg.SERVO_1\n",
    "# Set the servo to move\n",
    "# set_servo() takes second argument in microseconds of pulse width (supposedly)\n",
    "# Note that this argument behaves very strangely \n",
    "gpg.set_servo(servo, 1)\n",
    "# Let the servo run for one second\n",
    "sleep(1)\n",
    "# Stop the servo by sending it a zero-value pulse\n",
    "gpg.set_servo(servo, 0)"
   ]
  },
  {
   "cell_type": "code",
   "execution_count": null,
   "metadata": {
    "scrolled": true
   },
   "outputs": [],
   "source": [
    "##\n",
    "## Using easy class\n",
    "## Servo is in \"SERVO1\" port\n",
    "##\n",
    "\n",
    "# Initialize a servo in port \"SERVO1\"\n",
    "# Note that the port name is different when using this class\n",
    "servo = egpg.init_servo(\"SERVO1\")\n",
    "# Set the servo to move\n",
    "# rotate_servo() takes second argument in degrees (supposedly)\n",
    "# Note that this argument behaves very strangely\n",
    "servo.rotate_servo(1000)\n",
    "# Let the servo run for one second\n",
    "sleep(1)\n",
    "# Relax the servo\n",
    "servo.disable_servo()"
   ]
  },
  {
   "cell_type": "markdown",
   "metadata": {},
   "source": [
    "### Yellow Motor\n",
    "<a id='yelmot'></a>"
   ]
  },
  {
   "cell_type": "markdown",
   "metadata": {},
   "source": [
    "#### _Run yellow motor for 1 second_"
   ]
  },
  {
   "cell_type": "code",
   "execution_count": 2,
   "metadata": {
    "scrolled": true
   },
   "outputs": [],
   "source": [
    "##\n",
    "## Using non-easy class\n",
    "## Motor is in \"MOTOR_LEFT\" port\n",
    "##\n",
    "\n",
    "# Declare that the motor is in port \"MOTOR_LEFT\"\n",
    "motor = gpg.MOTOR_LEFT\n",
    "# Run the motor at 100% power in the positive direction\n",
    "gpg.set_motor_power(motor, 100)\n",
    "# Let the motor run for one second\n",
    "sleep(1)\n",
    "# Stop the motor by setting the power to 0%\n",
    "gpg.set_motor_power(motor, 0)"
   ]
  },
  {
   "cell_type": "code",
   "execution_count": 7,
   "metadata": {
    "scrolled": true
   },
   "outputs": [],
   "source": [
    "##\n",
    "## Using easy class\n",
    "## Motor is in \"MOTOR_LEFT\" port\n",
    "##\n",
    "\n",
    "# Run the motor at 100% power in the positive direction\n",
    "egpg.set_speed(1000)\n",
    "egpg.forward()\n",
    "# Let the motor run for one second\n",
    "sleep(1)\n",
    "# Stop the motor (in theory--it doesn't always seem to work reliably here)\n",
    "egpg.stop()\n",
    "# Force stop the motors by resetting all input and output\n",
    "# Note that this does not stop the motor rigidly in place\n",
    "egpg.reset_all()"
   ]
  },
  {
   "cell_type": "markdown",
   "metadata": {},
   "source": [
    "### Built-in LEDs\n",
    "<a id='leds'></a>"
   ]
  },
  {
   "cell_type": "markdown",
   "metadata": {},
   "source": [
    "#### _Make Dexter wink his right eye, then flash his eyes red_"
   ]
  },
  {
   "cell_type": "code",
   "execution_count": 3,
   "metadata": {
    "scrolled": true
   },
   "outputs": [],
   "source": [
    "##\n",
    "## Using non-easy class\n",
    "## No additional configuration\n",
    "##\n",
    "\n",
    "# Turn on the \"eye\" LEDs with an RGB value of (0,0,1), resulting in a dim blue\n",
    "gpg.set_led(l_eye, 0, 0, 1)\n",
    "gpg.set_led(r_eye, 0, 0, 1)\n",
    "sleep(1.5)\n",
    "# Turn off the right eye\n",
    "gpg.set_led(r_eye, 0, 0, 0)\n",
    "sleep(.25)\n",
    "# Turn the right eye back on as dim blue\n",
    "gpg.set_led(r_eye, 0, 0, 1)\n",
    "sleep(.5)\n",
    "# Turn on both eyes with an RGB value of (15,0,0), resulting in fairly dim red\n",
    "gpg.set_led(l_eye, 15, 0, 0)\n",
    "gpg.set_led(r_eye, 15, 0, 0)\n",
    "sleep(.01)\n",
    "# Turn off both eyes\n",
    "gpg.set_led(l_eye, 0, 0, 0)\n",
    "gpg.set_led(r_eye, 0, 0, 0)"
   ]
  },
  {
   "cell_type": "code",
   "execution_count": null,
   "metadata": {
    "scrolled": false
   },
   "outputs": [],
   "source": [
    "##\n",
    "## Using easy class\n",
    "## No additional configuration\n",
    "##\n",
    "\n",
    "# Eye colors are defined in initialization cell\n",
    "# Set the eye LED color to blue\n",
    "egpg.set_eye_color(blue)\n",
    "# Turn on both eye LEDs\n",
    "egpg.open_eyes()\n",
    "sleep(1.5)\n",
    "# \"Wink\" the right eye LED\n",
    "egpg.close_right_eye()\n",
    "sleep(.25)\n",
    "egpg.open_right_eye()\n",
    "sleep(.5)\n",
    "# Set the color of both eye LEDs to red\n",
    "egpg.set_eye_color(red)\n",
    "# Flash the eyes on very briefly\n",
    "egpg.open_eyes()\n",
    "sleep(.05)\n",
    "egpg.close_eyes()\n"
   ]
  },
  {
   "cell_type": "markdown",
   "metadata": {},
   "source": [
    "#### _Blink both \"blinker\" LEDs simultaneously_"
   ]
  },
  {
   "cell_type": "code",
   "execution_count": 2,
   "metadata": {
    "scrolled": true
   },
   "outputs": [],
   "source": [
    "##\n",
    "## Using non-easy class\n",
    "## No additional configuration\n",
    "##\n",
    "\n",
    "# Blinker pins defined in initialization cell\n",
    "# Turn on both blinker LEDs at max brightness\n",
    "gpg.set_led(lb, 255)\n",
    "gpg.set_led(rb, 255)\n",
    "# Blink the LEDs 8 times\n",
    "for i in range (8):\n",
    "    gpg.set_led(lb, 0)\n",
    "    gpg.set_led(rb, 0)\n",
    "    sleep(.05)\n",
    "    gpg.set_led(lb, 255)\n",
    "    gpg.set_led(rb, 255)\n",
    "    sleep(.025)\n",
    "gpg.set_led(lb, 0)\n",
    "gpg.set_led(rb, 0)"
   ]
  },
  {
   "cell_type": "code",
   "execution_count": 4,
   "metadata": {
    "scrolled": true
   },
   "outputs": [],
   "source": [
    "##\n",
    "## Using easy class\n",
    "## No additional configuration\n",
    "##\n",
    "\n",
    "# Turn on both blinker LEDs at max brightness\n",
    "egpg.led_on(0)  # right blinker\n",
    "egpg.led_on(1)  # left  blinker\n",
    "# Blink the LEDs 8 times\n",
    "for i in range (8):\n",
    "    egpg.led_off(0)\n",
    "    egpg.led_off(1)\n",
    "    sleep(.05)\n",
    "    egpg.led_on(0)\n",
    "    egpg.led_on(1)\n",
    "    sleep(.025)\n",
    "egpg.led_off(0)\n",
    "egpg.led_off(1)\n",
    "\n",
    "# Note that \"led_on()\"  = \"blinker_on()\"\n",
    "#       and \"led_off()\" = \"blinker_off()\""
   ]
  },
  {
   "cell_type": "markdown",
   "metadata": {},
   "source": [
    "### Buzzer\n",
    "<a id='buzzer'></a>"
   ]
  },
  {
   "cell_type": "markdown",
   "metadata": {},
   "source": [
    "#### _Play a snippet of \"Twinkle, Twinkle, Little Star\" and print each note name as it is played_"
   ]
  },
  {
   "cell_type": "code",
   "execution_count": null,
   "metadata": {
    "scrolled": false
   },
   "outputs": [],
   "source": [
    "##\n",
    "## Using easy class\n",
    "## Buzzer is in \"AD1\" port\n",
    "##\n",
    "\n",
    "# Initialize a buzzer in port \"AD1\"\n",
    "bzr = egpg.init_buzzer(\"AD1\")\n",
    "# Define the notes of the song\n",
    "twinkle = [\"C4\",\"C4\",\"G4\",\"G4\",\"A4\",\"A4\",\"G4\"]\n",
    "# Play each note of the song\n",
    "for note in twinkle:\n",
    "    print(note)\n",
    "    bzr.sound(bzr.scale[note])\n",
    "    sleep(0.5)\n",
    "    bzr.sound_off()\n",
    "    sleep(0.25)\n",
    "# Ensure that the buzzer is off when the program ends\n",
    "bzr.sound_off()"
   ]
  },
  {
   "cell_type": "markdown",
   "metadata": {},
   "source": [
    "#### _Play a snippet of \"Beethoven's Fifth\"_"
   ]
  },
  {
   "cell_type": "code",
   "execution_count": null,
   "metadata": {
    "scrolled": false
   },
   "outputs": [],
   "source": [
    "##\n",
    "## Using easy class\n",
    "## Buzzer is in \"AD1\" port\n",
    "##\n",
    "\n",
    "# Initialize a buzzer in port \"AD1\"\n",
    "bzr = egpg.init_buzzer(\"AD1\")\n",
    "# Define the notes of the song\n",
    "bFifth = [\"E4\",\"E4\",\"E4\",\"C4\",\"\",\"D4\",\"D4\",\"D4\",\"B3\"]\n",
    "# Play each note of the song\n",
    "for note in bFifth:\n",
    "    try:\n",
    "        bzr.sound(bzr.scale[note])\n",
    "        sleep(0.25)\n",
    "        bzr.sound_off()\n",
    "        sleep(0.125)\n",
    "    except KeyError: # proof of concept that empty quotes (\"\") can act as a rest\n",
    "        sleep(.325)\n",
    "# Ensure that the buzzer is off when the program ends\n",
    "bzr.sound_off()"
   ]
  },
  {
   "cell_type": "markdown",
   "metadata": {},
   "source": [
    "# __Inputs__\n",
    "<a id='ins'></a>"
   ]
  },
  {
   "cell_type": "markdown",
   "metadata": {},
   "source": [
    "### Ultrasonic Sensor\n",
    "<a id='ultrasonic'></a>"
   ]
  },
  {
   "cell_type": "markdown",
   "metadata": {},
   "source": [
    "#### _Print readings from ultrasonic sensor for one second_"
   ]
  },
  {
   "cell_type": "code",
   "execution_count": 8,
   "metadata": {
    "scrolled": false
   },
   "outputs": [
    {
     "name": "stdout",
     "output_type": "stream",
     "text": [
      "get_grove_value error: Invalid value\n",
      "get_grove_value error: Invalid value\n",
      "get_grove_value error: Invalid value\n",
      "get_grove_value error: Invalid value\n",
      "get_grove_value error: Invalid value\n",
      "0.0cm\n",
      "get_grove_value error: Invalid value\n",
      "get_grove_value error: Invalid value\n",
      "get_grove_value error: Invalid value\n",
      "get_grove_value error: Invalid value\n",
      "get_grove_value error: Invalid value\n",
      "0.0cm\n",
      "get_grove_value error: Invalid value\n",
      "get_grove_value error: Invalid value\n",
      "get_grove_value error: Invalid value\n",
      "get_grove_value error: Invalid value\n",
      "get_grove_value error: Invalid value\n",
      "0.0cm\n",
      "get_grove_value error: Invalid value\n",
      "get_grove_value error: Invalid value\n",
      "get_grove_value error: Invalid value\n",
      "get_grove_value error: Invalid value\n",
      "get_grove_value error: Invalid value\n",
      "0.0cm\n",
      "get_grove_value error: Invalid value\n",
      "get_grove_value error: Invalid value\n",
      "get_grove_value error: Invalid value\n",
      "get_grove_value error: Invalid value\n",
      "get_grove_value error: Invalid value\n",
      "0.0cm\n"
     ]
    }
   ],
   "source": [
    "##\n",
    "## Using easy class\n",
    "## Ultrasonic sensor is in \"AD1\" port\n",
    "##\n",
    "\n",
    "# Declare a constant for the duration of the test\n",
    "DURATION = 1\n",
    "# Initialize an ultrasonic sensor in port \"AD1\"\n",
    "us = egpg.init_ultrasonic_sensor(\"AD1\")\n",
    "sleep(.05)\n",
    "# Loop for <DURATION> seconds\n",
    "curTime = 0\n",
    "start = time()\n",
    "while(curTime - start < DURATION):\n",
    "    curTime = time()\n",
    "    # Convert mm reading to cm\n",
    "    reading = us.read_mm() / 10\n",
    "    # Print the readings with \"cm\" at the end\n",
    "    print(str(reading) + \"cm\")\n",
    "    sleep(0.05)"
   ]
  },
  {
   "cell_type": "code",
   "execution_count": null,
   "metadata": {
    "scrolled": true
   },
   "outputs": [],
   "source": [
    "##\n",
    "## Using non-easy class\n",
    "## Ultrasonic sensor is in \"AD1\" port\n",
    "##\n",
    "\n",
    "# Declare a constant for the duration of the test\n",
    "DURATION = 1\n",
    "# Initialize an ultrasonic sensor in the \"AD1\"/\"GROVE_1\" port\n",
    "gpg.set_grove_type(gpg.GROVE_1, gpg.GROVE_TYPE.US)\n",
    "# Loop for <DURATION> seconds\n",
    "curTime = 0\n",
    "start = time()\n",
    "while(curTime - start < DURATION):\n",
    "    curTime = time()\n",
    "    try:\n",
    "        # Read distance from the sensor\n",
    "        distance = gpg.get_grove_value(gpg.GROVE_1)\n",
    "        # Print the reading with \"cm\" at the end\n",
    "        print(str(distance / 10) + \"cm\")\n",
    "    # Ignore the erroneous readings\n",
    "    except gopigo3.SensorError:\n",
    "        pass\n",
    "    except gopigo3.ValueError:\n",
    "        pass\n",
    "    sleep(0.05)"
   ]
  },
  {
   "cell_type": "markdown",
   "metadata": {},
   "source": [
    "### Button\n",
    "<a id='button'></a>"
   ]
  },
  {
   "cell_type": "markdown",
   "metadata": {},
   "source": [
    "#### _For three seconds, Dexter's eyes will be open when the button is pressed_"
   ]
  },
  {
   "cell_type": "code",
   "execution_count": null,
   "metadata": {
    "scrolled": true
   },
   "outputs": [],
   "source": [
    "##\n",
    "## Using easy class\n",
    "## Button is in \"AD1\" port\n",
    "##\n",
    "\n",
    "# Declare a constant for the duration of the test\n",
    "DURATION = 3\n",
    "# Initialize a button in port \"AD1\"\n",
    "my_button = egpg.init_button_sensor(\"AD1\")\n",
    "# Declare button states\n",
    "RELEASED = 0\n",
    "PRESSED = 1\n",
    "state = RELEASED\n",
    "# Loop for <DURATION> seconds\n",
    "start = time()\n",
    "while time() - start < DURATION:\n",
    "    # If button is pressed, turn on the eye LEDs\n",
    "    if state == RELEASED and my_button.read() == PRESSED:\n",
    "        egpg.open_eyes()\n",
    "        state = PRESSED\n",
    "    # If button is released, turn off the eye LEDs\n",
    "    if state == PRESSED and my_button.read() == RELEASED:\n",
    "        egpg.close_eyes()\n",
    "        state = RELEASED\n",
    "    sleep(0.05)\n",
    "# Ensure that the LEDs are off when the program ends\n",
    "egpg.close_eyes()\n",
    "# Let the user know that the program has run its course\n",
    "print(\"Time has elapsed.\")"
   ]
  },
  {
   "cell_type": "markdown",
   "metadata": {},
   "source": [
    "### Light Sensor\n",
    "<a id='light'></a>"
   ]
  },
  {
   "cell_type": "markdown",
   "metadata": {},
   "source": [
    "#### _Print readings from light sensor for one second_"
   ]
  },
  {
   "cell_type": "code",
   "execution_count": null,
   "metadata": {
    "scrolled": true
   },
   "outputs": [],
   "source": [
    "##\n",
    "## Using easy class\n",
    "## Light sensor is in \"AD1\" port\n",
    "##\n",
    "\n",
    "# Declare a constant for the duration of the test\n",
    "DURATION = 1\n",
    "# Initialize a light sensor in port \"AD1\"\n",
    "ls = egpg.init_light_sensor(\"AD1\")\n",
    "# Loop for <DURATION> seconds\n",
    "startTime = time()\n",
    "while(time() - startTime < DURATION):\n",
    "    reading = ls.read()                    # Get absolute value\n",
    "    percent_reading = ls.percent_read()    # Scale the reading to 100-pt scale\n",
    "    print(reading, percent_reading)        # Print both values\n",
    "    sleep(0.05)"
   ]
  },
  {
   "cell_type": "code",
   "execution_count": null,
   "metadata": {
    "scrolled": false
   },
   "outputs": [],
   "source": [
    "##\n",
    "## Using non-easy class\n",
    "## Light sensor is in \"AD1\" port\n",
    "##\n",
    "\n",
    "# Declare a constant for the duration of the test\n",
    "DURATION = 1\n",
    "# Declare the port and pin to take input from\n",
    "LIGHT_PORT = gpg.GROVE_1\n",
    "LIGHT_PIN = gpg.GROVE_1_1\n",
    "# Set the port as an analog input port\n",
    "gpg.set_grove_type(LIGHT_PORT, gpg.GROVE_TYPE.CUSTOM)\n",
    "gpg.set_grove_mode(LIGHT_PORT, gpg.GROVE_INPUT_ANALOG)\n",
    "# Loop for <DURATION> seconds\n",
    "startTime = time()\n",
    "while(time() - startTime < DURATION):\n",
    "    sleep(0.05)\n",
    "    reading = gpg.get_grove_analog(LIGHT_PIN)  # Get absolute value\n",
    "    percent_reading = reading * 100 / 4095     # Scale the reading to 100-pt scale\n",
    "    print(reading, percent_reading)            # Print both values"
   ]
  },
  {
   "cell_type": "markdown",
   "metadata": {},
   "source": [
    "### Sound Sensor\n",
    "<a id='sound'></a>"
   ]
  },
  {
   "cell_type": "markdown",
   "metadata": {},
   "source": [
    "#### _Print readings from sound sensor for three seconds_"
   ]
  },
  {
   "cell_type": "code",
   "execution_count": 2,
   "metadata": {
    "scrolled": true
   },
   "outputs": [
    {
     "name": "stdout",
     "output_type": "stream",
     "text": [
      "Analog Read: 1146\n",
      "Analog Read: 1146\n",
      "1146 27\n",
      "Analog Read: 1744\n",
      "Analog Read: 1744\n",
      "1744 42\n",
      "Analog Read: 1729\n",
      "Analog Read: 1729\n",
      "1729 42\n",
      "Analog Read: 2329\n",
      "Analog Read: 2329\n",
      "2329 56\n",
      "Analog Read: 2071\n",
      "Analog Read: 2071\n",
      "2071 50\n",
      "Analog Read: 1686\n",
      "Analog Read: 1686\n",
      "1686 41\n",
      "Analog Read: 2407\n",
      "Analog Read: 2407\n",
      "2407 58\n",
      "Analog Read: 1936\n",
      "Analog Read: 1936\n",
      "1936 47\n",
      "Analog Read: 2132\n",
      "Analog Read: 2132\n",
      "2132 52\n",
      "Analog Read: 2235\n",
      "Analog Read: 2235\n",
      "2235 54\n",
      "Analog Read: 2326\n",
      "Analog Read: 2326\n",
      "2326 56\n",
      "Analog Read: 2228\n",
      "Analog Read: 2228\n",
      "2228 54\n",
      "Analog Read: 1157\n",
      "Analog Read: 1157\n",
      "1157 28\n",
      "Analog Read: 2460\n",
      "Analog Read: 2460\n",
      "2460 60\n",
      "Analog Read: 1698\n",
      "Analog Read: 1698\n",
      "1698 41\n",
      "Analog Read: 1668\n",
      "Analog Read: 1668\n",
      "1668 40\n",
      "Analog Read: 1148\n",
      "Analog Read: 1148\n",
      "1148 28\n",
      "Analog Read: 2414\n",
      "Analog Read: 2414\n",
      "2414 58\n",
      "Analog Read: 2050\n",
      "Analog Read: 2050\n",
      "2050 50\n",
      "Analog Read: 1149\n",
      "Analog Read: 1149\n",
      "1149 28\n",
      "Analog Read: 1148\n",
      "Analog Read: 1148\n",
      "1148 28\n",
      "Analog Read: 2207\n",
      "Analog Read: 2207\n",
      "2207 53\n",
      "Analog Read: 1150\n",
      "Analog Read: 1150\n",
      "1150 28\n",
      "Analog Read: 1883\n",
      "Analog Read: 1883\n",
      "1883 45\n",
      "Analog Read: 1150\n",
      "Analog Read: 1150\n",
      "1150 28\n",
      "Analog Read: 2571\n",
      "Analog Read: 2571\n",
      "2571 62\n",
      "Analog Read: 2039\n",
      "Analog Read: 2039\n",
      "2039 49\n",
      "Analog Read: 2267\n",
      "Analog Read: 1151\n",
      "2267 28\n",
      "Analog Read: 1813\n",
      "Analog Read: 1813\n",
      "1813 44\n",
      "Analog Read: 2125\n",
      "Analog Read: 2125\n",
      "2125 51\n",
      "Analog Read: 2068\n",
      "Analog Read: 2068\n",
      "2068 50\n",
      "Analog Read: 1151\n",
      "Analog Read: 1151\n",
      "1151 28\n",
      "Analog Read: 1152\n",
      "Analog Read: 1152\n",
      "1152 28\n",
      "Analog Read: 2509\n",
      "Analog Read: 2509\n",
      "2509 61\n",
      "Analog Read: 1868\n",
      "Analog Read: 1868\n",
      "1868 45\n",
      "Analog Read: 1156\n",
      "Analog Read: 1156\n",
      "1156 28\n",
      "Analog Read: 1153\n",
      "Analog Read: 1153\n",
      "1153 28\n",
      "Analog Read: 1964\n",
      "Analog Read: 1964\n",
      "1964 47\n",
      "Analog Read: 1407\n",
      "Analog Read: 1407\n",
      "1407 34\n",
      "Analog Read: 2038\n",
      "Analog Read: 1155\n",
      "2038 28\n",
      "Analog Read: 1210\n",
      "Analog Read: 1210\n",
      "1210 29\n",
      "Analog Read: 2306\n",
      "Analog Read: 2306\n",
      "2306 56\n",
      "Analog Read: 2416\n",
      "Analog Read: 2416\n",
      "2416 58\n",
      "Analog Read: 1159\n",
      "Analog Read: 1159\n",
      "1159 28\n",
      "Analog Read: 1156\n",
      "Analog Read: 1156\n",
      "1156 28\n",
      "Analog Read: 2258\n",
      "Analog Read: 2258\n",
      "2258 55\n",
      "Analog Read: 1157\n",
      "Analog Read: 1157\n",
      "1157 28\n",
      "Analog Read: 2430\n",
      "Analog Read: 2430\n",
      "2430 59\n",
      "Analog Read: 1159\n",
      "Analog Read: 1159\n",
      "1159 28\n",
      "Analog Read: 1163\n",
      "Analog Read: 1163\n",
      "1163 28\n",
      "Analog Read: 1585\n",
      "Analog Read: 1585\n",
      "1585 38\n",
      "Analog Read: 1489\n",
      "Analog Read: 1489\n",
      "1489 36\n",
      "Analog Read: 1161\n",
      "Analog Read: 1161\n",
      "1161 28\n",
      "Analog Read: 2099\n",
      "Analog Read: 2099\n",
      "2099 51\n",
      "Analog Read: 2134\n",
      "Analog Read: 2134\n",
      "2134 52\n",
      "Analog Read: 1566\n",
      "Analog Read: 1566\n",
      "1566 38\n",
      "Analog Read: 1166\n",
      "Analog Read: 1166\n",
      "1166 28\n"
     ]
    }
   ],
   "source": [
    "##\n",
    "## Using easy class\n",
    "## Sound sensor is in \"AD1\" port\n",
    "##\n",
    "\n",
    "# Declare a constant for the duration of the test\n",
    "DURATION = 3\n",
    "# Initialize a sound sensor in port \"AD1\"\n",
    "ss = egpg.init_sound_sensor(\"AD1\")\n",
    "# Loop for <DURATION> seconds\n",
    "startTime = time()\n",
    "while(time() - startTime < DURATION):\n",
    "    reading = ss.read()                   # Get absolute value\n",
    "    percent_reading = ss.percent_read()   # Scale the reading to 100-pt scale\n",
    "    print(reading, percent_reading)       # Print both values\n",
    "    sleep(0.05)"
   ]
  },
  {
   "cell_type": "code",
   "execution_count": 3,
   "metadata": {
    "scrolled": true
   },
   "outputs": [
    {
     "name": "stdout",
     "output_type": "stream",
     "text": [
      "1902 46.446886446886445\n",
      "1761 43.00366300366301\n",
      "1832 44.737484737484735\n",
      "2470 60.317460317460316\n",
      "2362 57.68009768009768\n",
      "1891 46.17826617826618\n",
      "1256 30.671550671550673\n",
      "1395 34.065934065934066\n",
      "4081 99.65811965811966\n",
      "3003 73.33333333333333\n",
      "2129 51.99023199023199\n",
      "1959 47.83882783882784\n",
      "1973 48.18070818070818\n",
      "3252 79.41391941391942\n",
      "2324 56.75213675213675\n",
      "2302 56.214896214896214\n",
      "2323 56.727716727716725\n",
      "2816 68.76678876678876\n",
      "1459 35.62881562881563\n",
      "2135 52.136752136752136\n",
      "1183 28.88888888888889\n",
      "2006 48.98656898656898\n",
      "1184 28.913308913308914\n",
      "1734 42.34432234432234\n",
      "1179 28.791208791208792\n",
      "1736 42.39316239316239\n",
      "1519 37.0940170940171\n",
      "1956 47.765567765567766\n",
      "1857 45.34798534798535\n",
      "2106 51.42857142857143\n",
      "1346 32.869352869352866\n",
      "1963 47.93650793650794\n",
      "1563 38.16849816849817\n",
      "2278 55.62881562881563\n",
      "2503 61.123321123321126\n",
      "2131 52.03907203907204\n",
      "2434 59.43833943833944\n",
      "1194 29.157509157509157\n",
      "1780 43.46764346764347\n",
      "2011 49.10866910866911\n",
      "1847 45.10378510378511\n",
      "1404 34.285714285714285\n",
      "1742 42.53968253968254\n",
      "1428 34.87179487179487\n",
      "2166 52.89377289377289\n",
      "2204 53.82173382173382\n",
      "1966 48.00976800976801\n",
      "2235 54.57875457875458\n",
      "2088 50.989010989010985\n",
      "1193 29.133089133089133\n",
      "1680 41.02564102564103\n",
      "2200 53.724053724053725\n",
      "1841 44.957264957264954\n",
      "1195 29.18192918192918\n",
      "2270 55.433455433455435\n",
      "1827 44.61538461538461\n",
      "3782 92.35653235653236\n",
      "1897 46.324786324786324\n",
      "1169 28.54700854700855\n"
     ]
    }
   ],
   "source": [
    "##\n",
    "## Using non-easy class\n",
    "## Sound sensor is in \"AD1\" port\n",
    "##\n",
    "\n",
    "# Declare a constant for the duration of the test\n",
    "DURATION = 3\n",
    "# Declare the port and pin to take input from\n",
    "SOUND_PORT = gpg.GROVE_1\n",
    "SOUND_PIN = gpg.GROVE_1_1\n",
    "# Set the port as an analog input port\n",
    "gpg.set_grove_type(SOUND_PORT, gpg.GROVE_TYPE.CUSTOM)\n",
    "gpg.set_grove_mode(SOUND_PORT, gpg.GROVE_INPUT_ANALOG)\n",
    "# Loop for <DURATION> seconds\n",
    "startTime = time()\n",
    "while(time() - startTime < DURATION):\n",
    "    sleep(0.05)\n",
    "    reading = gpg.get_grove_analog(SOUND_PIN)  # Get absolute value\n",
    "    percent_reading = reading * 100 / 4095     # Scale the reading to 100-pt scale\n",
    "    print(reading, percent_reading)            # Print both values"
   ]
  },
  {
   "cell_type": "markdown",
   "metadata": {},
   "source": [
    "### Line Finder\n",
    "<a id='line'></a>"
   ]
  },
  {
   "cell_type": "markdown",
   "metadata": {},
   "source": [
    "#### _For 10 seconds, turn on blinker LEDs when dark line is detected on white surface_"
   ]
  },
  {
   "cell_type": "code",
   "execution_count": null,
   "metadata": {},
   "outputs": [],
   "source": [
    "##\n",
    "## Using non-easy class\n",
    "## Line finder is in \"AD1\" port\n",
    "##\n",
    "\n",
    "# Declare a constant for the duration of the test\n",
    "DURATION = 10\n",
    "# Declare the port and pin to take input from\n",
    "LINE_PORT = gpg.GROVE_1\n",
    "LINE_PIN = gpg.GROVE_1_1\n",
    "# Set the port as a digital input port\n",
    "gpg.set_grove_type(LINE_PORT, gpg.GROVE_TYPE.CUSTOM)\n",
    "gpg.set_grove_mode(LINE_PORT, gpg.GROVE_INPUT_DIGITAL)\n",
    "# Loop for <DURATION> seconds\n",
    "startTime = time()\n",
    "while(time() - startTime < DURATION):\n",
    "    sleep(0.05)\n",
    "    if gpg.get_grove_state(LINE_PIN) == 1:\n",
    "        gpg.set_led(lb, 255)\n",
    "        gpg.set_led(rb, 255)\n",
    "    else:\n",
    "        gpg.set_led(lb, 0)\n",
    "        gpg.set_led(rb, 0)\n",
    "gpg.set_led(lb, 0)\n",
    "gpg.set_led(rb, 0)"
   ]
  },
  {
   "cell_type": "markdown",
   "metadata": {},
   "source": [
    "#### _For 10 seconds, drive along a line_"
   ]
  },
  {
   "cell_type": "code",
   "execution_count": null,
   "metadata": {
    "scrolled": true
   },
   "outputs": [],
   "source": [
    "##\n",
    "## Using easy and non-easy classes\n",
    "## Line finder is in \"AD1\" port and mounted on the front\n",
    "## of the robot, less than a centimeter from the ground\n",
    "## Yellow motors in both motor ports\n",
    "##\n",
    "\n",
    "'''\n",
    "Calibrate the sensor and assign constants for line and background:\n",
    "\n",
    "Because the line is usually darker than the background,\n",
    "this program is written with 1 and 0, respectively, for\n",
    "line and background. The constants can be switched if\n",
    "the background is darker than the line. In either case,\n",
    "the sensor should be calibrated prior to use—done by\n",
    "adjusting the potentiometer on the sensor with a small\n",
    "Phillips-head screwdriver until the built-in LED turns\n",
    "off when a line is sensed and on when one is not (for\n",
    "dark lines) or vice-versa (for lighter lines).\n",
    "'''\n",
    "LINE    = 1\n",
    "NO_LINE = 0\n",
    "\n",
    "# Declare a constant for the duration of the test\n",
    "DURATION = 10\n",
    "# Declare the port and pin to take input from\n",
    "LINE_PORT = gpg.GROVE_1\n",
    "LINE_PIN = gpg.GROVE_1_1\n",
    "# Set the port as a digital input port\n",
    "gpg.set_grove_type(LINE_PORT, gpg.GROVE_TYPE.CUSTOM)\n",
    "gpg.set_grove_mode(LINE_PORT, gpg.GROVE_INPUT_DIGITAL)\n",
    "# Declare that the motors are in both motor ports\n",
    "motorL = gpg.MOTOR_LEFT\n",
    "motorR = gpg.MOTOR_RIGHT\n",
    "# Set the motors at 20% power in the positive direction\n",
    "gpg.set_motor_power(motorL, 20)\n",
    "gpg.set_motor_power(motorR, 20)\n",
    "\n",
    "# Loop for <DURATION> seconds\n",
    "startTime = time()\n",
    "while time() - startTime < DURATION:\n",
    "    # If a line is sensed, drive forward until it is no longer sensed\n",
    "    if gpg.get_grove_state(LINE_PIN) == LINE:\n",
    "        while gpg.get_grove_state(LINE_PIN):\n",
    "            egpg.forward()\n",
    "        egpg.stop()\n",
    "    # If no line is sensed\n",
    "    else:\n",
    "        # Drive only the right motor, turning the robot to the left\n",
    "        while gpg.get_grove_state(LINE_PIN) == NO_LINE:\n",
    "            egpg.left()\n",
    "        sleep(.1)\n",
    "        # Stop the right motor just after the robot has passed the line\n",
    "        egpg.stop()\n",
    "        # Drive only the left motor, turning the robot to the right\n",
    "        while gpg.get_grove_state(LINE_PIN) == NO_LINE:\n",
    "            egpg.right()\n",
    "        sleep(.1)\n",
    "        # Stop the left motor just after the robot has passed the line\n",
    "        egpg.stop()\n",
    "# Ensure that the robot is stopped when the program ends\n",
    "egpg.stop()"
   ]
  }
 ],
 "metadata": {
  "kernelspec": {
   "display_name": "Python 3",
   "language": "python",
   "name": "python3"
  },
  "language_info": {
   "codemirror_mode": {
    "name": "ipython",
    "version": 3
   },
   "file_extension": ".py",
   "mimetype": "text/x-python",
   "name": "python",
   "nbconvert_exporter": "python",
   "pygments_lexer": "ipython3",
   "version": "3.5.3"
  }
 },
 "nbformat": 4,
 "nbformat_minor": 2
}
