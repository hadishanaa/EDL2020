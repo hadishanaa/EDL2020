{
 "cells": [
  {
   "cell_type": "markdown",
   "metadata": {},
   "source": [
    "# ARE YOU READDDYYYYY\n",
    "- By this time you should have a basic understanding of python\n",
    "- Complete these challenges so we know that you are comfortable with the language"
   ]
  },
  {
   "cell_type": "markdown",
   "metadata": {},
   "source": [
    "#### Fibonacci Sequence\n",
    "- write a function that takes in an integer n\n",
    "- print out the first n numbers of the fibonacci sequence\n",
    "\n",
    "- This can be done iteratively(in a loop) or by recursion\n",
    "- What are the tradeoffs of both? EC"
   ]
  },
  {
   "cell_type": "code",
   "execution_count": 43,
   "metadata": {},
   "outputs": [],
   "source": [
    "def fibonnaci(n):\n",
    "    # THIS IS NOT A DOCSTRING\n",
    "    \"\"\"\n",
    "    Function name: fibonnaci\n",
    "    Inputs: integer\n",
    "    Return: nothing\n",
    "    What it does: Each element is the previous to elements added together\n",
    "    \"\"\"\n",
    "    \"\"\" THIS IS NOT A DOCSTRING\"\"\"\n",
    "    a, b = 0, 1\n",
    "    for i in range(n):\n",
    "        print(a, end = ' ')\n",
    "        a, b = b, a+b\n",
    "    \"\"\" THIS IS NOT A DOCSTRING \"\"\""
   ]
  },
  {
   "cell_type": "code",
   "execution_count": 44,
   "metadata": {},
   "outputs": [
    {
     "name": "stdout",
     "output_type": "stream",
     "text": [
      "\n",
      "    Function name: fibonnaci\n",
      "    Inputs: integer\n",
      "    Return: nothing\n",
      "    What it does: Each element is the previous to elements added together\n",
      "    \n",
      "0 1 1 2 3 5 8 13 21 34 55 89 144 233 377 610 987 1597 2584 4181 "
     ]
    }
   ],
   "source": [
    "print(fibonnaci.__doc__)\n",
    "fibonnaci(20)"
   ]
  },
  {
   "cell_type": "code",
   "execution_count": null,
   "metadata": {},
   "outputs": [],
   "source": []
  }
 ],
 "metadata": {
  "kernelspec": {
   "display_name": "Python 3",
   "language": "python",
   "name": "python3"
  },
  "language_info": {
   "codemirror_mode": {
    "name": "ipython",
    "version": 3
   },
   "file_extension": ".py",
   "mimetype": "text/x-python",
   "name": "python",
   "nbconvert_exporter": "python",
   "pygments_lexer": "ipython3",
   "version": "3.5.3"
  }
 },
 "nbformat": 4,
 "nbformat_minor": 2
}
