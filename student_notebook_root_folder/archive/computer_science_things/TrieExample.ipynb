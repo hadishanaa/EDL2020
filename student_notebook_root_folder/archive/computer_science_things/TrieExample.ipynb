{
 "cells": [
  {
   "cell_type": "markdown",
   "metadata": {},
   "source": [
    "What does this class do?\n",
    "\n",
    "How do you use it and what is it used for?\n",
    "\n",
    "How do you delete a word?"
   ]
  },
  {
   "cell_type": "code",
   "execution_count": null,
   "metadata": {},
   "outputs": [],
   "source": [
    "class Trie:\n",
    "    def __init__(self, letter_arr):\n",
    "        self.dict = {}\n",
    "        self.value = None\n",
    "        for letter in letter_arr:\n",
    "            self.dict[letter] = None\n",
    "            \n",
    "    def insert(self, word, value):\n",
    "        if len(word) == 0:\n",
    "            self.value = value\n",
    "            return\n",
    "        elif word[0] in self.dict:\n",
    "            print(word)\n",
    "            if self.dict[word[0]] == None:\n",
    "                self.dict[word[0]] = Trie(self.dict.keys())\n",
    "            print(self.dict)\n",
    "            self.dict[word[0]].insert(word[1:], value)                \n",
    "        else:\n",
    "            print(\"Letter not found in Trie letter list\")\n",
    "            \n",
    "    def find(self, word):\n",
    "        if len(word) == 0:\n",
    "            return self.value\n",
    "        if word[0] in self.dict:\n",
    "            if self.dict[word[0]] == None:\n",
    "                print(\"Not found\")\n",
    "                print(word)\n",
    "                return None\n",
    "            else:\n",
    "                return self.dict[word[0]].find(word[1:])\n",
    "        else:\n",
    "            print(\"Not proper word\")\n",
    "            return None\n",
    "            "
   ]
  },
  {
   "cell_type": "code",
   "execution_count": null,
   "metadata": {},
   "outputs": [],
   "source": []
  }
 ],
 "metadata": {
  "kernelspec": {
   "display_name": "Python 3",
   "language": "python",
   "name": "python3"
  },
  "language_info": {
   "codemirror_mode": {
    "name": "ipython",
    "version": 3
   },
   "file_extension": ".py",
   "mimetype": "text/x-python",
   "name": "python",
   "nbconvert_exporter": "python",
   "pygments_lexer": "ipython3",
   "version": "3.5.3"
  }
 },
 "nbformat": 4,
 "nbformat_minor": 2
}
