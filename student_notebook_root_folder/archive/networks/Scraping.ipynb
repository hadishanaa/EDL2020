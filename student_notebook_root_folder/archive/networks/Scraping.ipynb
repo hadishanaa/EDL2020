{
 "cells": [
  {
   "cell_type": "markdown",
   "metadata": {},
   "source": [
    "Simple Scraping\n",
    "https://docs.python-guide.org/scenarios/scrape/\n",
    "\n",
    "\n",
    "Installed via:\n",
    "- sudo apt-get install libxml2-dev libxmlsec1-dev \n",
    "- sudo python3 -mpip install lxml --upgrade"
   ]
  },
  {
   "cell_type": "code",
   "execution_count": 1,
   "metadata": {},
   "outputs": [
    {
     "ename": "ImportError",
     "evalue": "No module named 'lxml'",
     "output_type": "error",
     "traceback": [
      "\u001b[0;31m---------------------------------------------------------------------------\u001b[0m",
      "\u001b[0;31mImportError\u001b[0m                               Traceback (most recent call last)",
      "\u001b[0;32m<ipython-input-1-49ad0f23ba0c>\u001b[0m in \u001b[0;36m<module>\u001b[0;34m\u001b[0m\n\u001b[0;32m----> 1\u001b[0;31m \u001b[0;32mfrom\u001b[0m \u001b[0mlxml\u001b[0m \u001b[0;32mimport\u001b[0m \u001b[0mhtml\u001b[0m\u001b[0;34m\u001b[0m\u001b[0m\n\u001b[0m\u001b[1;32m      2\u001b[0m \u001b[0;32mimport\u001b[0m \u001b[0mrequests\u001b[0m\u001b[0;34m\u001b[0m\u001b[0m\n\u001b[1;32m      3\u001b[0m \u001b[0mpage\u001b[0m \u001b[0;34m=\u001b[0m \u001b[0mrequests\u001b[0m\u001b[0;34m.\u001b[0m\u001b[0mget\u001b[0m\u001b[0;34m(\u001b[0m\u001b[0;34m'https://realpython.com/python-sockets/#socket-api-overview'\u001b[0m\u001b[0;34m)\u001b[0m\u001b[0;34m\u001b[0m\u001b[0m\n\u001b[1;32m      4\u001b[0m \u001b[0mprint\u001b[0m\u001b[0;34m(\u001b[0m\u001b[0mpage\u001b[0m\u001b[0;34m.\u001b[0m\u001b[0mcontent\u001b[0m\u001b[0;34m.\u001b[0m\u001b[0mdecode\u001b[0m\u001b[0;34m(\u001b[0m\u001b[0;34m\"utf-8\"\u001b[0m\u001b[0;34m)\u001b[0m\u001b[0;34m)\u001b[0m\u001b[0;34m\u001b[0m\u001b[0m\n",
      "\u001b[0;31mImportError\u001b[0m: No module named 'lxml'"
     ]
    }
   ],
   "source": [
    "from lxml import html\n",
    "import requests\n",
    "page = requests.get('https://realpython.com/python-sockets/#socket-api-overview')\n",
    "print(page.content.decode(\"utf-8\"))"
   ]
  },
  {
   "cell_type": "markdown",
   "metadata": {},
   "source": [
    "The following code provides an example of scraping all hyperlinks with https"
   ]
  },
  {
   "cell_type": "code",
   "execution_count": null,
   "metadata": {},
   "outputs": [],
   "source": [
    "arr = page.content.decode(\"utf-8\").split()\n",
    "hyperlinks = []\n",
    "\n",
    "def lcheck(str):\n",
    "    if str[0:11] == 'href=\"https':\n",
    "        return True\n",
    "    else:\n",
    "        return False\n",
    "#sanitize the results to only show the link\n",
    "def steos(str):\n",
    "    startind = 0\n",
    "    start = True\n",
    "    endind = 0\n",
    "    for i in range(len(str)):\n",
    "        if start:\n",
    "            if str[i] == '\"':\n",
    "                start = False\n",
    "                startind = i+1\n",
    "        else:\n",
    "            if str[i] == '\"':\n",
    "                endind = i\n",
    "                break\n",
    "    return str[startind:endind]\n",
    "\n",
    "for str in arr:\n",
    "    if lcheck(str):\n",
    "        hyperlinks.append(steos(str))\n",
    "\n",
    "for link in hyperlinks:\n",
    "    print(link)\n",
    "    "
   ]
  }
 ],
 "metadata": {
  "kernelspec": {
   "display_name": "Python 3",
   "language": "python",
   "name": "python3"
  },
  "language_info": {
   "codemirror_mode": {
    "name": "ipython",
    "version": 3
   },
   "file_extension": ".py",
   "mimetype": "text/x-python",
   "name": "python",
   "nbconvert_exporter": "python",
   "pygments_lexer": "ipython3",
   "version": "3.5.3"
  }
 },
 "nbformat": 4,
 "nbformat_minor": 2
}
