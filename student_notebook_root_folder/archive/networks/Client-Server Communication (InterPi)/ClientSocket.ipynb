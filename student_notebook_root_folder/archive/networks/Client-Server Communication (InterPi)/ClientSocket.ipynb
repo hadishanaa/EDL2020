{
 "cells": [
  {
   "cell_type": "markdown",
   "metadata": {},
   "source": [
    "# Client Side Socket\n",
    "\n",
    "Run this code on clients to connect to the ip address\n",
    "Change the associated ip address and port to whichever server you wish to connect to\n",
    "(SMTP (email servers) use port 25, and most web servers use port 80)"
   ]
  },
  {
   "cell_type": "code",
   "execution_count": 1,
   "metadata": {},
   "outputs": [
    {
     "data": {
      "text/plain": [
       "b'Bye'"
      ]
     },
     "execution_count": 1,
     "metadata": {},
     "output_type": "execute_result"
    }
   ],
   "source": [
    "#Client side\n",
    "import socket\n",
    "s = socket.socket(socket.AF_INET, socket.SOCK_STREAM)\n",
    "#Port and IP has to match server side socket\n",
    "\n",
    "IPaddress = '10.245.155.164' # '192.168.0.113'\n",
    "PORTnum = 6544\n",
    "\n",
    "s.connect((IPaddress, PORTnum))\n",
    "#s.connect(('10.245.150.164', 6543)) \n",
    "s.sendall(b\"Hi\") #only sends byte-like object\n",
    "data = s.recv(1024)\n",
    "s.close() # tells the server that the connection is done\n",
    "data"
   ]
  },
  {
   "cell_type": "code",
   "execution_count": null,
   "metadata": {},
   "outputs": [],
   "source": []
  }
 ],
 "metadata": {
  "kernelspec": {
   "display_name": "Python 3",
   "language": "python",
   "name": "python3"
  },
  "language_info": {
   "codemirror_mode": {
    "name": "ipython",
    "version": 3
   },
   "file_extension": ".py",
   "mimetype": "text/x-python",
   "name": "python",
   "nbconvert_exporter": "python",
   "pygments_lexer": "ipython3",
   "version": "3.5.3"
  }
 },
 "nbformat": 4,
 "nbformat_minor": 2
}
