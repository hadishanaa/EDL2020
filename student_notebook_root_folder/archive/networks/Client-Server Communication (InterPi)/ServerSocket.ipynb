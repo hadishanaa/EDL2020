{
 "cells": [
  {
   "cell_type": "markdown",
   "metadata": {},
   "source": [
    "# Server Side Socketing\n",
    "\n",
    "Taking code from https://docs.python.org/3.5/howto/sockets.html\n",
    "and https://realpython.com/python-sockets/#socket-api-overview\n",
    "\n",
    "There are two parts to sockets, the server and the client that tries to call upon the server.\n",
    "The code below is for the server side. "
   ]
  },
  {
   "cell_type": "code",
   "execution_count": 1,
   "metadata": {},
   "outputs": [],
   "source": [
    "#Libraries\n",
    "import socket\n",
    "import fcntl, struct"
   ]
  },
  {
   "cell_type": "code",
   "execution_count": 2,
   "metadata": {},
   "outputs": [],
   "source": [
    "#takes in callback function (string to string)\n",
    "#calls this function on the data received once\n",
    "def doonServer(callback):\n",
    "    s = socket.socket(socket.AF_INET, socket.SOCK_STREAM)\n",
    "    s.setsockopt(socket.SOL_SOCKET, socket.SO_REUSEADDR, 1) #Port is marked as reusable even if in TIME_WAIT status\n",
    "\n",
    "##Get host ip (this sets it to '127.0.1.1' due to pi settings)\n",
    "    host = socket.gethostbyname(socket.gethostname())\n",
    "    print(host)\n",
    "\n",
    "#Gets ip address tied to network adapter\n",
    "    host = socket.inet_ntoa(fcntl.ioctl(s.fileno(), 0x8915, struct.pack('256s', b'wlan0'))[20:24])\n",
    "    print(host)\n",
    "\n",
    "#Takes in a tuple, First argument in tuple is the host, Second is the port number\n",
    "#Port number is arbitrary but above 1024\n",
    "    s.bind((host, 6544)) #loopback\n",
    "    s.listen() \n",
    "\n",
    "#The actual socket used to interface with client socket\n",
    "#Shortcoming: Only accepts one client, closes after accepting one client.\n",
    "    conn, adr = s.accept()\n",
    "    while True:\n",
    "        data = conn.recv(1024) #number of bytes allocated for buffer to read in data\n",
    "        if not data: #when no more data is received\n",
    "            conn.close()\n",
    "            break\n",
    "    #a byte-like object is in data\n",
    "    #we can do whatever we want with it\n",
    "        string = data.decode(\"utf-8\")\n",
    "        conn.sendall(callback(string).encode(\"utf-8\"))\n",
    "    s.close()"
   ]
  },
  {
   "cell_type": "code",
   "execution_count": 3,
   "metadata": {},
   "outputs": [],
   "source": [
    "#returns string\n",
    "#Sample string to string function\n",
    "def onString(str):\n",
    "    if (str == \"Hi\" or str == \"Hello\"):\n",
    "        return \"Bye\"\n",
    "    else:\n",
    "        return \"How Unfriendly!\""
   ]
  },
  {
   "cell_type": "code",
   "execution_count": 4,
   "metadata": {},
   "outputs": [
    {
     "name": "stdout",
     "output_type": "stream",
     "text": [
      "127.0.1.1\n",
      "10.245.155.164\n"
     ]
    }
   ],
   "source": [
    "doonServer(onString)"
   ]
  },
  {
   "cell_type": "markdown",
   "metadata": {},
   "source": [
    "Using the above code and the code within Client socket, you should be able to communicate between Raspberry Pis, by setting one as a server and the other as a client, using their IP addresses."
   ]
  },
  {
   "cell_type": "code",
   "execution_count": 21,
   "metadata": {},
   "outputs": [
    {
     "name": "stdout",
     "output_type": "stream",
     "text": [
      "Server set up: 192.168.0.113\n"
     ]
    }
   ],
   "source": [
    "# Server Code:\n",
    "import socket\n",
    "import fcntl, struct\n",
    "\n",
    "# Port has to match client side socket\n",
    "PORT_num = 6543 # choose a number here; arbitrary but has to be above 1024\n",
    "BUFFER = 1024 # buffer size\n",
    "\n",
    "# function to process a message coming into the server\n",
    "def process_message(message_in):\n",
    "    if (message_in == \"Hi\" or message_in == \"Hello\"):\n",
    "        message_out = \"Bye\"\n",
    "    else:\n",
    "        message_out = \"How Unfriendly!\"\n",
    "    return message_out\n",
    "\n",
    "# set up and run server:\n",
    "s = socket.socket(socket.AF_INET, socket.SOCK_STREAM)\n",
    "# Port is marked as reusable even if in TIME_WAIT status\n",
    "s.setsockopt(socket.SOL_SOCKET, socket.SO_REUSEADDR, 1)\n",
    "\n",
    "# Set up host (gets IP address tied to network adapter)\n",
    "host = socket.inet_ntoa(fcntl.ioctl(s.fileno(), 0x8915, struct.pack('256s', b'wlan0'))[20:24])\n",
    "print('Server set up:',host)\n",
    "\n",
    "s.bind((host, PORT_num))\n",
    "s.listen()\n",
    "\n",
    "# set up to accept incoming message (interface with client socket)\n",
    "# limitation: only accepts one client, closes after accepting one client\n",
    "conn, adr = s.accept()\n",
    "while True:\n",
    "    data = conn.recv(BUFFER) # read in data (size of buffer)\n",
    "    if not data: # when no more data is received\n",
    "        conn.close()\n",
    "        break\n",
    "    message_in = data.decode(\"utf-8\") # data is byte-like object, decode to string\n",
    "    message_out = process_message(message_in) # process\n",
    "    conn.sendall(message_out.encode(\"utf-8\")) # send reply back to client\n",
    "s.close()"
   ]
  },
  {
   "cell_type": "code",
   "execution_count": null,
   "metadata": {},
   "outputs": [],
   "source": []
  }
 ],
 "metadata": {
  "kernelspec": {
   "display_name": "Python 3",
   "language": "python",
   "name": "python3"
  },
  "language_info": {
   "codemirror_mode": {
    "name": "ipython",
    "version": 3
   },
   "file_extension": ".py",
   "mimetype": "text/x-python",
   "name": "python",
   "nbconvert_exporter": "python",
   "pygments_lexer": "ipython3",
   "version": "3.5.3"
  }
 },
 "nbformat": 4,
 "nbformat_minor": 2
}
