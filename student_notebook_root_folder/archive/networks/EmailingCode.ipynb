{
 "cells": [
  {
   "cell_type": "markdown",
   "metadata": {},
   "source": [
    "For personal Gmail accounts, you will have to turn on less secure app access, or use OAuth2 authentication\n",
    "\n",
    "SMTP: Simple Mail Transfer Protocol\n",
    "\n",
    "Options: SSL (Secure sockets layer) or TLS (Transport Layer Security)\n",
    "\n",
    "Reference: https://realpython.com/python-send-email/\n",
    "\n",
    "Other methods can be done via setting up a local SMTP server on your Raspberry Pi"
   ]
  },
  {
   "cell_type": "code",
   "execution_count": 1,
   "metadata": {},
   "outputs": [
    {
     "data": {
      "text/plain": [
       "(221, b'2.0.0 closing connection y6sm16314880qke.34 - gsmtp')"
      ]
     },
     "execution_count": 1,
     "metadata": {},
     "output_type": "execute_result"
    }
   ],
   "source": [
    "import smtplib, ssl\n",
    "# Create a secure SSL context\n",
    "context = ssl.create_default_context()\n",
    "\n",
    "#Email Server\n",
    "smtp_server = \"smtp.gmail.com\"\n",
    "sender_email = \"insecurees2@gmail.com\"\n",
    "password = \"inseces2\"\n",
    "receiver_email = \"insecurees2@gmail.com\"\n",
    "\n",
    "port = 465 # for SSL, 587 for startTLS, 1025 for local debugging server\n",
    "\n",
    "email_serv = smtplib.SMTP_SSL(smtp_server, port, context=context)\n",
    "email_serv.login(sender_email, password)\n",
    "#First argument does not seem to be used\n",
    "#Used to construct message envelope for some transport agents\n",
    "email_serv.sendmail(\"not@gmail.com\",receiver_email,\"Subject:Test Spam \\n\\n Spam from Python\")\n",
    "email_serv.quit()\n"
   ]
  },
  {
   "cell_type": "code",
   "execution_count": null,
   "metadata": {},
   "outputs": [],
   "source": []
  }
 ],
 "metadata": {
  "kernelspec": {
   "display_name": "Python 3",
   "language": "python",
   "name": "python3"
  },
  "language_info": {
   "codemirror_mode": {
    "name": "ipython",
    "version": 3
   },
   "file_extension": ".py",
   "mimetype": "text/x-python",
   "name": "python",
   "nbconvert_exporter": "python",
   "pygments_lexer": "ipython3",
   "version": "3.5.3"
  }
 },
 "nbformat": 4,
 "nbformat_minor": 2
}
