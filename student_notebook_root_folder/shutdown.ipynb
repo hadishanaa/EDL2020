{
 "cells": [
  {
   "cell_type": "markdown",
   "metadata": {},
   "source": [
    "# Shutdown Pi"
   ]
  },
  {
   "cell_type": "code",
   "execution_count": null,
   "metadata": {},
   "outputs": [],
   "source": [
    "#This script will shutdown your pi\n",
    "from EDL_Jupyter_resources import shutdown_pi\n",
    "\n",
    "if input(\"Type 'y' to shutdown your pi: \")=='y':\n",
    "    shutdown_pi()\n",
    "else:\n",
    "    print(\"Shutdown Aborted.\")"
   ]
  }
 ],
 "metadata": {
  "kernelspec": {
   "display_name": "Python 3",
   "language": "python",
   "name": "python3"
  },
  "language_info": {
   "codemirror_mode": {
    "name": "ipython",
    "version": 3
   },
   "file_extension": ".py",
   "mimetype": "text/x-python",
   "name": "python",
   "nbconvert_exporter": "python",
   "pygments_lexer": "ipython3",
   "version": "3.5.3"
  }
 },
 "nbformat": 4,
 "nbformat_minor": 2
}
