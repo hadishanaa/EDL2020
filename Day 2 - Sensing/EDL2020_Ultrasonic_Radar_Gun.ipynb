{
 "cells": [
  {
   "cell_type": "markdown",
   "metadata": {},
   "source": [
    "# Challenge Exercise: Radar Gun \n",
    "\n",
    "With an ultrasonic sensor and some clever math, it is possible to build a \"radar gun\" that tracks the max speed of a moving object. Before getting into the code, it is important to first understand the math that allows this radar gun idea to work.\n",
    "\n",
    "Think back to the distance sensing exploration. In that exercise we plotted the distance recorded by the sensor vs the time at which it took that reading. When things were moving fast, the curve was steeper, as the distance changed quicker *with respect to* time. It turns out that to measure the speed at which an object is moving, all you need to do is figure out how steep the distance vs time curve is; that is to say, you need to calculate its *slope*.\n",
    "\n",
    "Knowing this, think about how you could write a function to return the slope between the last two points of a data set. Then, have the function loop while the ultrasonic sensor takes data and puts it into an array. The function should continually return the slope between the last two readings of the sensor. Print this reading at a readable interval so that you can see the \"speed\" at which the object is moving. Here's a template to get you started:"
   ]
  },
  {
   "cell_type": "code",
   "execution_count": null,
   "metadata": {},
   "outputs": [],
   "source": [
    "#Radar Gun Template\n",
    "# import GoPiGo Modules:\n",
    "from easygopigo3 import EasyGoPiGo3\n",
    "#import other stuff:\n",
    "from IPython.display import clear_output\n",
    "import numpy as np\n",
    "import matplotlib.pyplot as plt\n",
    "import time\n",
    "from EDL_Jupyter_resources import HiddenPrints\n",
    "hiddenprints=HiddenPrints()\n",
    "\n",
    "# Initialize easy gpg\n",
    "easyGPG = EasyGoPiGo3()\n",
    "# Make sure that all sensors and output devices are uncofigured to start\n",
    "easyGPG.reset_all()\n",
    "\n",
    "#define our ultrasonic sensor object as plugged into AD1\n",
    "US_sensor = easyGPG.init_ultrasonic_sensor(\"AD1\")\n",
    "\n",
    "###Functions###\n",
    "\n",
    "def take_slope(data):  \n",
    "    '''\n",
    "    Gets a data set (y values) and calculates the slope\n",
    "    between the last two points\n",
    "    '''\n",
    "    if len(data)==1: #if data has len 1 it has no slope\n",
    "        return 0\n",
    "    \n",
    "    '''Fill in the blanks below to finish the function'''\n",
    "    \n",
    "    y2=\n",
    "    y1=\n",
    "    dx=1 #dx is the length of sample\n",
    "    dy=y2-y1 #dy is the change in data\n",
    "\n",
    "    return(dy/dx)\n",
    "\n",
    "###Variable Initialization###\n",
    "\n",
    "#these arrays will store data about the pos and speed\n",
    "reading_data=np.array([]) #init reading data\n",
    "slope_data=np.array([]) #init slope data\n",
    "times=np.array([]) #for plotting data\n",
    "\n",
    "###Parameters###\n",
    "\n",
    "#how long and how fast to sample\n",
    "sample_rate=4 #rate at which to run loop in Hz\n",
    "length=10 #length of sample\n",
    "\n",
    "###Loop###\n",
    "\n",
    "print(\"Starting\")\n",
    "start=time.time()\n",
    "while time.time()-start<length: \n",
    "    with hiddenprints:\n",
    "        reading=US_sensor.read() #get sensor reading\n",
    "        \n",
    "    reading_data=np.append(reading_data,reading) #add it to dataset\n",
    "     \n",
    "    slope= #get slope of data using take_slope(reading_data)\n",
    "    slope_data=np.append(slope_data,slope)\n",
    "    \n",
    "    '''\n",
    "    Here you should report the live speed (slope)\n",
    "    \n",
    "    For a challenge, only report the speed as fast as you can\n",
    "    read it, and report both average and max speeds over that \n",
    "    interval\n",
    "    '''\n",
    "    \n",
    "    time.sleep(1.0/sample_rate) #sleep\n",
    "\n",
    "print('Done')\n",
    "\n",
    "###Plotting Data###\n",
    "\n",
    "plt.figure(0)\n",
    "plt.plot(times,reading_data)\n",
    "plt.figure(1)\n",
    "plt.plot(times,slope_data)\n",
    "plt.show()"
   ]
  },
  {
   "cell_type": "markdown",
   "metadata": {},
   "source": [
    "For a greater challenge, increase the sample rate (rate at which your loop runs) and have the console print at a different rate that is still readable to the user. Make it print the average speed during that interval as well as the maximum speed. Now you can see the max speed your sensor recorded and catch speeders in your house!"
   ]
  },
  {
   "cell_type": "code",
   "execution_count": null,
   "metadata": {},
   "outputs": [],
   "source": [
    "#experiment more here:\n"
   ]
  }
 ],
 "metadata": {
  "kernelspec": {
   "display_name": "Python 3",
   "language": "python",
   "name": "python3"
  },
  "language_info": {
   "codemirror_mode": {
    "name": "ipython",
    "version": 3
   },
   "file_extension": ".py",
   "mimetype": "text/x-python",
   "name": "python",
   "nbconvert_exporter": "python",
   "pygments_lexer": "ipython3",
   "version": "3.5.3"
  }
 },
 "nbformat": 4,
 "nbformat_minor": 2
}
