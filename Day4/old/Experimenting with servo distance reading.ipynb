{
 "cells": [
  {
   "cell_type": "code",
   "execution_count": 1,
   "metadata": {},
   "outputs": [
    {
     "name": "stdout",
     "output_type": "stream",
     "text": [
      "Init.\n"
     ]
    }
   ],
   "source": [
    "'''Scanning a range of an area with a servo and a distance sensor'''\n",
    "#Init\n",
    "\n",
    "##IMPORTS##\n",
    "from easygopigo3 import EasyGoPiGo3\n",
    "from EDL_Jupyter_resources import HiddenPrints\n",
    "from IPython.display import clear_output\n",
    "import time\n",
    "import numpy as np\n",
    "%matplotlib inline\n",
    "import matplotlib.pyplot as plt\n",
    "hiddenprints=HiddenPrints()\n",
    "\n",
    "# Initialize easy gpg\n",
    "easyGPG = EasyGoPiGo3()\n",
    "# Make sure that all sensors and output devices are uncofigured to start\n",
    "easyGPG.reset_all()\n",
    "\n",
    "###SENSORS###\n",
    "my_distance_sensor=easyGPG.init_distance_sensor()\n",
    "my_servo = easyGPG.init_servo(\"SERVO1\")\n",
    "\n",
    "print('Init.')"
   ]
  },
  {
   "cell_type": "code",
   "execution_count": 83,
   "metadata": {},
   "outputs": [
    {
     "data": {
      "image/png": "[encoded data removed]",
      "text/plain": [
       "<Figure size 432x288 with 1 Axes>"
      ]
     },
     "metadata": {
      "needs_background": "light"
     },
     "output_type": "display_data"
    },
    {
     "data": {
      "text/plain": [
       "([array([29.74334584]), array([3.91578577])], array([7.89914986]))"
      ]
     },
     "execution_count": 83,
     "metadata": {},
     "output_type": "execute_result"
    }
   ],
   "source": [
    "def normalize_min_max(raw_data):\n",
    "    \n",
    "    normalized_data=np.array([])\n",
    "    \n",
    "    max_reading=np.max(raw_data)\n",
    "    min_reading=np.min(raw_data) \n",
    "\n",
    "    if max_reading==min_reading:\n",
    "        return []\n",
    "    \n",
    "    for raw_reading in raw_data:\n",
    "        normalized_reading = (raw_reading - min_reading)/(max_reading-min_reading) \n",
    "        normalized_data=np.append(normalized_data,normalized_reading)\n",
    "    \n",
    "    return normalized_data\n",
    "\n",
    "def scan_object(graph=False):\n",
    "\n",
    "    ###SCAN PARAMETERS###\n",
    "    scan_center=100\n",
    "    scan_step=5\n",
    "    scan_width=120\n",
    "    zero_position=scan_center-(scan_width//2)\n",
    "\n",
    "    ###ARRAY INIT.###\n",
    "    distances=np.array([])\n",
    "    angles=np.array([])\n",
    "\n",
    "    ###SCAN###\n",
    "    for i in range(scan_width//scan_step):\n",
    "        #scan from right to left\n",
    "        angle=zero_position+i*scan_step\n",
    "        my_servo.rotate_servo(angle)\n",
    "        distances=np.append(distances,my_distance_sensor.read())\n",
    "        angles=np.append(angles,angle)\n",
    "        time.sleep(0.01)\n",
    "\n",
    "    ###OBJECT WIDTH CALCULATION###\n",
    "    normalized_distances=normalize_min_max(distances) #normalize distance data\n",
    "    if len(normalized_distances)==0:\n",
    "        return([0,0],0)\n",
    "    object_angles=angles[np.where(normalized_distances<0.1)] #get the angles where it 'sees the object'\n",
    "    object_angular_width=np.max(object_angles)-np.min(object_angles) #calculate the width of that range of angles\n",
    "    min_dist=distances[np.where(angles==object_angles[len(object_angles)//2])] #find the distance to the 'center' of the object\n",
    "    object_width=2*min_dist*np.tan((object_angular_width*np.pi/180)/2) #do trig to figure out the object width\n",
    "    \n",
    "    ###OBJECT LOCATION CALCULATION###\n",
    "    min_angle=np.average(object_angles) #min angle is center of object_angles\n",
    "    object_heading=min_angle-scan_center\n",
    "    dx = min_dist*np.cos((object_heading*np.pi/180)) #dx found using trig\n",
    "    dy = min_dist*np.sin((object_heading*np.pi/180)) #dy found using trig (note left of bot is positive)\n",
    " \n",
    "    if graph:\n",
    "        plt.figure(0)\n",
    "        plt.plot(angles,distances)\n",
    "        plt.plot(min_angle,min_dist,marker='o', markersize=5, color=\"red\")\n",
    "        plt.show()\n",
    "    \n",
    "    return([dx,dy],object_width)\n",
    "\n",
    "scan_object(graph=True)"
   ]
  },
  {
   "cell_type": "code",
   "execution_count": null,
   "metadata": {},
   "outputs": [],
   "source": []
  }
 ],
 "metadata": {
  "kernelspec": {
   "display_name": "Python 3",
   "language": "python",
   "name": "python3"
  },
  "language_info": {
   "codemirror_mode": {
    "name": "ipython",
    "version": 3
   },
   "file_extension": ".py",
   "mimetype": "text/x-python",
   "name": "python",
   "nbconvert_exporter": "python",
   "pygments_lexer": "ipython3",
   "version": "3.5.3"
  }
 },
 "nbformat": 4,
 "nbformat_minor": 2
}
