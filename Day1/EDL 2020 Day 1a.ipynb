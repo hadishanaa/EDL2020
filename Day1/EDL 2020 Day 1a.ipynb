{
 "cells": [
  {
   "cell_type": "markdown",
   "metadata": {},
   "source": [
    "# Engineering Design Lab Day 1: Introduction to Python and Coding"
   ]
  },
  {
   "cell_type": "markdown",
   "metadata": {},
   "source": [
    "**Welcome to Jupyter Notebooks.** Over the next couple days you will be using Jupyter notebooks to learn the basics of Python. You will then use these notebooks to test and run code later in the two-week program. Your final project code will also be written in Jupyter notebooks!\n",
    "**Let's get started!**"
   ]
  },
  {
   "cell_type": "markdown",
   "metadata": {},
   "source": [
    "**Your name:** [insert your name here]"
   ]
  },
  {
   "cell_type": "markdown",
   "metadata": {},
   "source": [
    "Python is a very well-documented programming language, with documentation found [here](https://docs.python.org/3.7/). Other useful references for the next two weeks are the textbook [_Think Python (2nd Edition)_ by Allen B. Downey](http://greenteapress.com/thinkpython2/thinkpython2.pdf) which we'll be referencing often, or [w3schools](https://www.w3schools.com/python/default.asp), or of course your lovely instructors and TAs."
   ]
  },
  {
   "cell_type": "markdown",
   "metadata": {},
   "source": [
    "This notebook covers:"
   ]
  },
  {
   "cell_type": "markdown",
   "metadata": {},
   "source": [
    "# Intro to Python\n",
    "\n",
    "Python is an **interpreted**, high-level, general-purpose programming language. It has a design philosophy that emphasizes **code readability**, notably using significant **whitespace**. It supports multiple programming paradigms, including object-oriented, imperative, functional and procedural, and has a large and comprehensive standard library.\n",
    "\n",
    "The language's core philosophy is summarized in the document The Zen of Python, which includes aphorisms such as:\n",
    "- Beautiful is better than ugly\n",
    "- Explicit is better than implicit\n",
    "- Simple is better than complex\n",
    "- Complex is better than complicated\n",
    "- Readability counts"
   ]
  },
  {
   "cell_type": "markdown",
   "metadata": {},
   "source": [
    "# INSERT ETHAN'S PYTHON IMAGE HERE"
   ]
  },
  {
   "cell_type": "markdown",
   "metadata": {},
   "source": [
    "Let's analyze some code:"
   ]
  },
  {
   "cell_type": "code",
   "execution_count": 4,
   "metadata": {},
   "outputs": [
    {
     "name": "stdout",
     "output_type": "stream",
     "text": [
      "Time:  11 seconds.\n"
     ]
    },
    {
     "ename": "KeyboardInterrupt",
     "evalue": "",
     "output_type": "error",
     "traceback": [
      "\u001b[1;31m---------------------------------------------------------------------------\u001b[0m",
      "\u001b[1;31mKeyboardInterrupt\u001b[0m                         Traceback (most recent call last)",
      "\u001b[1;32m<ipython-input-4-ee0c14fcff48>\u001b[0m in \u001b[0;36m<module>\u001b[1;34m\u001b[0m\n\u001b[0;32m      5\u001b[0m     \u001b[0mclear_output\u001b[0m\u001b[1;33m(\u001b[0m\u001b[1;33m)\u001b[0m\u001b[1;33m\u001b[0m\u001b[1;33m\u001b[0m\u001b[0m\n\u001b[0;32m      6\u001b[0m     \u001b[0mprint\u001b[0m\u001b[1;33m(\u001b[0m\u001b[1;34m'Time: '\u001b[0m\u001b[1;33m,\u001b[0m \u001b[0mint\u001b[0m\u001b[1;33m(\u001b[0m\u001b[0mtime\u001b[0m\u001b[1;33m.\u001b[0m\u001b[0mtime\u001b[0m\u001b[1;33m(\u001b[0m\u001b[1;33m)\u001b[0m \u001b[1;33m-\u001b[0m \u001b[0mstart_time\u001b[0m\u001b[1;33m)\u001b[0m\u001b[1;33m,\u001b[0m \u001b[1;34m'seconds.'\u001b[0m\u001b[1;33m)\u001b[0m\u001b[1;33m\u001b[0m\u001b[1;33m\u001b[0m\u001b[0m\n\u001b[1;32m----> 7\u001b[1;33m     \u001b[0mtime\u001b[0m\u001b[1;33m.\u001b[0m\u001b[0msleep\u001b[0m\u001b[1;33m(\u001b[0m\u001b[1;36m1\u001b[0m\u001b[1;33m)\u001b[0m\u001b[1;33m\u001b[0m\u001b[1;33m\u001b[0m\u001b[0m\n\u001b[0m",
      "\u001b[1;31mKeyboardInterrupt\u001b[0m: "
     ]
    }
   ],
   "source": [
    "import time\n",
    "from IPython.display import clear_output\n",
    "start_time = time.time()\n",
    "while True:\n",
    "    clear_output()\n",
    "    print('Time: ', int(time.time() - start_time), 'seconds.')\n",
    "    time.sleep(1)"
   ]
  },
  {
   "cell_type": "markdown",
   "metadata": {},
   "source": [
    "# INSERT ETHAN'S OTHER PYTHON IMAGE HERE"
   ]
  },
  {
   "cell_type": "markdown",
   "metadata": {},
   "source": [
    "# Running Python and Jupyter Notebooks\n",
    "([Sec 1.2](http://greenteapress.com/thinkpython2/html/thinkpython2002.html#sec7))"
   ]
  },
  {
   "cell_type": "markdown",
   "metadata": {},
   "source": [
    "You will receive a Raspberry Pi as part of your robotics kit. The Raspberry Pi (or RPi, or Pi) is a essentially a small, self-contained computer. Your Pi already has Python 3 installed on it, which means that all code you write should be able to run directly off of it, meaning that you do not have to install anything on your personal device. Once the Pi is running and connected to the network, you will be able to write and execute Python code.\n",
    "\n",
    "In the absence of the RPi, we will instead help you learn Python via Google Colab, a sort of online interpreter for Jupyter Notebooks. It will do everything that the RPi can do, except without requiring you to have your RPi on hand.\n",
    "\n",
    "The Jupyter Notebook that you are reading right now creates a Kernel as your Python interpreter. Right now it is running in the background, which means you can create a \"cell\" (a block of code) within your Notebook that contains Python code, then execute that code (in other words Run that cell). The following cell displays (1+1). Click on the cell (it should be highlighted) then hit \"Run\" in the menu, or CTRL + ENTER on your keyboard. The Notebook will then execute the code and display the output."
   ]
  },
  {
   "cell_type": "code",
   "execution_count": 2,
   "metadata": {
    "collapsed": true
   },
   "outputs": [
    {
     "data": {
      "text/plain": [
       "2"
      ]
     },
     "execution_count": 2,
     "metadata": {},
     "output_type": "execute_result"
    }
   ],
   "source": [
    "1+1"
   ]
  },
  {
   "cell_type": "markdown",
   "metadata": {},
   "source": [
    "# Print statements"
   ]
  },
  {
   "cell_type": "markdown",
   "metadata": {},
   "source": [
    "A print statement ([Sec 1.3](http://greenteapress.com/thinkpython2/html/thinkpython2002.html#sec8)) returns the string inside its parenthesis. The parenthesis tell us that **print()** is a **function**. You must also put quotations around the string to mark the beginning and the end of the statement.\n",
    "\n",
    "Ex: `print('Hello, World')` will return Hello World\n",
    "\n",
    "**Try it below:**"
   ]
  },
  {
   "cell_type": "code",
   "execution_count": 10,
   "metadata": {},
   "outputs": [
    {
     "name": "stdout",
     "output_type": "stream",
     "text": [
      "Hello, World\n"
     ]
    }
   ],
   "source": [
    "print('Hello, World')"
   ]
  },
  {
   "cell_type": "markdown",
   "metadata": {},
   "source": [
    "Unlike some other programming languages, you may use either single quotes `'` or double quotes `\"` in your strings. **Try out the following and see what they do:**\n",
    "\n",
    "- `print('Hello, World')`\n",
    "- `print(\"Hello, World\")`\n",
    "- `print(\"Hello, World')`\n",
    "- `print('Hello, World\")`\n",
    "- `print(\"'Hello, World'\")`\n",
    "- `print('\"Hello, World\"')`"
   ]
  },
  {
   "cell_type": "code",
   "execution_count": 9,
   "metadata": {},
   "outputs": [
    {
     "name": "stdout",
     "output_type": "stream",
     "text": [
      "Hello, World\n"
     ]
    }
   ],
   "source": [
    "print('Hello, World')"
   ]
  },
  {
   "cell_type": "markdown",
   "metadata": {},
   "source": [
    "# Basic math"
   ]
  },
  {
   "cell_type": "markdown",
   "metadata": {},
   "source": [
    "You can use Python to compute basic arithmetic operations ([Sec 1.4](http://greenteapress.com/thinkpython2/html/thinkpython2002.html#sec9)).\n",
    "\n",
    "- `2+2`\n",
    "- `6-1` \n",
    "- `2*3`\n",
    "- `16/2`\n",
    "- `3**2`\n",
    "\n",
    "Note that you can have spaces in surrounding the operator:\n",
    "\n",
    "- `2+2`\n",
    "- `2 + 2`\n",
    "\n",
    "**Play around with these arithmetic operations below to see what they do:**"
   ]
  },
  {
   "cell_type": "code",
   "execution_count": 12,
   "metadata": {},
   "outputs": [
    {
     "data": {
      "text/plain": [
       "4"
      ]
     },
     "execution_count": 12,
     "metadata": {},
     "output_type": "execute_result"
    }
   ],
   "source": [
    "2+2"
   ]
  },
  {
   "cell_type": "markdown",
   "metadata": {},
   "source": [
    "Note that Python follows PEMDAS order of operations."
   ]
  },
  {
   "cell_type": "markdown",
   "metadata": {},
   "source": [
    "Python also has two more advanced built-in functions ([Sec 5.1](http://greenteapress.com/thinkpython2/html/thinkpython2006.html#sec55)):\n",
    "\n",
    "The `%` operator, called \"modulus\" or \"mod\" in the form `a % b` obtains the remainder after two numbers are divided:\n",
    "\n",
    "- When a is divisible by b: `10 % 2` or `10 % 5` or `10 % 10`\n",
    "- When a is not divisible by b: `10 % 3`\n",
    "- When a is less than b: `3 % 4` or `5 % 100`\n",
    "\n",
    "The `//` operator, called \"floor division\" in the form `a // b`, rounds the result down to the nearest integer:\n",
    "\n",
    "- When a // b is already an integer: `9 // 3`\n",
    "- When the decimal for a // b is less than 0.5: `10 // 3`\n",
    "- When the decimal for a // b is greater than or equal to 0.5: `11 // 3`\n",
    "- When the result is negative: `-10 // 3` or `-11 // 3`"
   ]
  },
  {
   "cell_type": "code",
   "execution_count": 20,
   "metadata": {},
   "outputs": [
    {
     "data": {
      "text/plain": [
       "-4"
      ]
     },
     "execution_count": 20,
     "metadata": {},
     "output_type": "execute_result"
    }
   ],
   "source": [
    "-11 // 3"
   ]
  },
  {
   "cell_type": "markdown",
   "metadata": {},
   "source": [
    "# Variable types\n",
    "\n",
    "([Sec 1.5](http://greenteapress.com/thinkpython2/html/thinkpython2002.html#sec10))"
   ]
  },
  {
   "cell_type": "markdown",
   "metadata": {},
   "source": [
    "Variables are a central part of coding, allowing you to reference the variable name while allowing said variable to change value without having to manually change it. To be able to use variables, you should be aware of the various variable types. Here are a few examples:\n",
    "\n",
    "Integer:`2`\n",
    "\n",
    "Floating-point number: `42.0`\n",
    "\n",
    "String: `Hello, World`\n",
    "\n",
    "**Try to guess the types of the values below and then test to see if you were right!**\n",
    "\n",
    "- `type(2)`\n",
    "- `type(42.0)`\n",
    "- `type(-3)`\n",
    "- `type('a')`\n",
    "- `type('Hello, World!')`\n",
    "- `type('2')`\n",
    "- `type('42.0')`"
   ]
  },
  {
   "cell_type": "code",
   "execution_count": null,
   "metadata": {},
   "outputs": [],
   "source": []
  },
  {
   "cell_type": "markdown",
   "metadata": {},
   "source": [
    "# Naming variables"
   ]
  },
  {
   "cell_type": "markdown",
   "metadata": {},
   "source": [
    "Running a code block in a Jupyter Notebook saves a variable in its memory (Kernel). If you shut down the notebook or the RPi that memory is cleared and you would have to rerun the same code block to create the variable again. Furthermore, the variable only exists in the one Notebook; if you were to open up another Notebook it would be unable to \"see\" the variable from the first notebook.\n",
    "\n",
    "Python has some keywords that cannot be used as variable names. They will show up on your Notebook in a bolded color:\n",
    "\n",
    "    False class finally is return\n",
    "    None continue for lambda try\n",
    "    True def from nonlocal while\n",
    "    and del global not with\n",
    "    as elif if or yield\n",
    "    assert else import pass\n",
    "    break except in raise\n",
    "    \n",
    "**Try to name and print some variables:**"
   ]
  },
  {
   "cell_type": "code",
   "execution_count": 21,
   "metadata": {},
   "outputs": [
    {
     "name": "stdout",
     "output_type": "stream",
     "text": [
      "6\n"
     ]
    }
   ],
   "source": [
    "n = 6\n",
    "print(n)"
   ]
  },
  {
   "cell_type": "markdown",
   "metadata": {},
   "source": [
    "What is happening in the following situations?"
   ]
  },
  {
   "cell_type": "raw",
   "metadata": {},
   "source": [
    "n = 6\n",
    "print(n)\n",
    "n = 10\n",
    "print(n)"
   ]
  },
  {
   "cell_type": "code",
   "execution_count": 22,
   "metadata": {},
   "outputs": [
    {
     "name": "stdout",
     "output_type": "stream",
     "text": [
      "10\n"
     ]
    }
   ],
   "source": [
    "n = 6\n",
    "n = 10\n",
    "print(n)"
   ]
  },
  {
   "cell_type": "markdown",
   "metadata": {},
   "source": [
    "# Exercise 1: \n",
    "\n",
    "Let's practice what you just learned! For each of the questions below, use python as a \"calculator\" and print your answers as integers. Name new variables when necessary."
   ]
  },
  {
   "cell_type": "markdown",
   "metadata": {},
   "source": [
    "*1. How many seconds are there in 42 minutes 42 seconds?*"
   ]
  },
  {
   "cell_type": "code",
   "execution_count": null,
   "metadata": {},
   "outputs": [],
   "source": []
  },
  {
   "cell_type": "markdown",
   "metadata": {},
   "source": [
    "*2. How many miles are there in 10 kilometers? Hint: there are 1.61 kilometers in a mile.*"
   ]
  },
  {
   "cell_type": "code",
   "execution_count": null,
   "metadata": {},
   "outputs": [],
   "source": []
  },
  {
   "cell_type": "markdown",
   "metadata": {},
   "source": [
    "*3. If you run a 10 kilometer race in 42 minutes 42 seconds, what is your average pace (time per mile in minutes and seconds)? What is your average speed in miles per hour?*"
   ]
  },
  {
   "cell_type": "code",
   "execution_count": null,
   "metadata": {},
   "outputs": [],
   "source": []
  },
  {
   "cell_type": "markdown",
   "metadata": {},
   "source": [
    "# Functions"
   ]
  },
  {
   "cell_type": "markdown",
   "metadata": {},
   "source": [
    "Python has some built in functions (e.g. print). \n",
    "\n",
    "Sometimes you might want to use functions from other libraries, which you can access via the `import` command. For instance, there are additional math functions that can be used if you import the math module ([Sec 3.2](http://greenteapress.com/thinkpython2/html/thinkpython2004.html#sec28)). An example of this is math.sqrt(n). If you want to learn more about the math functions see [_Think Python_](http://greenteapress.com/thinkpython2/html/thinkpython2004.html#sec28)."
   ]
  },
  {
   "cell_type": "code",
   "execution_count": 23,
   "metadata": {},
   "outputs": [
    {
     "data": {
      "text/plain": [
       "2.0"
      ]
     },
     "execution_count": 23,
     "metadata": {},
     "output_type": "execute_result"
    }
   ],
   "source": [
    "import math\n",
    "math.sqrt(4)"
   ]
  },
  {
   "cell_type": "markdown",
   "metadata": {},
   "source": [
    "You can also create new functions!\n",
    "\n",
    "To do this you must create a **function definition** ([Sec 3.4](http://greenteapress.com/thinkpython2/html/thinkpython2004.html#sec30)) and include the code that runs the function.\n",
    "\n",
    "**def** is the keyword that signifies what follows is a definition.\n",
    "\n",
    "In _Think Python_ they use the following lyrics example: "
   ]
  },
  {
   "cell_type": "raw",
   "metadata": {},
   "source": [
    "def print_lyrics():\n",
    "    print(\"I'm a lumberjack, and I'm okay.\")\n",
    "    print(\"I sleep all night and I work all day.\")"
   ]
  },
  {
   "cell_type": "markdown",
   "metadata": {},
   "source": [
    "Use the `def` keyword to define a new function `print_lyrics` that prints two lines from a favorite song of yours.  \n",
    "\n",
    "Also note: the \"indentation\" in Python is really important, as this tells Python which lines \"belong\" to the function.  The Jupyter Notebooks interface will automatically indent the lines for you when it knows you are writing the function.  When you have completed the function, if you want to write more code (that's *not* part of the function), you don't use indentation.  That is: hit backspace, delete the indentation, and continue writing your code aligned to the left."
   ]
  },
  {
   "cell_type": "code",
   "execution_count": null,
   "metadata": {},
   "outputs": [],
   "source": []
  },
  {
   "cell_type": "markdown",
   "metadata": {},
   "source": [
    "If you \"run\" the Code Cell that has your definition (that you just wrote above), even though it has the `print` function as part of it, it doesn't print anything because you are just *defining* the overall function and not actually executing it.\n",
    "\n",
    "Now let's test some things about your `print_lyrics` function:\n",
    "- Call `print` on your `print_lyrics` function (Function Object): `print(print_lyrics)`\n",
    "- Find out what `type` your `print_lyrics` function is: `type(print_lyrics)`\n",
    "- And finally, call your `print_lyrics` function: `print_lyrics()`"
   ]
  },
  {
   "cell_type": "code",
   "execution_count": null,
   "metadata": {},
   "outputs": [],
   "source": []
  },
  {
   "cell_type": "markdown",
   "metadata": {},
   "source": [
    "Now try to create a `repeat_lyrics` function ([Sec 3.5](http://greenteapress.com/thinkpython2/html/thinkpython2004.html#sec31)) that prints the lyrics from your favorite song twice. You can use your `print_lyrics` function to complete this exercise."
   ]
  },
  {
   "cell_type": "code",
   "execution_count": null,
   "metadata": {},
   "outputs": [],
   "source": []
  },
  {
   "cell_type": "markdown",
   "metadata": {},
   "source": [
    "**A note on function types:**\n",
    "\n",
    "The output of a function can be any type of Python variable. So far, we have only dealt with the `void` type of function. We may talk about more advanced function topics as the course goes on."
   ]
  },
  {
   "cell_type": "markdown",
   "metadata": {},
   "source": [
    "# Comments\n"
   ]
  },
  {
   "cell_type": "markdown",
   "metadata": {},
   "source": [
    "Now is a good time to talk about comments.\n",
    "\n",
    "Comments are lines of code that serve no functional purpose. Instead, they are there to help document the code as it is being written. For instance:"
   ]
  },
  {
   "cell_type": "code",
   "execution_count": 24,
   "metadata": {},
   "outputs": [],
   "source": [
    "# Comments in Python start with pound symbols (also known as hashtags). In Jupyter Notebooks, they appear green and italicized.\n",
    "\n",
    "# You can put comments wherever you want, like before a block of code...\n",
    "\n",
    "def print_lyrics(): #...or after some code. Again, they're helpful for documenting what you're doing, like so:\n",
    "    print(\"I'm a lumberjack, and I'm okay.\") # Prints first line of lyrics\n",
    "    print(\"I sleep all night and I work all day.\") # Prints second line of lyrics\n",
    "    \n",
    "# Obviously this is a simple case, but you can imagine where comments can be useful in more complicated blocks of code."
   ]
  },
  {
   "cell_type": "markdown",
   "metadata": {},
   "source": [
    "# User input"
   ]
  },
  {
   "cell_type": "markdown",
   "metadata": {},
   "source": [
    "In Python there is a built-in function called `input` ([Sec 5.11](http://greenteapress.com/thinkpython2/html/thinkpython2006.html#sec65)) where the user is prompted and must input something in order for the code to continue running"
   ]
  },
  {
   "cell_type": "code",
   "execution_count": 25,
   "metadata": {},
   "outputs": [
    {
     "name": "stdout",
     "output_type": "stream",
     "text": [
      "Enter something:\n",
      "f\n"
     ]
    },
    {
     "ename": "KeyboardInterrupt",
     "evalue": "",
     "output_type": "error",
     "traceback": [
      "\u001b[1;31m---------------------------------------------------------------------------\u001b[0m",
      "\u001b[1;31mKeyboardInterrupt\u001b[0m                         Traceback (most recent call last)",
      "\u001b[1;32m~\\anaconda3\\lib\\site-packages\\ipykernel\\kernelbase.py\u001b[0m in \u001b[0;36m_input_request\u001b[1;34m(self, prompt, ident, parent, password)\u001b[0m\n\u001b[0;32m    883\u001b[0m             \u001b[1;32mtry\u001b[0m\u001b[1;33m:\u001b[0m\u001b[1;33m\u001b[0m\u001b[1;33m\u001b[0m\u001b[0m\n\u001b[1;32m--> 884\u001b[1;33m                 \u001b[0mident\u001b[0m\u001b[1;33m,\u001b[0m \u001b[0mreply\u001b[0m \u001b[1;33m=\u001b[0m \u001b[0mself\u001b[0m\u001b[1;33m.\u001b[0m\u001b[0msession\u001b[0m\u001b[1;33m.\u001b[0m\u001b[0mrecv\u001b[0m\u001b[1;33m(\u001b[0m\u001b[0mself\u001b[0m\u001b[1;33m.\u001b[0m\u001b[0mstdin_socket\u001b[0m\u001b[1;33m,\u001b[0m \u001b[1;36m0\u001b[0m\u001b[1;33m)\u001b[0m\u001b[1;33m\u001b[0m\u001b[1;33m\u001b[0m\u001b[0m\n\u001b[0m\u001b[0;32m    885\u001b[0m             \u001b[1;32mexcept\u001b[0m \u001b[0mException\u001b[0m\u001b[1;33m:\u001b[0m\u001b[1;33m\u001b[0m\u001b[1;33m\u001b[0m\u001b[0m\n",
      "\u001b[1;32m~\\anaconda3\\lib\\site-packages\\jupyter_client\\session.py\u001b[0m in \u001b[0;36mrecv\u001b[1;34m(self, socket, mode, content, copy)\u001b[0m\n\u001b[0;32m    802\u001b[0m         \u001b[1;32mtry\u001b[0m\u001b[1;33m:\u001b[0m\u001b[1;33m\u001b[0m\u001b[1;33m\u001b[0m\u001b[0m\n\u001b[1;32m--> 803\u001b[1;33m             \u001b[0mmsg_list\u001b[0m \u001b[1;33m=\u001b[0m \u001b[0msocket\u001b[0m\u001b[1;33m.\u001b[0m\u001b[0mrecv_multipart\u001b[0m\u001b[1;33m(\u001b[0m\u001b[0mmode\u001b[0m\u001b[1;33m,\u001b[0m \u001b[0mcopy\u001b[0m\u001b[1;33m=\u001b[0m\u001b[0mcopy\u001b[0m\u001b[1;33m)\u001b[0m\u001b[1;33m\u001b[0m\u001b[1;33m\u001b[0m\u001b[0m\n\u001b[0m\u001b[0;32m    804\u001b[0m         \u001b[1;32mexcept\u001b[0m \u001b[0mzmq\u001b[0m\u001b[1;33m.\u001b[0m\u001b[0mZMQError\u001b[0m \u001b[1;32mas\u001b[0m \u001b[0me\u001b[0m\u001b[1;33m:\u001b[0m\u001b[1;33m\u001b[0m\u001b[1;33m\u001b[0m\u001b[0m\n",
      "\u001b[1;32m~\\anaconda3\\lib\\site-packages\\zmq\\sugar\\socket.py\u001b[0m in \u001b[0;36mrecv_multipart\u001b[1;34m(self, flags, copy, track)\u001b[0m\n\u001b[0;32m    474\u001b[0m         \"\"\"\n\u001b[1;32m--> 475\u001b[1;33m         \u001b[0mparts\u001b[0m \u001b[1;33m=\u001b[0m \u001b[1;33m[\u001b[0m\u001b[0mself\u001b[0m\u001b[1;33m.\u001b[0m\u001b[0mrecv\u001b[0m\u001b[1;33m(\u001b[0m\u001b[0mflags\u001b[0m\u001b[1;33m,\u001b[0m \u001b[0mcopy\u001b[0m\u001b[1;33m=\u001b[0m\u001b[0mcopy\u001b[0m\u001b[1;33m,\u001b[0m \u001b[0mtrack\u001b[0m\u001b[1;33m=\u001b[0m\u001b[0mtrack\u001b[0m\u001b[1;33m)\u001b[0m\u001b[1;33m]\u001b[0m\u001b[1;33m\u001b[0m\u001b[1;33m\u001b[0m\u001b[0m\n\u001b[0m\u001b[0;32m    476\u001b[0m         \u001b[1;31m# have first part already, only loop while more to receive\u001b[0m\u001b[1;33m\u001b[0m\u001b[1;33m\u001b[0m\u001b[1;33m\u001b[0m\u001b[0m\n",
      "\u001b[1;32mzmq/backend/cython/socket.pyx\u001b[0m in \u001b[0;36mzmq.backend.cython.socket.Socket.recv\u001b[1;34m()\u001b[0m\n",
      "\u001b[1;32mzmq/backend/cython/socket.pyx\u001b[0m in \u001b[0;36mzmq.backend.cython.socket.Socket.recv\u001b[1;34m()\u001b[0m\n",
      "\u001b[1;32mzmq/backend/cython/socket.pyx\u001b[0m in \u001b[0;36mzmq.backend.cython.socket._recv_copy\u001b[1;34m()\u001b[0m\n",
      "\u001b[1;32m~\\anaconda3\\lib\\site-packages\\zmq\\backend\\cython\\checkrc.pxd\u001b[0m in \u001b[0;36mzmq.backend.cython.checkrc._check_rc\u001b[1;34m()\u001b[0m\n",
      "\u001b[1;31mKeyboardInterrupt\u001b[0m: ",
      "\nDuring handling of the above exception, another exception occurred:\n",
      "\u001b[1;31mKeyboardInterrupt\u001b[0m                         Traceback (most recent call last)",
      "\u001b[1;32m<ipython-input-25-71177f6dc7a1>\u001b[0m in \u001b[0;36m<module>\u001b[1;34m\u001b[0m\n\u001b[0;32m      1\u001b[0m \u001b[0mprint\u001b[0m\u001b[1;33m(\u001b[0m\u001b[1;34m'Enter something:'\u001b[0m\u001b[1;33m)\u001b[0m\u001b[1;33m\u001b[0m\u001b[1;33m\u001b[0m\u001b[0m\n\u001b[1;32m----> 2\u001b[1;33m \u001b[0mtext\u001b[0m \u001b[1;33m=\u001b[0m \u001b[0minput\u001b[0m\u001b[1;33m(\u001b[0m\u001b[1;33m)\u001b[0m\u001b[1;33m\u001b[0m\u001b[1;33m\u001b[0m\u001b[0m\n\u001b[0m\u001b[0;32m      3\u001b[0m \u001b[0mprint\u001b[0m\u001b[1;33m(\u001b[0m\u001b[1;34m'You entered the following:'\u001b[0m\u001b[1;33m,\u001b[0m \u001b[0mtext\u001b[0m\u001b[1;33m)\u001b[0m\u001b[1;33m\u001b[0m\u001b[1;33m\u001b[0m\u001b[0m\n",
      "\u001b[1;32m~\\anaconda3\\lib\\site-packages\\ipykernel\\kernelbase.py\u001b[0m in \u001b[0;36mraw_input\u001b[1;34m(self, prompt)\u001b[0m\n\u001b[0;32m    857\u001b[0m             \u001b[0mself\u001b[0m\u001b[1;33m.\u001b[0m\u001b[0m_parent_ident\u001b[0m\u001b[1;33m,\u001b[0m\u001b[1;33m\u001b[0m\u001b[1;33m\u001b[0m\u001b[0m\n\u001b[0;32m    858\u001b[0m             \u001b[0mself\u001b[0m\u001b[1;33m.\u001b[0m\u001b[0m_parent_header\u001b[0m\u001b[1;33m,\u001b[0m\u001b[1;33m\u001b[0m\u001b[1;33m\u001b[0m\u001b[0m\n\u001b[1;32m--> 859\u001b[1;33m             \u001b[0mpassword\u001b[0m\u001b[1;33m=\u001b[0m\u001b[1;32mFalse\u001b[0m\u001b[1;33m,\u001b[0m\u001b[1;33m\u001b[0m\u001b[1;33m\u001b[0m\u001b[0m\n\u001b[0m\u001b[0;32m    860\u001b[0m         )\n\u001b[0;32m    861\u001b[0m \u001b[1;33m\u001b[0m\u001b[0m\n",
      "\u001b[1;32m~\\anaconda3\\lib\\site-packages\\ipykernel\\kernelbase.py\u001b[0m in \u001b[0;36m_input_request\u001b[1;34m(self, prompt, ident, parent, password)\u001b[0m\n\u001b[0;32m    887\u001b[0m             \u001b[1;32mexcept\u001b[0m \u001b[0mKeyboardInterrupt\u001b[0m\u001b[1;33m:\u001b[0m\u001b[1;33m\u001b[0m\u001b[1;33m\u001b[0m\u001b[0m\n\u001b[0;32m    888\u001b[0m                 \u001b[1;31m# re-raise KeyboardInterrupt, to truncate traceback\u001b[0m\u001b[1;33m\u001b[0m\u001b[1;33m\u001b[0m\u001b[1;33m\u001b[0m\u001b[0m\n\u001b[1;32m--> 889\u001b[1;33m                 \u001b[1;32mraise\u001b[0m \u001b[0mKeyboardInterrupt\u001b[0m\u001b[1;33m\u001b[0m\u001b[1;33m\u001b[0m\u001b[0m\n\u001b[0m\u001b[0;32m    890\u001b[0m             \u001b[1;32melse\u001b[0m\u001b[1;33m:\u001b[0m\u001b[1;33m\u001b[0m\u001b[1;33m\u001b[0m\u001b[0m\n\u001b[0;32m    891\u001b[0m                 \u001b[1;32mbreak\u001b[0m\u001b[1;33m\u001b[0m\u001b[1;33m\u001b[0m\u001b[0m\n",
      "\u001b[1;31mKeyboardInterrupt\u001b[0m: "
     ]
    }
   ],
   "source": [
    "print('Enter something:')\n",
    "text = input()\n",
    "print('You entered the following:', text)"
   ]
  },
  {
   "cell_type": "markdown",
   "metadata": {},
   "source": [
    "If you put a string inside the `input` function, it automatically prints the string as part of the function:"
   ]
  },
  {
   "cell_type": "code",
   "execution_count": null,
   "metadata": {},
   "outputs": [],
   "source": [
    "name = input('Enter your name:') \n",
    "print('Good morning,', name,\"!\")"
   ]
  },
  {
   "cell_type": "markdown",
   "metadata": {},
   "source": [
    "# Conditionals"
   ]
  },
  {
   "cell_type": "markdown",
   "metadata": {},
   "source": [
    "Oftentimes when writing code, we want to be able to check certain conditions and do different things based on those conditions. The `if` statement helps us do this ([Sec 5.4](http://greenteapress.com/thinkpython2/html/thinkpython2006.html#sec58)). \n",
    "\n",
    "Change the value of x and see what happens:"
   ]
  },
  {
   "cell_type": "code",
   "execution_count": null,
   "metadata": {},
   "outputs": [],
   "source": [
    "x = 6 #Try different values of x\n",
    "if x>0:\n",
    "    print('x is positive')"
   ]
  },
  {
   "cell_type": "markdown",
   "metadata": {},
   "source": [
    "You can also use an `else` statement ([Sec 5.5](http://greenteapress.com/thinkpython2/html/thinkpython2006.html#sec59)):"
   ]
  },
  {
   "cell_type": "code",
   "execution_count": 26,
   "metadata": {},
   "outputs": [
    {
     "name": "stdout",
     "output_type": "stream",
     "text": [
      "x is positive\n"
     ]
    }
   ],
   "source": [
    "x = 6\n",
    "if x>0:\n",
    "    print('x is positive')\n",
    "else:\n",
    "    print('x is not positive')"
   ]
  },
  {
   "cell_type": "markdown",
   "metadata": {},
   "source": [
    "Sometimes there are more than just two options in an if statement. In this case you use `elif` (short for `else if`) between `if` and `else` (Sec 5.6):"
   ]
  },
  {
   "cell_type": "code",
   "execution_count": 27,
   "metadata": {},
   "outputs": [
    {
     "name": "stdout",
     "output_type": "stream",
     "text": [
      "x is positive\n"
     ]
    }
   ],
   "source": [
    "x = 6\n",
    "if x>0:\n",
    "    print('x is positive')\n",
    "elif x<0:\n",
    "    print('x is negative')\n",
    "else:\n",
    "    print('x is zero')"
   ]
  },
  {
   "cell_type": "markdown",
   "metadata": {},
   "source": [
    "There are also **nested conditionals** ([Sec 5.7](http://greenteapress.com/thinkpython2/html/thinkpython2006.html#sec61)). An example is shown below:"
   ]
  },
  {
   "cell_type": "code",
   "execution_count": 28,
   "metadata": {},
   "outputs": [
    {
     "name": "stdout",
     "output_type": "stream",
     "text": [
      "x is less than y\n"
     ]
    }
   ],
   "source": [
    "# try with different numbers\n",
    "x = 6\n",
    "y = 10\n",
    "if x == y:\n",
    "    print('x and y are equal')\n",
    "else:\n",
    "    if x < y:\n",
    "        print('x is less than y')\n",
    "    else:\n",
    "        # only remaining possibility\n",
    "        print('x is greater than y')"
   ]
  },
  {
   "cell_type": "markdown",
   "metadata": {},
   "source": [
    "# Exercise 2:"
   ]
  },
  {
   "cell_type": "markdown",
   "metadata": {},
   "source": [
    "*1. Write a function (or collection of functions) that draws the 2x2 grid pictured in the book ([Exercise 3.1](http://greenteapress.com/thinkpython2/html/thinkpython2004.html#sec40)). (Note: you can't use loops or conditionals, as you haven't learned them yet.)*"
   ]
  },
  {
   "cell_type": "code",
   "execution_count": null,
   "metadata": {},
   "outputs": [],
   "source": []
  },
  {
   "cell_type": "markdown",
   "metadata": {},
   "source": [
    "*2. To practice using keyboard/user input and conditionals, create a little three-question Quiz about yourself (three fun facts about you: e.g. your name, what state in which you were born, favorite color, shoe size, etc). Have positive answers printed if they get something right and print the answer if they get it wrong.*\n",
    "\n",
    "*Have someone else in the class \"test\" your quiz (take your quiz) to make sure your code works (and to learn something about you!).*"
   ]
  },
  {
   "cell_type": "code",
   "execution_count": null,
   "metadata": {},
   "outputs": [],
   "source": []
  },
  {
   "cell_type": "markdown",
   "metadata": {},
   "source": [
    "# Loops"
   ]
  },
  {
   "cell_type": "markdown",
   "metadata": {},
   "source": [
    "Loops are a fundamental part of coding. They allow you to do something multiple times without having to write the same chunk of code each time."
   ]
  },
  {
   "cell_type": "markdown",
   "metadata": {},
   "source": [
    "# for Loops"
   ]
  },
  {
   "cell_type": "markdown",
   "metadata": {},
   "source": [
    "Key concept: repetition through a `for` statement ([Sec 4.2](http://greenteapress.com/thinkpython2/html/thinkpython2005.html#sec43)). In the section above we created functions that called other functions to create repeated commands. Here you can use a \"for loop\" in order to do something over and over. For instance: print the word Hello four times."
   ]
  },
  {
   "cell_type": "code",
   "execution_count": null,
   "metadata": {},
   "outputs": [],
   "source": [
    "for i in range(4):\n",
    "    print('Hello!')"
   ]
  },
  {
   "cell_type": "markdown",
   "metadata": {},
   "source": [
    "The `for` statement can be included within a function, thus allowing you to generalize a command.  The following is a function that prints text four times, and you pass into the function what text you want to print. Execute it to see the output."
   ]
  },
  {
   "cell_type": "code",
   "execution_count": null,
   "metadata": {},
   "outputs": [],
   "source": [
    "def print_four(text):\n",
    "    for i in range(4):\n",
    "        print(text)\n",
    "\n",
    "print_four('Hello!')"
   ]
  },
  {
   "cell_type": "markdown",
   "metadata": {},
   "source": [
    "# while Loops"
   ]
  },
  {
   "cell_type": "markdown",
   "metadata": {},
   "source": [
    "Like the `for` loop, the `while` loop ([Sec 7.3](http://greenteapress.com/thinkpython2/html/thinkpython2008.html#sec84)) is another way to have repetition in your code. Although they are similar, the `while` loop is slightly different than the `for` loop. \n",
    "\n",
    "Run the following code and see what happens.  What happens if you do `countdown(0)` or `countdown(-5)`?"
   ]
  },
  {
   "cell_type": "code",
   "execution_count": null,
   "metadata": {},
   "outputs": [],
   "source": [
    "def countdown(n):\n",
    "    while n > 0:\n",
    "        print(n)\n",
    "        n = n - 1\n",
    "    print('Blastoff!')\n",
    "        \n",
    "countdown(10) "
   ]
  },
  {
   "cell_type": "markdown",
   "metadata": {},
   "source": [
    "The loop below will iterate through as long as x is greater than zero. The value of x is redefined each time the loop iterates through."
   ]
  },
  {
   "cell_type": "code",
   "execution_count": null,
   "metadata": {},
   "outputs": [],
   "source": [
    "x = 10\n",
    "while x>0: #this loop will iterate through until x equals zero\n",
    "    print(x)\n",
    "    x=x-1 # x is redefined each time the loop is iterated through"
   ]
  },
  {
   "cell_type": "markdown",
   "metadata": {},
   "source": [
    "You can also write `while True` loops that iterate through forever (unless you include a [break](#break) statement)"
   ]
  },
  {
   "cell_type": "code",
   "execution_count": null,
   "metadata": {},
   "outputs": [],
   "source": [
    "x=1\n",
    "while True: #this will always be true so the while loop will go forever\n",
    "    print(x)\n",
    "    x=x+1"
   ]
  },
  {
   "cell_type": "markdown",
   "metadata": {},
   "source": [
    "# break"
   ]
  },
  {
   "cell_type": "markdown",
   "metadata": {},
   "source": [
    "You can use `break` ([Sec 7.4](http://greenteapress.com/thinkpython2/html/thinkpython2008.html#sec85)) to force exit `while` loops (or `for` loop, etc)."
   ]
  },
  {
   "cell_type": "code",
   "execution_count": null,
   "metadata": {},
   "outputs": [],
   "source": []
  },
  {
   "cell_type": "code",
   "execution_count": null,
   "metadata": {},
   "outputs": [],
   "source": [
    "while True:\n",
    "    line = input('Write \"done\" to quit: ')\n",
    "    if line == 'done':\n",
    "        break\n",
    "print('Done!')"
   ]
  },
  {
   "cell_type": "markdown",
   "metadata": {},
   "source": [
    "# Exercise 4:\n",
    "\n",
    "*1. Like in exercise 2.1, create a little three-question Quiz about yourself (three fun facts about you: e.g. your name, what state in which you were born, favorite color, shoe size, etc). Get input from the user and indicate if they got it right or wrong; **this time don't continue to the next question until it's the right answer**. Keep track of **how many guesses** they took in total to answer the three questions right.*\n",
    "\n",
    "*Have someone else in the class \"test\" your quiz (take your quiz) to make sure your code works (and to learn something about you!).*"
   ]
  },
  {
   "cell_type": "code",
   "execution_count": null,
   "metadata": {},
   "outputs": [],
   "source": []
  },
  {
   "cell_type": "markdown",
   "metadata": {},
   "source": [
    "# Importing time"
   ]
  },
  {
   "cell_type": "markdown",
   "metadata": {},
   "source": [
    "Here is the Python 3 help manual for `time`:\n",
    "\n",
    "https://docs.python.org/3/library/time.html\n",
    "\n",
    "In python you can import the **time** module. This module is very useful as it can help you see how long parts of the code take to run. With this module you can also pause the code for a given amount of seconds.\n",
    "\n",
    "For example, in the last section we used a `while` statement to count down from 10, yet all the numbers printed at once. We can now `import time` and use `time.sleep(1)` in between each countdown so that the code sleeps/delays for 1 second in between numbers."
   ]
  },
  {
   "cell_type": "code",
   "execution_count": null,
   "metadata": {},
   "outputs": [],
   "source": [
    "import time\n",
    "\n",
    "def countdown(n):\n",
    "    while n > 0:\n",
    "        print(n)\n",
    "        n = n - 1\n",
    "        time.sleep(1)\n",
    "    print('Blastoff!')\n",
    "        \n",
    "countdown(10)"
   ]
  },
  {
   "cell_type": "markdown",
   "metadata": {},
   "source": [
    "The other `time` function that is nice to have is one to be able to calculate how much time has passed, which is also helpful when measuring loops or user actions, etc. \n",
    "\n",
    "In the time module `time.time()` gives the amount of time in seconds since the epoch (January 1st, 1970). This time is arbitrary so you must define time at the start and reference it to time later in the code."
   ]
  },
  {
   "cell_type": "code",
   "execution_count": null,
   "metadata": {},
   "outputs": [],
   "source": [
    "import time \n",
    "\n",
    "start_time = time.time() # use time.time() to save the amount of seconds since the epoch as a reference\n",
    "\n",
    "print('Hello, World') # can try any function here\n",
    "\n",
    "end_time = time.time() # use time.time() to save the time after the function\n",
    "\n",
    "total_time = end_time - start_time # this total time shows how long the computer took to print Hello, World\n",
    "\n",
    "print(total_time)"
   ]
  },
  {
   "cell_type": "markdown",
   "metadata": {},
   "source": [
    "Startegy when calculating how much time has passed:\n",
    "- before the action, record a baseline time\n",
    "- perform the actions\n",
    "- after the action, record the new time\n",
    "- subtract the baseline time (smaller) from the new time (bigger) to find the difference"
   ]
  },
  {
   "cell_type": "markdown",
   "metadata": {},
   "source": [
    "You can also use the time module to run a program for a specific amount of time. The following code runs for x seconds. Try changing the value of x."
   ]
  },
  {
   "cell_type": "code",
   "execution_count": null,
   "metadata": {},
   "outputs": [],
   "source": [
    "import time\n",
    "\n",
    "start_time = time.time() #use time.time() to get the amount of seconds since the epoch as a reference\n",
    "end_time = time.time() # define an intial end_time\n",
    "total_time = end_time - start_time # the total_time is the difference between the start and end times \n",
    "\n",
    "x = 5 #try changing the value of x - this will change how long the code runs for\n",
    "\n",
    "while total_time <= x: # this loop will run for the set amount of time x\n",
    "    time.sleep(1) #have the code pause for 1 second \n",
    "    end_time = time.time() # redefine end time\n",
    "    total_time = end_time - start_time # redefine the total time using the new end time\n",
    "    print(int(total_time)) #print the integer of the value so that it rounds "
   ]
  },
  {
   "cell_type": "code",
   "execution_count": null,
   "metadata": {},
   "outputs": [],
   "source": []
  },
  {
   "cell_type": "markdown",
   "metadata": {},
   "source": [
    "# Exercise 5:\n",
    "\n",
    "*1. Test a users reaction time! Prompt the user with a simple trivia question and see how long it takes (use the time module) the user to answer it **correctly**.* "
   ]
  },
  {
   "cell_type": "code",
   "execution_count": 1,
   "metadata": {},
   "outputs": [],
   "source": [
    "import time\n",
    "#Write your answer here"
   ]
  },
  {
   "cell_type": "markdown",
   "metadata": {},
   "source": [
    "# A word on NumPy\n",
    "\n",
    "**NumPy** is a package for Python that allows for more advanced features, including 2D arrays, graphing, and numerical solutions. If this is something you are interested in, you can find their website [here](https://numpy.org/)."
   ]
  }
 ],
 "metadata": {
  "kernelspec": {
   "display_name": "Python 3",
   "language": "python",
   "name": "python3"
  },
  "language_info": {
   "codemirror_mode": {
    "name": "ipython",
    "version": 3
   },
   "file_extension": ".py",
   "mimetype": "text/x-python",
   "name": "python",
   "nbconvert_exporter": "python",
   "pygments_lexer": "ipython3",
   "version": "3.7.6"
  }
 },
 "nbformat": 4,
 "nbformat_minor": 4
}
