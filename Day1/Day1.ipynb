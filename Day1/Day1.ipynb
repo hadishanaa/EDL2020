{
 "cells": [
  {
   "cell_type": "markdown",
   "metadata": {
    "colab_type": "text",
    "id": "lpP3FyHn55Cz"
   },
   "source": [
    "# Engineering Design Lab Day 1: Introduction to Python and Coding"
   ]
  },
  {
   "cell_type": "markdown",
   "metadata": {
    "colab_type": "text",
    "id": "zr1qggIH55C1"
   },
   "source": [
    "**Welcome to Jupyter Notebooks.** Over the next couple days you will be using Jupyter notebooks to learn the basics of Python. You will then use these notebooks to test and run code later in the program. Your final project code will also be written in Jupyter notebooks!\n",
    "**Let's get started!**"
   ]
  },
  {
   "cell_type": "markdown",
   "metadata": {
    "colab_type": "text",
    "id": "0ayc-tNY55C3"
   },
   "source": [
    "**Your name:** [insert your name here]"
   ]
  },
  {
   "cell_type": "markdown",
   "metadata": {
    "colab_type": "text",
    "id": "o6mNftU755C6"
   },
   "source": [
    "Python is a very well-documented programming language, with documentation found [here](https://docs.python.org/3.7/). Other useful references for the next two weeks are the textbook [_Think Python (2nd Edition)_ by Allen B. Downey](http://greenteapress.com/thinkpython2/thinkpython2.pdf) which we'll be referencing often, or [w3schools](https://www.w3schools.com/python/default.asp), or of course your lovely instructors and TAs."
   ]
  },
  {
   "cell_type": "markdown",
   "metadata": {
    "colab_type": "text",
    "id": "kd7Gt3S055C8"
   },
   "source": [
    "This notebook covers:"
   ]
  },
  {
   "cell_type": "markdown",
   "metadata": {
    "colab_type": "text",
    "id": "qxotyc7n55C9"
   },
   "source": [
    "# Intro to Python\n",
    "\n",
    "Python is an **interpreted**, high-level, general-purpose programming language. It has a design philosophy that emphasizes **code readability**, notably using significant **whitespace**. It supports multiple programming paradigms, including object-oriented, imperative, functional and procedural, and has a large and comprehensive standard library.\n",
    "\n",
    "The language's core philosophy is summarized in the document The Zen of Python, which includes aphorisms such as:\n",
    "- Beautiful is better than ugly\n",
    "- Explicit is better than implicit\n",
    "- Simple is better than complex\n",
    "- Complex is better than complicated\n",
    "- Readability counts"
   ]
  },
  {
   "cell_type": "markdown",
   "metadata": {
    "colab_type": "text",
    "id": "pGozTEJt55DE"
   },
   "source": [
    "Let's analyze some code:"
   ]
  },
  {
   "cell_type": "code",
   "execution_count": null,
   "metadata": {
    "colab": {},
    "colab_type": "code",
    "id": "5GpnZFTr55DG",
    "scrolled": true
   },
   "outputs": [],
   "source": [
    "import time\n",
    "from IPython.display import clear_output\n",
    "start_time = time.time()\n",
    "while True:\n",
    "    clear_output()\n",
    "    print('Time: ', int(time.time() - start_time), 'seconds.')\n",
    "    time.sleep(1)"
   ]
  },
  {
   "cell_type": "markdown",
   "metadata": {
    "colab_type": "text",
    "id": "81ogVXRR55DQ"
   },
   "source": [
    "# Running Python and Jupyter Notebooks\n",
    "\n",
    "We recommend you read over ([Section 1.2](http://greenteapress.com/thinkpython2/html/thinkpython2002.html#sec7)) of the Think Python Textbook to started. If this is your first time coding in Python, we think this notebook will help you get comfortable with everything you need to know to get started. If you have used Python before, this will be a good refresher and a way to acquaint yourself with Jupyter notebooks which is a popular tool among machine learning and data scientists."
   ]
  },
  {
   "cell_type": "markdown",
   "metadata": {
    "colab_type": "text",
    "id": "dsrcAXWh55DS"
   },
   "source": [
    "You will receive a Raspberry Pi as part of your robotics kit. The Raspberry Pi (or RPi, or Pi) is a essentially a small, self-contained computer. Your Pi already has Python 3 installed on it, which means that all code you write should be able to run directly off of it, meaning that you do not have to install anything on your personal device. Once the Pi is running and connected to the network, you will be able to write and execute Python code.\n",
    "\n",
    "Before we get started on the RPi and our robots, we will start experimenting wiht Python via Google Colab, a sort of online format for Jupyter Notebooks. It will do everything that the RPi can do with Python, except control your robot. If Colab is unavailable to you, you can instead use Anaconda. See the Canvas site for specific help files.\n",
    "\n",
    "The Jupyter Notebook that you are reading right now creates a Kernel as your Python interpreter. The Kernel serves as the connection between this Jupyter Notebook (in a web browser) and Python. Right now it is running in the background, which means you can create a \"cell\" (a block of code) within your Notebook that contains Python code, then execute that code (in other words Run that cell). The following cell displays (1+1). Click on the cell (it should be highlighted) then hit \"Run\" in the menu, or CTRL + ENTER on your keyboard. The Notebook will then execute the code and display the output.\n",
    "\n",
    "With Python running, we can use the cells as a basic calculator. Try running the code below:"
   ]
  },
  {
   "cell_type": "code",
   "execution_count": null,
   "metadata": {
    "colab": {},
    "colab_type": "code",
    "id": "i_fDPfLA55DU",
    "scrolled": true
   },
   "outputs": [],
   "source": [
    "1+1"
   ]
  },
  {
   "cell_type": "markdown",
   "metadata": {},
   "source": [
    "Below the cell after it runs, you see the cell's \"Output.\" \n",
    "\n",
    "In order to reset the current Output, use the follow menu command \"Cell > Current Outputs > Clear\" (You can also reset all the Outputs in the notebook in that same menu.)\n",
    "\n",
    "If for any reason your Python interpreter needs to be stopped or reset, you can follow menu command \"Kernel > Interrupt\" (or type CTRL+C) to stop everything or \"Kernel > Restart\" to reset it. "
   ]
  },
  {
   "cell_type": "markdown",
   "metadata": {
    "colab_type": "text",
    "id": "3bQF5kx555Db"
   },
   "source": [
    "# Print statements"
   ]
  },
  {
   "cell_type": "markdown",
   "metadata": {
    "colab_type": "text",
    "id": "IuDqRwcy55Dd"
   },
   "source": [
    "A print statement ([Sec 1.3](http://greenteapress.com/thinkpython2/html/thinkpython2002.html#sec8)) returns the string inside its parenthesis. The parenthesis tell us that **print()** is a **function**. You must also put quotations around the string to mark the beginning and the end of the statement.\n",
    "\n",
    "Ex: `print('Hello, World')` will return Hello World\n",
    "\n",
    "**Try it below:**"
   ]
  },
  {
   "cell_type": "code",
   "execution_count": null,
   "metadata": {
    "colab": {},
    "colab_type": "code",
    "id": "woELigzp55De",
    "scrolled": true
   },
   "outputs": [],
   "source": [
    "print('Hello, World')"
   ]
  },
  {
   "cell_type": "markdown",
   "metadata": {
    "colab_type": "text",
    "id": "PPMwnwfe55Dl"
   },
   "source": [
    "Unlike some other programming languages, you may use either single quotes `'` or double quotes `\"` in your strings. **Try out the following and see what they do:**\n",
    "\n",
    "- `print('Hello, World')`\n",
    "- `print(\"Hello, World\")`\n",
    "- `print(\"Hello, World')`\n",
    "- `print('Hello, World\")`\n",
    "- `print(\"'Hello, World'\")`\n",
    "- `print('\"Hello, World\"')`\n",
    "\n",
    "Try editing the cell below to test them out:"
   ]
  },
  {
   "cell_type": "code",
   "execution_count": null,
   "metadata": {
    "colab": {},
    "colab_type": "code",
    "id": "4HswZfO_55Do",
    "scrolled": true
   },
   "outputs": [],
   "source": [
    "print('Hello, World')"
   ]
  },
  {
   "cell_type": "markdown",
   "metadata": {
    "colab_type": "text",
    "id": "JUJF3t_r55Du"
   },
   "source": [
    "# Basic math"
   ]
  },
  {
   "cell_type": "markdown",
   "metadata": {
    "colab_type": "text",
    "id": "CIFGtmhV55Dw"
   },
   "source": [
    "You can use Python to compute basic arithmetic operations. Read Think Python ([Section 1.4](http://greenteapress.com/thinkpython2/html/thinkpython2002.html#sec9)) to learn more.\n",
    "\n",
    "- `2+2`\n",
    "- `6-1` \n",
    "- `2*3`\n",
    "- `16/2`\n",
    "- `3**2`\n",
    "\n",
    "Note that you can have spaces in surrounding the operator:\n",
    "\n",
    "- `2+2`\n",
    "- `2 + 2`\n",
    "\n",
    "**Play around with these arithmetic operations below to see what they do:**"
   ]
  },
  {
   "cell_type": "code",
   "execution_count": null,
   "metadata": {
    "colab": {},
    "colab_type": "code",
    "id": "AAaKGgvN55Dx",
    "scrolled": true
   },
   "outputs": [],
   "source": [
    "2+2"
   ]
  },
  {
   "cell_type": "markdown",
   "metadata": {
    "colab_type": "text",
    "id": "buQeptDk55D5"
   },
   "source": [
    "Note that Python follows PEMDAS order of operations."
   ]
  },
  {
   "cell_type": "markdown",
   "metadata": {
    "colab_type": "text",
    "id": "OUzhFmj-55D6"
   },
   "source": [
    "Python also has two more advanced built-in functions ([Sec 5.1](http://greenteapress.com/thinkpython2/html/thinkpython2006.html#sec55)):\n",
    "\n",
    "The `%` operator, called \"modulus\" or \"mod\" in the form `a % b` obtains the remainder after two numbers are divided:\n",
    "\n",
    "- When a is divisible by b: `10 % 2` or `10 % 5` or `10 % 10`\n",
    "- When a is not divisible by b: `10 % 3`\n",
    "- When a is less than b: `3 % 4` or `5 % 100`\n",
    "\n",
    "The `//` operator, called \"floor division\" in the form `a // b`, rounds the result down to the nearest integer:\n",
    "\n",
    "- When a // b is already an integer: `9 // 3`\n",
    "- When the decimal for a // b is less than 0.5: `10 // 3`\n",
    "- When the decimal for a // b is greater than or equal to 0.5: `11 // 3`\n",
    "- When the result is negative: `-10 // 3` or `-11 // 3`\n",
    "\n",
    "Please try out all of these in the Cell below:"
   ]
  },
  {
   "cell_type": "code",
   "execution_count": null,
   "metadata": {
    "colab": {},
    "colab_type": "code",
    "id": "FzRO6bO955D7",
    "scrolled": true
   },
   "outputs": [],
   "source": [
    "-11 // 3"
   ]
  },
  {
   "cell_type": "markdown",
   "metadata": {
    "colab_type": "text",
    "id": "LnWwcTjc55EB"
   },
   "source": [
    "# Variables and Types"
   ]
  },
  {
   "cell_type": "markdown",
   "metadata": {
    "colab_type": "text",
    "id": "NZEGOjoK55EC"
   },
   "source": [
    "A **variable** is a name that refers to a value. You can learn more about variables in Think Python ([Section 2.1](http://greenteapress.com/thinkpython2/html/thinkpython2003.html)).\n",
    "\n",
    "Consider the mathematical equation: X = 10\n",
    "\n",
    "In this case, X is the name we have assigned the variable and 10 is that variables value.\n",
    "\n",
    "In math, when we evaulate an expression like: 3 x X + 6, we replace the name (X) with the value (10)... so this evaluates to 36.\n",
    "\n",
    "Variables are a central part of coding, allowing you to reference the name in the code while allowing it to change value without having to change it by hand. To use variables, you should know that their are various variable types. Read more about the different types of values in Think Python ([Section 1.5](http://greenteapress.com/thinkpython2/html/thinkpython2002.html#sec10)).Here are a few examples:\n",
    "\n",
    "Integer:`2`\n",
    "\n",
    "Floating-point number: `42.0`\n",
    "\n",
    "String: `Hello, World`\n",
    "\n",
    "**Try to guess the types of the values below and then test to see if you were right!**\n",
    "\n",
    "- `type(2)`\n",
    "- `type(42.0)`\n",
    "- `type(-3)`\n",
    "- `type('a')`\n",
    "- `type('Hello, World!')`\n",
    "- `type('2')`\n",
    "- `type('42.0')`"
   ]
  },
  {
   "cell_type": "code",
   "execution_count": null,
   "metadata": {
    "colab": {},
    "colab_type": "code",
    "id": "eFJIepwe55EC",
    "scrolled": true
   },
   "outputs": [],
   "source": []
  },
  {
   "cell_type": "markdown",
   "metadata": {
    "colab_type": "text",
    "id": "h2vd1fG955EK"
   },
   "source": [
    "# Naming variables"
   ]
  },
  {
   "cell_type": "markdown",
   "metadata": {
    "colab_type": "text",
    "id": "642QEEG055EN"
   },
   "source": [
    "Running a code block in a Jupyter Notebook saves a variable in its memory (the kernel's memory). If you shut down the notebook or the RPi that memory is cleared and you would have to rerun the same code block to create the variable again. Furthermore, the variable only exists in the one Notebook; if you were to open up another Notebook it would be unable to \"see\" the variable from the first notebook.\n",
    "\n",
    "Python has some keywords that cannot be used as variable names. They will show up on your Notebook in a bolded color:\n",
    "\n",
    "    False class finally is return\n",
    "    None continue for lambda try\n",
    "    True def from nonlocal while\n",
    "    and del global not with\n",
    "    as elif if or yield\n",
    "    assert else import pass\n",
    "    break except in raise\n",
    "    \n",
    "**Try to name and print some variables:**"
   ]
  },
  {
   "cell_type": "code",
   "execution_count": null,
   "metadata": {
    "colab": {},
    "colab_type": "code",
    "id": "zEjt0Fhx55EO",
    "scrolled": true
   },
   "outputs": [],
   "source": [
    "n = 6\n",
    "print(n)"
   ]
  },
  {
   "cell_type": "markdown",
   "metadata": {
    "colab_type": "text",
    "id": "iFKOvT5055EU"
   },
   "source": [
    "What happens when you use a Keyword as your variable name?\n",
    "\n",
    "What is happening in the following situations?"
   ]
  },
  {
   "cell_type": "code",
   "execution_count": null,
   "metadata": {
    "colab": {},
    "colab_type": "code",
    "id": "ynccJRxS55EZ",
    "scrolled": true
   },
   "outputs": [],
   "source": [
    "n = 6\n",
    "n = 10\n",
    "print(n)"
   ]
  },
  {
   "cell_type": "markdown",
   "metadata": {},
   "source": [
    "You will notice here something important.\n",
    "\n",
    "**When you see a single equal sign in Python ( = ),** that is not the traditional \"X is equal to Y\" that you see in Algebra class. \n",
    "\n",
    "It is instead read outloud as \" X **is assigned the value of** Y\".\n",
    "\n",
    "So when we say \n",
    "\n",
    "`n = 6`\n",
    "\n",
    "How we read that is: n (the variable) is assigned the value 6\n",
    "\n",
    "When we write: `n = 10` that means n is assigned the value 10. When we assign a new value, it overwrites the old one!\n"
   ]
  },
  {
   "cell_type": "markdown",
   "metadata": {
    "colab_type": "text",
    "id": "IgZAevtq55Ed"
   },
   "source": [
    "# Exercise 1: \n",
    "\n",
    "Let's practice what you just learned! For each of the questions below, use python as a \"calculator\" and print your answers as integers. Name new variables when necessary."
   ]
  },
  {
   "cell_type": "markdown",
   "metadata": {
    "colab_type": "text",
    "id": "KoHYppK655Ee"
   },
   "source": [
    "*1. How many seconds are there in 42 minutes 42 seconds?*"
   ]
  },
  {
   "cell_type": "code",
   "execution_count": null,
   "metadata": {
    "colab": {},
    "colab_type": "code",
    "id": "9FsbGyBA55Ef",
    "scrolled": true
   },
   "outputs": [],
   "source": []
  },
  {
   "cell_type": "markdown",
   "metadata": {
    "colab_type": "text",
    "id": "KmoFSaIo55Ek"
   },
   "source": [
    "*2. How many miles are there in 10 kilometers? Hint: there are 1.61 kilometers in a mile.*"
   ]
  },
  {
   "cell_type": "code",
   "execution_count": null,
   "metadata": {
    "colab": {},
    "colab_type": "code",
    "id": "U08CWNjs55El",
    "scrolled": true
   },
   "outputs": [],
   "source": []
  },
  {
   "cell_type": "markdown",
   "metadata": {
    "colab_type": "text",
    "id": "-MmdSTHG55Er"
   },
   "source": [
    "*3. If you run a 10 kilometer race in 42 minutes 42 seconds, what is your average pace (time per mile in minutes and seconds)? What is your average speed in miles per hour?*"
   ]
  },
  {
   "cell_type": "code",
   "execution_count": null,
   "metadata": {
    "colab": {},
    "colab_type": "code",
    "id": "Sevh1nN755Et",
    "scrolled": true
   },
   "outputs": [],
   "source": []
  },
  {
   "cell_type": "markdown",
   "metadata": {
    "colab_type": "text",
    "id": "2gKKecx455Ez"
   },
   "source": [
    "# Functions"
   ]
  },
  {
   "cell_type": "markdown",
   "metadata": {
    "colab_type": "text",
    "id": "EWMQQnwI55E0"
   },
   "source": [
    "Python has some built in functions (e.g. print). \n",
    "\n",
    "Sometimes you might want to use functions from other libraries, which you can access via the `import` command. For instance, there are additional math functions that can be used if you import the math module ([Sec 3.2](http://greenteapress.com/thinkpython2/html/thinkpython2004.html#sec28)). An example of this is math.sqrt(n). If you want to learn more about the math functions see [_Think Python_](http://greenteapress.com/thinkpython2/html/thinkpython2004.html#sec28)."
   ]
  },
  {
   "cell_type": "code",
   "execution_count": null,
   "metadata": {
    "colab": {},
    "colab_type": "code",
    "id": "9iUsXL0R55E0",
    "scrolled": true
   },
   "outputs": [],
   "source": [
    "import math\n",
    "math.sqrt(4)"
   ]
  },
  {
   "cell_type": "markdown",
   "metadata": {
    "colab_type": "text",
    "id": "dGvjEnyb55E7"
   },
   "source": [
    "You can also create new functions!\n",
    "\n",
    "To do this you must create a **function definition** ([Sec 3.4](http://greenteapress.com/thinkpython2/html/thinkpython2004.html#sec30)) and include the code that runs the function.\n",
    "\n",
    "**def** is the keyword that signifies what follows is a definition.\n",
    "\n",
    "In _Think Python_ they use the following lyrics example: "
   ]
  },
  {
   "cell_type": "markdown",
   "metadata": {
    "colab_type": "raw",
    "id": "OILFA0Nj55E8"
   },
   "source": [
    "`def print_lyrics():\n",
    "    print(\"I'm a lumberjack, and I'm okay.\")\n",
    "    print(\"I sleep all night and I work all day.\")`"
   ]
  },
  {
   "cell_type": "markdown",
   "metadata": {
    "colab_type": "text",
    "id": "rybq_mck55E8"
   },
   "source": [
    "Use the `def` keyword to define a new function `print_lyrics` that prints two lines from a favorite song of yours.  \n",
    "\n",
    "Also note: the \"indentation\" in Python is really important, as this tells Python which lines \"belong\" to the function.  The Jupyter Notebooks interface will automatically indent the lines for you when it knows you are writing the function.  When you have completed the function, if you want to write more code (that's *not* part of the function), you don't use indentation.  That is: hit backspace, delete the indentation, and continue writing your code aligned to the left."
   ]
  },
  {
   "cell_type": "code",
   "execution_count": null,
   "metadata": {
    "colab": {},
    "colab_type": "code",
    "id": "CoLu6T2355E-",
    "scrolled": true
   },
   "outputs": [],
   "source": []
  },
  {
   "cell_type": "markdown",
   "metadata": {
    "colab_type": "text",
    "id": "nP8zW3Tm55FC"
   },
   "source": [
    "If you \"run\" the Code Cell that has your definition (that you just wrote above), even though it has the `print` function as part of it, it doesn't print anything because you are just *defining* the overall function and not actually executing it.\n",
    "\n",
    "Now let's test some things about your `print_lyrics` function:\n",
    "- Call `print` on your `print_lyrics` function (Function Object): `print(print_lyrics)`\n",
    "- Find out what `type` your `print_lyrics` function is: `type(print_lyrics)`\n",
    "- And finally, call your `print_lyrics` function: `print_lyrics()`"
   ]
  },
  {
   "cell_type": "code",
   "execution_count": null,
   "metadata": {
    "colab": {},
    "colab_type": "code",
    "id": "IAL_Ct3O55FD",
    "scrolled": true
   },
   "outputs": [],
   "source": []
  },
  {
   "cell_type": "markdown",
   "metadata": {
    "colab_type": "text",
    "id": "AsTCjGQH55FH"
   },
   "source": [
    "Now try to create a `repeat_lyrics` function ([Sec 3.5](http://greenteapress.com/thinkpython2/html/thinkpython2004.html#sec31)) that prints the lyrics from your favorite song twice. You can use your `print_lyrics` function to complete this exercise."
   ]
  },
  {
   "cell_type": "code",
   "execution_count": null,
   "metadata": {
    "colab": {},
    "colab_type": "code",
    "id": "_3j3LBoj55FI",
    "scrolled": true
   },
   "outputs": [],
   "source": []
  },
  {
   "cell_type": "markdown",
   "metadata": {
    "colab_type": "text",
    "id": "Pi8kE8TK55FO"
   },
   "source": [
    "**A note on function types:**\n",
    "\n",
    "The output of a function can be any type of Python variable. So far, we have only dealt with the `void` type of function. We will talk about more advanced function topics as the course goes on."
   ]
  },
  {
   "cell_type": "markdown",
   "metadata": {
    "colab_type": "text",
    "id": "CmZkpIqE55FP"
   },
   "source": [
    "# Comments\n"
   ]
  },
  {
   "cell_type": "markdown",
   "metadata": {
    "colab_type": "text",
    "id": "B6Ko3w5U55FP"
   },
   "source": [
    "Now is a good time to talk about comments.\n",
    "\n",
    "Comments are lines of code that serve no functional purpose. Instead, they are there to help document the code as it is being written. For instance:"
   ]
  },
  {
   "cell_type": "code",
   "execution_count": null,
   "metadata": {
    "colab": {},
    "colab_type": "code",
    "id": "i7XEJvu055FQ",
    "scrolled": true
   },
   "outputs": [],
   "source": [
    "# Comments in Python start with pound symbols (also known as hashtags). In Jupyter Notebooks, they appear green and italicized.\n",
    "\n",
    "# You can put comments wherever you want, like before a block of code...\n",
    "\n",
    "def print_lyrics(): #...or after some code. Again, they're helpful for documenting what you're doing, like so:\n",
    "    print(\"I'm a lumberjack, and I'm okay.\") # Prints first line of lyrics\n",
    "    print(\"I sleep all night and I work all day.\") # Prints second line of lyrics\n",
    "    \n",
    "# Obviously this is a simple case, but you can imagine where comments can be useful in more complicated blocks of code."
   ]
  },
  {
   "cell_type": "markdown",
   "metadata": {
    "colab_type": "text",
    "id": "ZXrQhTg955FT"
   },
   "source": [
    "# User input"
   ]
  },
  {
   "cell_type": "markdown",
   "metadata": {
    "colab_type": "text",
    "id": "ZId-uk1F55FU"
   },
   "source": [
    "In Python there is a built-in function called `input` ([Sec 5.11](http://greenteapress.com/thinkpython2/html/thinkpython2006.html#sec65)) where the user is prompted and must input something in order for the code to continue running"
   ]
  },
  {
   "cell_type": "code",
   "execution_count": null,
   "metadata": {
    "colab": {},
    "colab_type": "code",
    "id": "VMO3I97r55FV",
    "scrolled": true
   },
   "outputs": [],
   "source": [
    "print('Enter something:')\n",
    "text = input()\n",
    "print('You entered the following:', text)"
   ]
  },
  {
   "cell_type": "markdown",
   "metadata": {
    "colab_type": "text",
    "id": "jqLRk_mm55Fr"
   },
   "source": [
    "If you put a string inside the `input` function, it automatically prints the string as part of the function:"
   ]
  },
  {
   "cell_type": "code",
   "execution_count": null,
   "metadata": {
    "colab": {},
    "colab_type": "code",
    "id": "hL31dC9355Fs",
    "scrolled": true
   },
   "outputs": [],
   "source": [
    "name = input('Enter your name:') \n",
    "print('Good morning,', name,\"!\")"
   ]
  },
  {
   "cell_type": "markdown",
   "metadata": {},
   "source": [
    "When `input` is called, the function `input` is evaluated (as in math class) and it takes on the value that the user types into the prompt. \n",
    "\n",
    "Then the `name =` is evaluated, so `name` is assigned the value of `input` (which is whatever string the user typed in)."
   ]
  },
  {
   "cell_type": "markdown",
   "metadata": {
    "colab_type": "text",
    "id": "wHYnpqUT55Fw"
   },
   "source": [
    "# Conditionals"
   ]
  },
  {
   "cell_type": "markdown",
   "metadata": {
    "colab_type": "text",
    "id": "xjxEfdsi55Fx"
   },
   "source": [
    "Often when writing code, we want to be able to check certain conditions and do different things based on those conditions. \n",
    "\n",
    "Think of the condition:\n",
    "\n",
    "*If you eat your vegetables, you can have dessert.*\n",
    "\n",
    "\"If you eat your vegetables\" is the condion, and if that condition is True (e.g. you ate your vegetables) then the second action can occur (e.g. you get dessert). Otherwise, it does not. \n",
    "\n",
    "The `if` statement in Python helps us do this same thing in the code (Read Think Python [Section 5.4](http://greenteapress.com/thinkpython2/html/thinkpython2006.html#sec58)). \n",
    "\n",
    "Change the value of x and see what happens:"
   ]
  },
  {
   "cell_type": "code",
   "execution_count": null,
   "metadata": {
    "colab": {},
    "colab_type": "code",
    "id": "9K0T9QS755Fz",
    "scrolled": true
   },
   "outputs": [],
   "source": [
    "x = 6 #Try different values of x\n",
    "if x>0:\n",
    "    print('x is positive')"
   ]
  },
  {
   "cell_type": "markdown",
   "metadata": {
    "colab_type": "text",
    "id": "338x1S9B55F3"
   },
   "source": [
    "There might also be consequences if the condition is False. For example:\n",
    "\n",
    "*If you eat your vegetables, you can have dessert, else you will have to do your homework.*\n",
    "\n",
    "\n",
    "In Python, you can also use an `else` statement ([Sec 5.5](http://greenteapress.com/thinkpython2/html/thinkpython2006.html#sec59)):"
   ]
  },
  {
   "cell_type": "code",
   "execution_count": null,
   "metadata": {
    "colab": {},
    "colab_type": "code",
    "id": "yQUIgcfy55F3",
    "outputId": "84c961c8-c753-4e32-ee57-cb8794dd8dab",
    "scrolled": true
   },
   "outputs": [],
   "source": [
    "x = 6\n",
    "if x>0:\n",
    "    print('x is positive')\n",
    "else:\n",
    "    print('x is not positive')"
   ]
  },
  {
   "cell_type": "markdown",
   "metadata": {
    "colab_type": "text",
    "id": "P1tf8fw-55F9"
   },
   "source": [
    "Sometimes, there are more than just two options in an if statement. In this case you use `elif` (short for `else if`) between `if` and `else` (Sec 5.6):"
   ]
  },
  {
   "cell_type": "code",
   "execution_count": null,
   "metadata": {
    "colab": {},
    "colab_type": "code",
    "id": "BofV1y5s55F-",
    "outputId": "9da76d93-e661-41c3-9d8b-769c81cf75ee",
    "scrolled": true
   },
   "outputs": [],
   "source": [
    "x = 6\n",
    "if x>0:\n",
    "    print('x is positive')\n",
    "elif x<0:\n",
    "    print('x is negative')\n",
    "else:\n",
    "    print('x is zero')"
   ]
  },
  {
   "cell_type": "markdown",
   "metadata": {
    "colab_type": "text",
    "id": "peqUD3Sl55GB"
   },
   "source": [
    "There are also **nested conditionals** ([Sec 5.7](http://greenteapress.com/thinkpython2/html/thinkpython2006.html#sec61)). An example is shown below:"
   ]
  },
  {
   "cell_type": "code",
   "execution_count": null,
   "metadata": {
    "colab": {},
    "colab_type": "code",
    "id": "27x2T-Df55GB",
    "outputId": "327018fc-779e-425e-e7a6-84cf7876c792",
    "scrolled": true
   },
   "outputs": [],
   "source": [
    "# try with different numbers\n",
    "x = 6\n",
    "y = 10\n",
    "if x == y:\n",
    "    print('x and y are equal')\n",
    "else:\n",
    "    if x < y:\n",
    "        print('x is less than y')\n",
    "    else:\n",
    "        # only remaining possibility\n",
    "        print('x is greater than y')"
   ]
  },
  {
   "cell_type": "markdown",
   "metadata": {
    "colab_type": "text",
    "id": "pGilPz4y55GF"
   },
   "source": [
    "# Exercise 2:"
   ]
  },
  {
   "cell_type": "markdown",
   "metadata": {
    "colab_type": "text",
    "id": "ODAuss5855GF"
   },
   "source": [
    "*1. Write a function (or collection of functions) that draws the 2x2 grid pictured in the book ([Exercise 3.1](http://greenteapress.com/thinkpython2/html/thinkpython2004.html#sec40)). (Note: you can't use loops or conditionals, as you haven't learned them yet.)*"
   ]
  },
  {
   "cell_type": "code",
   "execution_count": null,
   "metadata": {
    "colab": {},
    "colab_type": "code",
    "id": "ngQA0tzb55GG",
    "scrolled": true
   },
   "outputs": [],
   "source": []
  },
  {
   "cell_type": "markdown",
   "metadata": {
    "colab_type": "text",
    "id": "3eZwf2W355GI"
   },
   "source": [
    "*2. To practice using keyboard/user input and conditionals, create a little five-question math quiz. Have positive answers printed if they get something right and print the answer if they get it wrong.*\n",
    "\n",
    "*For more fun, try to keep score so you can grade the quiz at the end!*\n",
    "\n",
    "*`input(\"write an answer\")` has a type that is a string (try `type(input(\"a question\")` ), in order to change the type of a string that contains a number back into a number we can use `int(input(\"write an integer\")` or `float(input(\"write a non-integer\"))`*"
   ]
  },
  {
   "cell_type": "code",
   "execution_count": null,
   "metadata": {
    "colab": {},
    "colab_type": "code",
    "id": "ooU1EbpQ55GJ",
    "scrolled": true
   },
   "outputs": [],
   "source": []
  },
  {
   "cell_type": "markdown",
   "metadata": {
    "colab_type": "text",
    "id": "5-rccuQ155GQ"
   },
   "source": [
    "# Loops"
   ]
  },
  {
   "cell_type": "markdown",
   "metadata": {
    "colab_type": "text",
    "id": "5zkEH_QJ55GQ"
   },
   "source": [
    "Loops are a fundamental part of coding. They allow you to do something multiple times without having to write the same chunk of code each time."
   ]
  },
  {
   "cell_type": "markdown",
   "metadata": {
    "colab_type": "text",
    "id": "1J9JZ6KD55GR"
   },
   "source": [
    "# for Loops"
   ]
  },
  {
   "cell_type": "markdown",
   "metadata": {
    "colab_type": "text",
    "id": "bJReTeH855GR"
   },
   "source": [
    "Repetition through a `for` statement happens a fixed (calculatable) number of times. Read Think Python([Section 4.2](http://greenteapress.com/thinkpython2/html/thinkpython2005.html#sec43)) to learn more. \n",
    "\n",
    "In the section above we created functions that called other functions to create repeated commands. Here you can use a \"for loop\" in order to do something over and over. For instance: print the word Hello four times."
   ]
  },
  {
   "cell_type": "code",
   "execution_count": null,
   "metadata": {
    "colab": {},
    "colab_type": "code",
    "id": "Qagz2qPM55GS",
    "scrolled": true
   },
   "outputs": [],
   "source": [
    "for i in range(4):\n",
    "    print('Hello!')"
   ]
  },
  {
   "cell_type": "markdown",
   "metadata": {
    "colab_type": "text",
    "id": "MeOAxE_D55GV"
   },
   "source": [
    "The `for` statement can be included within a function, thus allowing you to generalize a command.  The following is a function that prints text four times, and you pass into the function what text you want to print. Execute it to see the output."
   ]
  },
  {
   "cell_type": "code",
   "execution_count": null,
   "metadata": {
    "colab": {},
    "colab_type": "code",
    "id": "zu6pH-mv55GV",
    "scrolled": true
   },
   "outputs": [],
   "source": [
    "def print_four(text):\n",
    "    for i in range(4):\n",
    "        print(text)\n",
    "\n",
    "print_four('Hello!')"
   ]
  },
  {
   "cell_type": "markdown",
   "metadata": {
    "colab_type": "text",
    "id": "XGVN0ejm55GY"
   },
   "source": [
    "# while Loops"
   ]
  },
  {
   "cell_type": "markdown",
   "metadata": {
    "colab_type": "text",
    "id": "yQ0z-eNF55GY"
   },
   "source": [
    "Like the `for` loop, the `while` loop is another way to have repetition in your code. Although they are similar, the `while` loop is slightly different than the `for` loop. \n",
    "\n",
    "Read Think Python ([Section 7.3](http://greenteapress.com/thinkpython2/html/thinkpython2008.html#sec84)) to learn more about them.\n",
    "\n",
    "Run the following code and see what happens.  What happens if you do `countdown(0)` or `countdown(-5)`?"
   ]
  },
  {
   "cell_type": "code",
   "execution_count": null,
   "metadata": {
    "colab": {},
    "colab_type": "code",
    "id": "Z1Jic73H55GY",
    "scrolled": true
   },
   "outputs": [],
   "source": [
    "def countdown(n):\n",
    "    while n > 0:\n",
    "        print(n)\n",
    "        n = n - 1\n",
    "    print('Blastoff!')\n",
    "        \n",
    "countdown(10) "
   ]
  },
  {
   "cell_type": "markdown",
   "metadata": {
    "colab_type": "text",
    "id": "iGDj_6jl55Gc"
   },
   "source": [
    "The loop below will iterate through as long as x is greater than zero. The value of x is redefined each time the loop iterates through."
   ]
  },
  {
   "cell_type": "code",
   "execution_count": null,
   "metadata": {
    "colab": {},
    "colab_type": "code",
    "id": "gsrrwgJj55Gd",
    "scrolled": true
   },
   "outputs": [],
   "source": [
    "x = 10\n",
    "while x>0: #this loop will iterate through until x equals zero\n",
    "    print(x)\n",
    "    x=x-1 # x is redefined each time the loop is iterated through"
   ]
  },
  {
   "cell_type": "markdown",
   "metadata": {
    "colab_type": "text",
    "id": "lzdlmCZ-55Gf"
   },
   "source": [
    "A `while` loop will repeat WHILE a certain condition is True (similar to the `if` statement except repeating!). This is especially good for repetitions where it is hard to calculate how many repetitions are required but we know what the conditions need to be met to stop.\n",
    "\n",
    "You can also write `while True` loops that iterate through forever (unless you include a [break](#break) statement) because the condition is always true!"
   ]
  },
  {
   "cell_type": "code",
   "execution_count": null,
   "metadata": {
    "colab": {},
    "colab_type": "code",
    "id": "WM4OEPIT55Gg",
    "scrolled": true
   },
   "outputs": [],
   "source": [
    "x=1\n",
    "while True: #this will always be true so the while loop will go forever\n",
    "    print(x)\n",
    "    x=x+1"
   ]
  },
  {
   "cell_type": "markdown",
   "metadata": {},
   "source": [
    "In order to stop this `while True` statement (also called a \"forever loop\"), you will need to interrupt the Kernel (press CTRL+C)."
   ]
  },
  {
   "cell_type": "markdown",
   "metadata": {
    "colab_type": "text",
    "id": "-arGuCdR55Gj"
   },
   "source": [
    "# break"
   ]
  },
  {
   "cell_type": "markdown",
   "metadata": {
    "colab_type": "text",
    "id": "rewX_s4L55Gj"
   },
   "source": [
    "You can use `break` ([Sec 7.4](http://greenteapress.com/thinkpython2/html/thinkpython2008.html#sec85)) to force exit `while` loops (or `for` loop, etc)."
   ]
  },
  {
   "cell_type": "code",
   "execution_count": null,
   "metadata": {
    "colab": {},
    "colab_type": "code",
    "id": "YSb1tzAY55Gm",
    "scrolled": true
   },
   "outputs": [],
   "source": [
    "while True:\n",
    "    line = input('Write \"done\" to quit: ')\n",
    "    if line == 'done':\n",
    "        break\n",
    "print('Done!')"
   ]
  },
  {
   "cell_type": "markdown",
   "metadata": {
    "colab_type": "text",
    "id": "JM2VzgR955Gp"
   },
   "source": [
    "# Exercise 4:\n",
    "\n",
    "*1. Like in exercise 2.1, create a little little five-question math quiz. Get input from the user and indicate if they got it right or wrong; **this time don't continue to the next question until it's the right answer**. Keep track of **how many guesses** they took in total to answer the five questions right.*\n"
   ]
  },
  {
   "cell_type": "code",
   "execution_count": null,
   "metadata": {
    "colab": {},
    "colab_type": "code",
    "id": "kO0KE55t55Gq",
    "scrolled": true
   },
   "outputs": [],
   "source": []
  },
  {
   "cell_type": "markdown",
   "metadata": {
    "colab_type": "text",
    "id": "HuwXR4Jm55Gu"
   },
   "source": [
    "# Importing ```time```"
   ]
  },
  {
   "cell_type": "markdown",
   "metadata": {
    "colab_type": "text",
    "id": "b2SRmskX55Gv"
   },
   "source": [
    "Here is the Python 3 help documentation for `time`: https://docs.python.org/3/library/time.html\n",
    "\n",
    "In Python you can import the **time** module. This module is very useful as it can help you see how long parts of the code take to run. With this module you can also pause the code for a given amount of seconds.\n",
    "\n",
    "For example, in the last section we used a `while` statement to count down from 10, yet all the numbers printed at once. We can now `import time` and use `time.sleep(1)` in between each countdown so that the code sleeps/delays for 1 second in between numbers."
   ]
  },
  {
   "cell_type": "code",
   "execution_count": null,
   "metadata": {
    "colab": {},
    "colab_type": "code",
    "id": "yPXmln9g55Gv",
    "scrolled": true
   },
   "outputs": [],
   "source": [
    "import time\n",
    "\n",
    "def countdown(n):\n",
    "    while n > 0:\n",
    "        print(n)\n",
    "        n = n - 1\n",
    "        time.sleep(1)\n",
    "    print('Blastoff!')\n",
    "        \n",
    "countdown(10)"
   ]
  },
  {
   "cell_type": "markdown",
   "metadata": {
    "colab_type": "text",
    "id": "Jkm3a0Bm55Gy"
   },
   "source": [
    "The other `time` function that is nice to have is one to be able to calculate how much time has passed, which is also helpful when measuring loops or user actions, etc. \n",
    "\n",
    "In the time module `time.time()` gives the amount of time in seconds since the epoch (January 1st, 1970). This time is arbitrary so you must define time at the start and reference it to time later in the code."
   ]
  },
  {
   "cell_type": "code",
   "execution_count": null,
   "metadata": {
    "colab": {},
    "colab_type": "code",
    "id": "a3fYEYx455Gy",
    "scrolled": true
   },
   "outputs": [],
   "source": [
    "import time \n",
    "\n",
    "start_time = time.time() # use time.time() to save the amount of seconds since the epoch as a reference\n",
    "\n",
    "print('Hello, World') # can try any function here\n",
    "\n",
    "end_time = time.time() # use time.time() to save the time after the function\n",
    "\n",
    "total_time = end_time - start_time # this total time shows how long the computer took to print Hello, World\n",
    "\n",
    "print(total_time)"
   ]
  },
  {
   "cell_type": "markdown",
   "metadata": {
    "colab_type": "text",
    "id": "cza6A-mm55G1"
   },
   "source": [
    "Startegy when calculating how much time has passed:\n",
    "- before the action, record a baseline time\n",
    "- perform the actions\n",
    "- after the action, record the new time\n",
    "- subtract the baseline time (smaller) from the new time (bigger) to find the difference"
   ]
  },
  {
   "cell_type": "markdown",
   "metadata": {
    "colab_type": "text",
    "id": "aZPphNkk55G2"
   },
   "source": [
    "You can also use the time module to run a program for a specific amount of time. The following code runs for x seconds. Try changing the value of x."
   ]
  },
  {
   "cell_type": "code",
   "execution_count": null,
   "metadata": {
    "colab": {},
    "colab_type": "code",
    "id": "obNGuK6v55G2",
    "scrolled": true
   },
   "outputs": [],
   "source": [
    "import time\n",
    "\n",
    "start_time = time.time() #use time.time() to get the amount of seconds since the epoch as a reference\n",
    "end_time = time.time() # define an intial end_time\n",
    "total_time = end_time - start_time # the total_time is the difference between the start and end times \n",
    "\n",
    "x = 5 #try changing the value of x - this will change how long the code runs for\n",
    "\n",
    "while total_time <= x: # this loop will run for the set amount of time x\n",
    "    time.sleep(1) #have the code pause for 1 second \n",
    "    end_time = time.time() # redefine end time\n",
    "    total_time = end_time - start_time # redefine the total time using the new end time\n",
    "    print(int(total_time)) #print the integer of the value so that it rounds "
   ]
  },
  {
   "cell_type": "markdown",
   "metadata": {
    "colab_type": "text",
    "id": "WTFgv3mA55G8"
   },
   "source": [
    "# Exercise 5:\n",
    "\n",
    "*1. Test a users reaction time! Prompt the user with a simple trivia question and see how long it takes (use the time module) the user to answer it **correctly**.* "
   ]
  },
  {
   "cell_type": "code",
   "execution_count": null,
   "metadata": {
    "colab": {},
    "colab_type": "code",
    "id": "RsVWrr0955G9",
    "scrolled": true
   },
   "outputs": [],
   "source": [
    "import time\n",
    "#Write your answer here"
   ]
  },
  {
   "cell_type": "markdown",
   "metadata": {
    "colab_type": "text",
    "id": "fud4SddA55HB"
   },
   "source": [
    "# NumPy\n",
    "\n",
    "**NumPy** is a module for Python that allows for us to store arrays (similar matrices or tables) of numbers.\n",
    "\n",
    "NumPy arrays are used for storing sensor data and doing calculations on large data sets.\n",
    "\n",
    "\n",
    "The full NumPy documentation can be found on the website [here](https://numpy.org/doc/stable/user/quickstart.html).  DataCamp has a great single page NumPy cheatsheet [here](https://s3.amazonaws.com/assets.datacamp.com/blog_assets/Numpy_Python_Cheat_Sheet.pdf). "
   ]
  },
  {
   "cell_type": "markdown",
   "metadata": {
    "colab_type": "text",
    "id": "jEYfxCly9wGv"
   },
   "source": [
    "The NumPy Module is centered around the creation and modification of a new data typed called `arrays`. \n",
    "\n",
    "An array in code is a set of values. Python has other types for sets of values, including `lists`, `tuples`, `sets`, and `dictionaries`, but the arrays provided by NumPy are more powerful.\n",
    "\n",
    "To use NumPy, you must first `import` the module. Then, you must create the array. \n",
    "\n",
    "Uncomment (remove the `#` from) various lines of code to see what they do."
   ]
  },
  {
   "cell_type": "code",
   "execution_count": null,
   "metadata": {
    "colab": {},
    "colab_type": "code",
    "id": "rJjmy63G-YO9",
    "scrolled": true
   },
   "outputs": [],
   "source": [
    "import numpy as np # imports the NumPy library, names it \"np\"\n",
    "\n",
    "arr = np.array([1, 2, 3, 4, 5]) # creating an array named \"arr\" by calling the np function \"array\". You must have square brackets. Note that you can create an array of any time (integer, float, etc.)\n",
    "\n",
    "#arr = np.array([[1, 2, 3], [4, 5, 6]]) # creating a 2-D array. Technically, you can create many dimensions of array, provided you can keep track of them in your head. Note how many brackets there are\n",
    "\n",
    "print(arr)\n",
    "\n",
    "#print(type(arr)) # what is the object's type?\n",
    "\n"
   ]
  },
  {
   "cell_type": "markdown",
   "metadata": {
    "colab_type": "text",
    "id": "panGfuX7AZII"
   },
   "source": [
    "There are two types of information in an array: the item (value) in the array and where it is stored. \n",
    "\n",
    "Each item in an array is called an **element**.\n",
    "\n",
    "The location of each element is called an **index**.\n",
    "\n",
    "In most languages, including Python, indices start at 0. So the first item in an array is at index 0, the second at index 1 and so forth."
   ]
  },
  {
   "cell_type": "code",
   "execution_count": null,
   "metadata": {
    "colab": {},
    "colab_type": "code",
    "id": "tuEp14Vn_tHm",
    "scrolled": true
   },
   "outputs": [],
   "source": [
    "import numpy as np # imports the NumPy library, names it \"np\"\n",
    "\n",
    "arr = np.array([13, 200, 3, 49, 566]) # We'll just use a 1-D array for this\n",
    "\n",
    "print(arr[0]) # Printing the 0th item of the array\n",
    "#print(arr[1]) # Printing the 1st item of the array\n",
    "#print(arr[2]) # Printing the 2nd item of the array\n",
    "#print(arr[3]) # Printing the 3rd item of the array\n",
    "#print(arr[4]) # Printing the 4th item of the array\n",
    "\n",
    "# You can also access array elements from the end, starting from index -1:\n",
    "#print(arr[-1]) # Printing the 1st item of the array from the end\n",
    "#print(arr[-2]) # Printing the 2nd item of the array from the end\n",
    "#print(arr[-3]) # Printing the 3rd item of the array from the end\n",
    "#print(arr[-4]) # Printing the 4th item of the array from the end\n",
    "#print(arr[-5]) # Printing the 5th item of the array from the end\n",
    "\n",
    "#print(type(arr[0])) # what is the variable type of each element of the array?\n",
    "\n",
    "# Do both of these work?\n",
    "#print(arr[0] + arr[1])\n",
    "#print(arr[0] + 5)\n"
   ]
  },
  {
   "cell_type": "markdown",
   "metadata": {
    "colab_type": "text",
    "id": "xqD78zKQDjKY"
   },
   "source": [
    "We can do something similar for 2-D arrays (and for higher-dimension arrays)"
   ]
  },
  {
   "cell_type": "code",
   "execution_count": null,
   "metadata": {
    "colab": {
     "base_uri": "https://localhost:8080/",
     "height": 35
    },
    "colab_type": "code",
    "executionInfo": {
     "elapsed": 294,
     "status": "ok",
     "timestamp": 1594391275211,
     "user": {
      "displayName": "Max Luo",
      "photoUrl": "",
      "userId": "13905566101683992134"
     },
     "user_tz": 240
    },
    "id": "3om-uq1IDmZk",
    "outputId": "8fc5bd22-1374-4acb-846a-42c14817379f",
    "scrolled": true
   },
   "outputs": [],
   "source": [
    "import numpy as np # imports the NumPy library, names it \"np\"\n",
    "\n",
    "arr = np.array([[13, 200], [3, 49]])\n",
    "\n",
    "print(arr[0][0]) # print the 0th row and the 0th column\n",
    "#print(arr[0][1]) # print the 0th row and the 1st column\n",
    "#print(arr[1][0]) # print the 1st row and the 0th column\n",
    "#print(arr[1][1]) # print the 1st row and the 1st column"
   ]
  },
  {
   "cell_type": "markdown",
   "metadata": {
    "colab_type": "text",
    "id": "gvz_Zt2NGF7Y"
   },
   "source": [
    "Here are some more useful array operations."
   ]
  },
  {
   "cell_type": "code",
   "execution_count": null,
   "metadata": {
    "colab": {},
    "colab_type": "code",
    "id": "F9qsfRCYGICZ",
    "scrolled": true
   },
   "outputs": [],
   "source": [
    "import numpy as np\n",
    "\n",
    "arr = np.array([13, 200, 3, 49, 566, 100, 123, 1005])\n",
    "\n",
    "# Changing an array\n",
    "# If you have created an array, you can change any of its existing elements like so:\n",
    "arr[0] = 1590\n",
    "print(arr[0])\n",
    "print(np.size(arr))\n",
    "print(arr[np.size(arr)-1])\n",
    "#print(arr[np.size(arr)]) # Note that with zero indexing, we cannot access a value at index 8, only 7.\n",
    "\n",
    "# However, if you wish to add more elements, you must append/concatenate them:\n",
    "#arr = np.concatenate((arr, [5, 6, 7, 8]))\n",
    "#print(arr)\n",
    "#print(np.size(arr))\n",
    "#print(arr[np.size(arr)-1])\n",
    "\n",
    "# You can also append a single value at a time like this:\n",
    "#arr2 = np.append(arr, 9) #this adds a value and creates a new array called arr2\n",
    "#print(arr)\n",
    "#print(np.size(arr))\n",
    "#print(arr[np.size(arr)-1])\n",
    "#print(arr2)\n",
    "#print(np.size(arr2))\n",
    "#print(arr2[np.size(arr2)-1])\n",
    "\n",
    "# Array slicing is calling on multiple elements of an array at once\n",
    "#print(arr[0:3]) # Print the 0th to UP TO the 3rd element (i.e. print elements 0, 1, and 2)\n",
    "#print(arr[3:]) # Print everything from the 3rd element onwards, inclusive\n",
    "#print(arr[:3]) # Print everything up to the 3rd element, exclusive\n",
    "#print(arr[0:6:2]) # Print EVERY OTHER ELEMENT between elements 0 and 6\n",
    "#print(arr[::3]) # Print every third element of the entire array\n",
    "\n",
    "# You can copy an array, thus now having two independently editable arrays\n",
    "#arr3 = arr.copy()"
   ]
  },
  {
   "cell_type": "markdown",
   "metadata": {},
   "source": [
    "# Preallocation\n",
    "\n",
    "While you can concatenate or append values on to an array, as you saw, this creates another copy of that variable. This is inefficient as it takes both extra processing time and extra memory to do this. \n",
    "\n",
    "Every little bit of processing time we can save helps in robotics and robot response times. \n",
    "\n",
    "The way we avoid this is through a process called preallocation - where we make an array of the size we need as a place holder and then we use the indices to change the values as we process them."
   ]
  },
  {
   "cell_type": "code",
   "execution_count": null,
   "metadata": {
    "scrolled": true
   },
   "outputs": [],
   "source": [
    "import numpy as np\n",
    "\n",
    "# We can preallocate with zeros\n",
    "zeroarr = np.zeros(6)\n",
    "#zeroarr = np.zeros([3, 8]) #3 rows, 8 columns\n",
    "print(zeroarr)\n",
    "\n",
    "# And with ones\n",
    "onearr = np.ones(6)\n",
    "#onearr = np.ones([8,2]) #8 rows, 2 columns\n",
    "print(onearr)"
   ]
  },
  {
   "cell_type": "markdown",
   "metadata": {},
   "source": [
    "Let's say we wanted to calculate the first 20 even numbers. We could preallocate and then calculate using a `for` loop."
   ]
  },
  {
   "cell_type": "code",
   "execution_count": null,
   "metadata": {
    "scrolled": true
   },
   "outputs": [],
   "source": [
    "import numpy as np\n",
    "\n",
    "arr = np.ones(20)\n",
    "\n",
    "for i in range(20):\n",
    "    arr[i] = i *2\n",
    "\n",
    "print(arr)"
   ]
  },
  {
   "cell_type": "markdown",
   "metadata": {},
   "source": [
    "# Array Math\n",
    "\n",
    "The beautiful things about NumPy arrays is that there is a much easier way to do this!\n",
    "\n",
    "We can instead use array math where we preform the exact same mathematical function on each element of an array."
   ]
  },
  {
   "cell_type": "code",
   "execution_count": null,
   "metadata": {
    "scrolled": true
   },
   "outputs": [],
   "source": [
    "import numpy as np\n",
    "arr = np.array([0, 1, 2, 3, 4, 5, 6, 7, 8, 9, 10, 11, 12, 13, 14, 15, 16, 17, 18, 19,])\n",
    "arr = arr*2 #multiply all those values by 2\n",
    "print(arr)"
   ]
  },
  {
   "cell_type": "markdown",
   "metadata": {},
   "source": [
    "We can also do logical statements on each element of an array to create an array of True and False elements "
   ]
  },
  {
   "cell_type": "code",
   "execution_count": null,
   "metadata": {
    "scrolled": true
   },
   "outputs": [],
   "source": [
    "import numpy as np\n",
    "\n",
    "arr = np.array([0, 1, 2, 3, 4, 5, 6, 7, 8, 9, 10, 11, 12, 13, 14, 15, 16, 17, 18, 19,])\n",
    "arr = arr*2 #multiply all those values by 2\n",
    "print(arr)\n",
    "testarr = (arr % 3 == 0) \n",
    "\n",
    "# This creates an array where the even numbers are tested for weather or not they are also evenly divisible by 3\n",
    "print(testarr)\n",
    "\n",
    "\n",
    "# We can then use that \"boolean array\", AS a special sort index or \"mask\", \n",
    "# where it removes all the values from arr where testarr is false. \n",
    "# This is a pretty advance use of arrays but just demonstrates their power.\n",
    "print(\"Numbers that are even and multiples of 3: \", arr[testarr])\n"
   ]
  },
  {
   "cell_type": "markdown",
   "metadata": {},
   "source": [
    "# Exercise 6\n",
    "\n",
    "*Create and print a 12 times 12 multiplication table. Something like [this](https://www.memory-improvement-tips.com/support-files/printable-multiplication-chart-large.pdf). \n",
    "\n",
    "You may use array math and `for` loops, in any combination.\n",
    "\n",
    "Please preallocate your array.\n",
    "*"
   ]
  },
  {
   "cell_type": "code",
   "execution_count": null,
   "metadata": {
    "scrolled": true
   },
   "outputs": [],
   "source": [
    "import numpy as np\n",
    "\n",
    "\n",
    "\"\"\"Put your answer here. Create and print a 12 times 12 multiplication table \"\"\"\n"
   ]
  },
  {
   "cell_type": "markdown",
   "metadata": {},
   "source": [
    "There are lots of other helpful functions for arrays; check out any of the [documentation pages](https://numpy.org/doc/1.19/user/tutorials_index.html) for more information."
   ]
  },
  {
   "cell_type": "markdown",
   "metadata": {},
   "source": [
    "# Plotting and Graphing\n",
    "\n",
    "The last module we will use is cause MatPlotLib which we can use the plot the values of our arrays (and other variables).\n",
    "\n",
    "MatPlotLib has some nice [tutorials](https://matplotlib.org/3.1.0/tutorials/index.html) that you may want to explore in the future.\n",
    "\n",
    "Check out some interesting graphs below:\n"
   ]
  },
  {
   "cell_type": "code",
   "execution_count": null,
   "metadata": {
    "scrolled": true
   },
   "outputs": [],
   "source": [
    "import numpy as np\n",
    "import matplotlib.pyplot as plt\n",
    "\n",
    "arr = np.array([0, 1, 2, 3, 4, 5, 6, 7, 8, 9, 10, 11, 12, 13, 14, 15, 16, 17, 18, 19,])\n",
    "\n",
    "plt.plot(arr) # The default is the array is Y values.\n",
    "plt.ylabel('some numbers')\n",
    "\n",
    "plt.show()"
   ]
  },
  {
   "cell_type": "markdown",
   "metadata": {},
   "source": [
    "We can change the colors and symbols of the graphs."
   ]
  },
  {
   "cell_type": "code",
   "execution_count": null,
   "metadata": {
    "colab_type": "text",
    "id": "BqzfLZIzJY6L",
    "scrolled": true
   },
   "outputs": [],
   "source": [
    "import numpy as np\n",
    "import matplotlib.pyplot as plt\n",
    "\n",
    "arr = (np.array([0, 1, 2, 3, 4, 5, 6, 7, 8, 9, 10, 11, 12, 13, 14, 15, 16, 17, 18, 19,]))**2\n",
    "\n",
    "plt.plot(arr, \"r+\") # We can change the color and add symbols\n",
    "plt.ylabel('some numbers')\n",
    "\n",
    "plt.show()"
   ]
  },
  {
   "cell_type": "markdown",
   "metadata": {},
   "source": [
    "We can plot multiple arrays on a single figure."
   ]
  },
  {
   "cell_type": "code",
   "execution_count": null,
   "metadata": {
    "scrolled": true
   },
   "outputs": [],
   "source": [
    "import numpy as np\n",
    "import matplotlib.pyplot as plt\n",
    "\n",
    "# Evenly spaced time values at 500ms intervals for 5 seconds\n",
    "t = np.arange(0., 5, .5)\n",
    "squared = t**2\n",
    "cubed = t**3\n",
    "# red dashes, blue squares and green triangles\n",
    "plt.plot(t, t, 'r--') \n",
    "plt.plot(t, squared, 'bs')\n",
    "plt.plot(t, cubed, 'g^')\n",
    "plt.show()"
   ]
  },
  {
   "cell_type": "markdown",
   "metadata": {},
   "source": [
    "We can also take a 2-D array and plot that (sort of like an image!)."
   ]
  },
  {
   "cell_type": "code",
   "execution_count": null,
   "metadata": {
    "scrolled": true
   },
   "outputs": [],
   "source": [
    "import numpy as np\n",
    "import matplotlib.pyplot as plt\n",
    "\n",
    "arr = np.arange(1, 13, 1) # Create an array 1 to 12\n",
    "print(arr)\n",
    "\n",
    "#arr_t = np.reshape(arr,[12, 1]) # Create a vertical version of arr\n",
    "#print(arr_t)\n",
    "\n",
    "#arr_s = arr*arr_t # Multiply both together\n",
    "#print(arr_s) # A multiplication table\n",
    "\n",
    "#three_factor = arr_s%3==0 # A boolean table of multiples of three\n",
    "#print(three_factor)\n",
    "\n",
    "\n",
    "#plt.pcolor(three_factor, cmap='binary') # A figure showing that boolean table\n",
    "#plt.show() # Notice how 0, 0 is in the bottom left.\n",
    "\n"
   ]
  },
  {
   "cell_type": "markdown",
   "metadata": {},
   "source": [
    "Some more 2-D examples:"
   ]
  },
  {
   "cell_type": "code",
   "execution_count": null,
   "metadata": {
    "scrolled": true
   },
   "outputs": [],
   "source": [
    "import numpy as np\n",
    "import matplotlib.pyplot as plt\n",
    "\n",
    "X = np.arange(1, 13, 1) # Create an array 1 to 12\n",
    "Y = np.reshape(arr,[12, 1]) # Create a vertical version of arr\n",
    "\n",
    "Z = X * Y\n",
    "\n",
    "plt.pcolor(Z, cmap='binary') # A figure showing that table\n",
    "plt.show() # Notice how 0, 0 is in the bottom left.\n",
    "\n",
    "Z = np.zeros([12,12])\n",
    "Z[9,4] = 1 #Left Eye\n",
    "Z[9,6] = 1 #Right Eye\n",
    "\n",
    "Z[5,3] = 1 #Smile\n",
    "Z[4,4] = 1\n",
    "Z[4,5] = 1\n",
    "Z[4,6] = 1\n",
    "Z[5,7] = 1\n",
    "\n",
    "plt.pcolor(Z, cmap='binary') # A figure showing that table\n",
    "plt.show() # Notice how 0, 0 is in the bottom left."
   ]
  },
  {
   "cell_type": "markdown",
   "metadata": {},
   "source": [
    "# Exercise 7\n",
    "\n",
    "*Based on the examples above, try using pcolor to create some interesting 12x12 patterns using arrays.*\n",
    "\n",
    "*Can you draw a heart?*\n",
    "*Can you calculate diagonal lines?*\n",
    "*Can you make a checkerboard patter?*"
   ]
  },
  {
   "cell_type": "code",
   "execution_count": null,
   "metadata": {
    "scrolled": true
   },
   "outputs": [],
   "source": [
    "import numpy as np\n",
    "import matplotlib.pyplot as plt\n",
    "\n",
    "X = np.arange(1, 13, 1) # Create an array 1 to 12\n",
    "Y = np.reshape(arr,[12, 1]) # Create a vertical version of arr\n",
    "\n",
    "Z = \"\"\"CREATE YOUR IMAGES HERE\"\"\"\n",
    "\n",
    "plt.pcolor(Z, cmap='binary') # A figure showing that table\n",
    "plt.show() # Notice how 0, 0 is in the bottom left."
   ]
  },
  {
   "cell_type": "markdown",
   "metadata": {},
   "source": [
    "# The End!\n",
    "\n",
    "Congratulations! You made it to the end of the Day 1: Daily Challenges. \n",
    "\n",
    "If you went through quickly, please take a minute to review and be sure that you are comfortable with all the topics that we explored today.\n",
    "\n",
    "\n",
    "## Extra Challenge\n",
    "\n",
    "*Are you looking for an extra challenge? Try to use `while` and/or `for` loops to draw a spiral pattern.*\n",
    "\n",
    "*Draw like we were in Exercise 7. Do NOT \"hard code\" the spiral. You might find it helpful to draw the pattern yourself on paper and look for patterns in the indices numbers.*\n",
    "\n",
    "Here is some space to work on that:"
   ]
  },
  {
   "cell_type": "code",
   "execution_count": 63,
   "metadata": {
    "scrolled": true
   },
   "outputs": [],
   "source": [
    "import numpy as np\n",
    "import matplotlib.pyplot as plt\n",
    "\n"
   ]
  },
  {
   "cell_type": "code",
   "execution_count": null,
   "metadata": {},
   "outputs": [],
   "source": []
  }
 ],
 "metadata": {
  "colab": {
   "collapsed_sections": [],
   "name": "EDL 2020 Day 1a.ipynb",
   "provenance": []
  },
  "kernelspec": {
   "display_name": "Python 3",
   "language": "python",
   "name": "python3"
  },
  "language_info": {
   "codemirror_mode": {
    "name": "ipython",
    "version": 3
   },
   "file_extension": ".py",
   "mimetype": "text/x-python",
   "name": "python",
   "nbconvert_exporter": "python",
   "pygments_lexer": "ipython3",
   "version": "3.7.6"
  }
 },
 "nbformat": 4,
 "nbformat_minor": 1
}
