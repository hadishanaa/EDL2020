{
 "cells": [
  {
   "cell_type": "markdown",
   "metadata": {},
   "source": [
    "# Engineering Design Lab Day 3: Playing with and moving your robot"
   ]
  },
  {
   "cell_type": "markdown",
   "metadata": {},
   "source": [
    "Now we will really start playing with your robot, particularly with motion and automating that motion. Make sure your robot is built, that it has power, and that it is plugged in to your computer."
   ]
  },
  {
   "cell_type": "markdown",
   "metadata": {},
   "source": [
    "# Thinking about motion"
   ]
  },
  {
   "cell_type": "markdown",
   "metadata": {},
   "source": [
    "Get up and walk around your room or you house for a while. What sorts of obstacles do you encounter? What sorts of paths can you take? Now look at your robot, and think about how you might move it around your house, keeping in mind these obstacles.\n",
    "\n",
    "You'll notice that the robot has two wheels and a ball (called a caster wheel). These two wheels are powered, but the caster wheel is not. Essentially, the caster wheel exists to provide a third point of contact with the ground so that the robot remains stable when steering.\n",
    "\n",
    "When programming your robot, as we will see later, you will be sending separate commands to each motor; each wheel will basically be given its own instruction, unrelated to the other wheel. It is the combination of these two wheels that determines the motion of the robot. This is a concept called **differential steering**. It is how many tracked vehicles like bulldozers and tanks move; there is a small number of wheeled vehicles that use it, your robot among them."
   ]
  },
  {
   "cell_type": "markdown",
   "metadata": {},
   "source": [
    "# Power up your GoPiGo\n",
    "\n",
    "Now it is time to power up your GoPiGo.  To run the big (yellow) motors, you need additional external power (e.g. battery pack or wall connection through the barrel port jack (the [coaxial power connector port](https://en.m.wikipedia.org/wiki/Coaxial_power_connector)).  But for all other operation (running Python code, turning on/off LEDs, reading sensors attached to the GPG board, etc) you can run off the USB power connected to the Raspberry Pi.\n",
    "\n",
    "If you have batteries/external power, you can connect those and turn on the GPG with the power switch on the GoPiGo board.  Otherwise, power the Raspberry Pi as normal.\n",
    "\n",
    "There are three libraries (`modules`) that have been created (and have been pre-loaded onto your Raspberry Pi) for communicating to and interacting with the GoPiGo.  They are:\n",
    "\n",
    "- `gopigo3`: the low-level functions for interacting with the GoPiGo board and pins (note: not as well documented, but more powerful)\n",
    "- `easysensors`: includes many functions for using motors, sensors, and other outputs (still fairly low level)\n",
    "- `easygopigo3`: a simplified (higher-level) version of the GPG functions, without as much customization avaiable (we'll import and call `easy`)"
   ]
  },
  {
   "cell_type": "markdown",
   "metadata": {},
   "source": [
    "Here is some documentation for the GoPiGo.  They mostly document and support the `easygopigo3` functionality:\n",
    "\n",
    "https://media.readthedocs.org/pdf/gopigo3/latest/gopigo3.pdf\n",
    "\n",
    "Once imported, all your code should start with the following three commands to (1 & 2) set up instances of the GoPiGo and Easy GoPiGo modules and (3) to reset the GoPiGo's sensors and other outputs at the start of your program.\n",
    "\n",
    "- `gpg = gopigo3.GoPiGo3()`\n",
    "- `egpg = easy.EasyGoPiGo3()`\n",
    "- `gpg.reset_all()`\n",
    "\n",
    "Note: if you get an \"update firmware\" error message, you'll need to update your GoPiGo firmware. There is a script built into your robot (you can access from the desktop) that will do this for you.  Note it requires a Pi reboot so make sure you save-and-close all other work currently open on the Raspberry Pi.\n",
    "\n",
    "**ETHAN'S PHOTO**"
   ]
  },
  {
   "cell_type": "code",
   "execution_count": null,
   "metadata": {},
   "outputs": [],
   "source": [
    "# import GoPiGo Modules:\n",
    "import gopigo3\n",
    "import easysensors\n",
    "import easygopigo3 as easy\n",
    "\n",
    "# Initialize instances of both GPG class objects\n",
    "gpg = gopigo3.GoPiGo3()\n",
    "egpg = easy.EasyGoPiGo3()\n",
    "\n",
    "# Make sure that all sensors and output devices are uncofigured to start\n",
    "gpg.reset_all()\n",
    "\n",
    "print('GoPiGo Initialized')"
   ]
  },
  {
   "cell_type": "markdown",
   "metadata": {},
   "source": [
    "# Using GPG's LEDs\n",
    "\n",
    "There are four build-in LEDs on the GoPiGo. Looking at the board top down you can see the little \"Dexter\" character: two of them are his eyes (multicolored LED Left Eye and LED Right Eye). Then looking at the front of the board (where the sensor ports are, above the Raspberry Pi USB ports) there are two little red \"blinker\" LEDs under the board.\n",
    "\n",
    "**ETHAN'S PHOTO**"
   ]
  },
  {
   "cell_type": "markdown",
   "metadata": {},
   "source": [
    "### Setting Left Eye and Right Eye LEDs\n",
    "\n",
    "The Left Eye and Right Eye LEDs you can reference with `gpg.LED_LEFT_EYE` and `gpg.LED_RIGHT_EYE` respectively.  In the following example, for ease of typing, they are set to `l_eye` and `r_eye` variables.  The color of the LED is set using the `gpg.set_led()` function that takes in:\n",
    "- which LED to set (`gpg.LED_LEFT_EYE` or `gpg.LED_RIGHT_EYE`)\n",
    "- the Red color component (0 to 255)\n",
    "- the Green color component (0 to 255)\n",
    "- the Blue color component (0 to 255)\n",
    "\n",
    "The amount of RGB colors you add will set the LEDs to differnt colors (and brightness).  0 is \"off/black\" and 255 is \"on/white\".  So:\n",
    "\n",
    "`gpg.set_led(gpg.LED_LEFT_EYE, 255, 0, 0)` turns on the Left Eye LED and makes it red (all red, no green, no blue)\n",
    "\n",
    "and\n",
    "\n",
    "`gpg.set_led(gpg.LED_RIGHT_EYE, 0, 0, 0)` turns off the Right Eye LED (set it to black: no red, no green, no blue)\n",
    "\n",
    "Note: if this is your first time using RGB (0 to 255) colors, here are some links to read more about how RGB colors work. Also, do a Google Search for \"RGB Color Picker\" to find many resources for helping find the RGB values for a particular color you want.\n",
    "\n",
    "- https://en.wikipedia.org/wiki/RGB_color_model\n",
    "- https://www.lightwaveuk.com/led-technology/how-does-rgb-work/"
   ]
  },
  {
   "cell_type": "markdown",
   "metadata": {},
   "source": [
    "### Setting the \"Blinker\" LEDs\n",
    "\n",
    "The two blinkers on the front of the GPG can be referenced by `gpg.LED_LEFT_BLINKER` and `gpg.LED_RIGHT_BLINKER`.  In the code below we'll create a left-blinker variable `lb` and a right-blinker variable `rb` as shortcuts for these names.\n",
    "\n",
    "These LEDs are just red, so only their brightness can be set (not color): this ranges from `0` (off) to `255` (full brightness).\n",
    "\n",
    "To turn on the Left Blinker to full brightness: `gpg.set_led(gpg.LED_LEFT_BLINKER, 255)`\n",
    "\n",
    "To turn off the Right Blinker (set to 0): `gpg.set_led(rb, 0)`"
   ]
  },
  {
   "cell_type": "markdown",
   "metadata": {},
   "source": [
    "## Exercise 1:\n",
    "\n",
    "For this exercise play around with turning on/off the LEDs on the GoPiGo.  Write code that does the following (remember to add in some pauses, via `time.sleep()`, into your code):\n",
    "\n",
    "- Turn on both eyes bright blue\n",
    "- Have Dexter (the character with the eyes) wink one eye\n",
    "- Have Dexter blink (close and open his eyes) a few times, one of those times revealing red eyes\n",
    "- When his eyes turn red, also turn on and blink rapidly the Blinker LEDs on the front of the GPG\n",
    "\n",
    "(Note: I'm not looking for you to achieve this sequence perfectly; just want you to play around with the LEDs!)\n",
    "\n",
    "Optional extension: write code that loops through different \"brightness\" values, so that the LEDs appear to \"pulse\"."
   ]
  },
  {
   "cell_type": "code",
   "execution_count": null,
   "metadata": {},
   "outputs": [],
   "source": [
    "# write your solution to Exercise 1 here\n",
    "import time\n",
    "\n",
    "# assume import code has already imported GPG functions (and initialized)\n",
    "\n",
    "# make variables for the Left Eye and Right Eye\n",
    "l_eye = gpg.LED_LEFT_EYE\n",
    "r_eye = gpg.LED_RIGHT_EYE\n",
    "# make variables for the Left Blinker and Right Blinker\n",
    "lb = gpg.LED_LEFT_BLINKER\n",
    "rb = gpg.LED_RIGHT_BLINKER\n",
    "\n",
    "# make left eye red: gpg.set_led(l_eye, 255, 0, 0)\n",
    "# turn off right eye: gpg.set_led(r_eye, 0, 0, 0)\n",
    "\n",
    "# turn left blinker full brightness: gpg.set_led(lb, 255)\n",
    "# turn off right blinker (set to 0): gpg.set_led(rb, 0)"
   ]
  },
  {
   "cell_type": "markdown",
   "metadata": {},
   "source": [
    "# Grove Sensors\n",
    "\n",
    "We are extending the GoPiGo driving base with some **Grove Sensors** by SeeedStudio.  Specifically, you have access to:\n",
    "\n",
    "- Grove Ultrasonic: https://www.seeedstudio.com/Grove-Ultrasonic-Ranger-p-960.html\n",
    "- Grove Line Follower: https://www.seeedstudio.com/Grove-Line-Finder-v1-1-p-2712.html\n",
    "\n",
    "The following code snippets show how these sensors when plugged into the \"Analog Digital 1\" port on the GoPiGo. (If using the \"Analog Digital 2\" port you'd use `gpg.GROVE_2` for the port and `gpg.GROVE_2_1` for the pin.)"
   ]
  },
  {
   "cell_type": "code",
   "execution_count": null,
   "metadata": {},
   "outputs": [],
   "source": [
    "# CODE FOR READING A GROVE BUTTON SENSOR IN AD1 (Analog Digital Port #1)\n",
    "import time\n",
    "\n",
    "# button threshold\n",
    "PRESSED = 4095\n",
    "\n",
    "# set up button sensor details\n",
    "BUTTON_PORT = gpg.GROVE_1\n",
    "BUTTON_PIN = gpg.GROVE_1_1\n",
    "\n",
    "# set the port as an analog input port\n",
    "gpg.set_grove_type(BUTTON_PORT, gpg.GROVE_TYPE.CUSTOM)\n",
    "gpg.set_grove_mode(BUTTON_PORT, gpg.GROVE_INPUT_ANALOG)\n",
    "\n",
    "time.sleep(0.1) # give settings time to take hold\n",
    "\n",
    "# take 20 readings, each at 1/4 second (so for 5 seconds total)\n",
    "for i in range(10):\n",
    "    time.sleep(0.25)\n",
    "    reading = gpg.get_grove_analog(BUTTON_PIN)\n",
    "    percent_reading = reading / PRESSED\n",
    "    print(reading, percent_reading, reading == PRESSED)\n",
    "    \n",
    "gpg.reset_all() # cleanup at end"
   ]
  },
  {
   "cell_type": "code",
   "execution_count": null,
   "metadata": {},
   "outputs": [],
   "source": [
    "# CODE FOR READING A GROVE ULTRASONIC SENSOR IN AD1 (Analog Digital Port #1)\n",
    "import time\n",
    "\n",
    "# set up ultrasonic sensor details\n",
    "US_PORT = gpg.GROVE_1\n",
    "US_TYPE = gpg.GROVE_TYPE.US\n",
    "\n",
    "# set the port as a ultrasonic sensor\n",
    "# NOTE: slightly different format than button or sound\n",
    "gpg.set_grove_type(US_PORT, US_TYPE)\n",
    "\n",
    "time.sleep(0.1) # give settings time to take hold\n",
    "\n",
    "# take 20 readings, each at 1/4 second (so for 5 seconds total)\n",
    "for i in range(10):\n",
    "    time.sleep(0.25)\n",
    "    try:\n",
    "        # Read distance from the sensor\n",
    "        distance = gpg.get_grove_value(US_PORT)\n",
    "        # Print the reading with \"cm\" at the end\n",
    "        print(str(distance / 10) + \"cm\")\n",
    "    # Ignore the erroneous readings\n",
    "    except gpg.SensorError:\n",
    "        pass\n",
    "    except gpg.ValueError:\n",
    "        pass\n",
    "    \n",
    "gpg.reset_all() # cleanup at end"
   ]
  },
  {
   "cell_type": "code",
   "execution_count": null,
   "metadata": {},
   "outputs": [],
   "source": [
    "# CODE FOR READING A GROVE SOUND SENSOR IN AD1 (Analog Digital Port #1)\n",
    "import time\n",
    "\n",
    "# set up sound sensor details\n",
    "SOUND_PORT = gpg.GROVE_1\n",
    "SOUND_PIN = gpg.GROVE_1_1\n",
    "\n",
    "# set the port as an analog input port\n",
    "gpg.set_grove_type(SOUND_PORT, gpg.GROVE_TYPE.CUSTOM)\n",
    "gpg.set_grove_mode(SOUND_PORT, gpg.GROVE_INPUT_ANALOG)\n",
    "\n",
    "time.sleep(0.1) # give settings time to take hold\n",
    "\n",
    "# take 20 readings, each at 1/4 second (so for 5 seconds total)\n",
    "for i in range(10):\n",
    "    time.sleep(0.25)\n",
    "    reading = gpg.get_grove_analog(SOUND_PIN)  # Get absolute value\n",
    "    percent_reading = reading * 100 / 4095     # Scale the reading to 100-pt scale\n",
    "    print(reading, percent_reading)            # Print both values\n",
    "    \n",
    "gpg.reset_all() # cleanup at end"
   ]
  },
  {
   "cell_type": "markdown",
   "metadata": {},
   "source": [
    "## Exercise 2:\n",
    "\n",
    "Now it's time to connect sensors to your robot and write some custom code.  Much like we controlled the LED in our circuits with a button, we can control the built-in LEDs on the GoPiGo board with the attached Grove Sensor Button.\n",
    "\n",
    "Plug in the Grove Sensor Button and write code that:\n",
    "- when the button isn't pushed, turns one eye blue (and the other off)\n",
    "- when the button IS pushed, switches which eye is on and turns it red instead of blue\n",
    "\n",
    "Optional extension: recreate the \"reaction game\" but use the LEDs to give the user a \"ready-set-go\" warning with \"red-yellow-green\" lights."
   ]
  },
  {
   "cell_type": "code",
   "execution_count": null,
   "metadata": {},
   "outputs": [],
   "source": [
    "# write your solution to Exercise 2 here\n",
    "import time\n",
    "\n",
    "# add code for controlling the eyes based on a button"
   ]
  },
  {
   "cell_type": "markdown",
   "metadata": {},
   "source": [
    "## Exercise 3:\n",
    "\n",
    "### Collect Sound Sensor Data\n",
    "\n",
    "Connect the Sound Sensor (in addition to your Button Sensor) to your GoPiGo.\n",
    "\n",
    "Write code to collect Sound Sensor data for 10 seconds.  You'll want to keep track of the \"timestamp\" at which you are collecting.\n",
    "\n",
    "Modify your code to still collect 10 seconds of sound data, but ONLY save/store the actual values when the button is being pushed (ignore/set to zero when button is not pushed).  This is like an intercom: only \"listen\" when the button is being pushed.\n",
    "\n",
    "Note: this means you'll need one sensor plugged into Analog Digital Port 1 and the other in Analog Digital Port 2 (`gpg.GROVE_1` and `gpg.GROVE_2`)."
   ]
  },
  {
   "cell_type": "code",
   "execution_count": null,
   "metadata": {},
   "outputs": [],
   "source": [
    "# write your Solution to Exercise 3 here\n",
    "import time\n",
    "\n",
    "# write your solution here (sound data)"
   ]
  },
  {
   "cell_type": "markdown",
   "metadata": {},
   "source": [
    "## Exercise 4:\n",
    "\n",
    "### Collect Ultrasonic Sensor Data\n",
    "\n",
    "Now collect Ultrasonic Sensor data instead of Sounds Sensor data.\n",
    "\n",
    "Remember:\n",
    "\n",
    "**Do not hot plug the Grove ultrasonic ranger, otherwise it will damage the sensor. The measured area must be no less than 0.5 square meters and smooth.**\n",
    "\n",
    "Write code to collect Ultrasonic Sensor data for 10 seconds.  You'll want to keep track of the \"timestamp\" at which you are collecting.\n",
    "\n",
    "Modify your code to still collect 10 seconds of distance data, but ONLY save/store the actual values when the button is being pushed (ignore/set to zero when button is not pushed).  This is like an police radar detector (not really, but whatever): only record when the trigger is being pulled.\n",
    "\n",
    "Note: this means you'll need one sensor plugged into Analog Digital Port 1 and the other in Analog Digital Port 2 (`gpg.GROVE_1` and `gpg.GROVE_2`).\n",
    "\n",
    "Save your data for graphing/plotting in Exercise W08.L10."
   ]
  },
  {
   "cell_type": "code",
   "execution_count": null,
   "metadata": {},
   "outputs": [],
   "source": [
    "# write your Solution to Exercise W08.L09 here\n",
    "import time\n",
    "\n",
    "# write your solution here (ultrasonic data)"
   ]
  },
  {
   "cell_type": "markdown",
   "metadata": {},
   "source": [
    "# Introduction to Driving Robots\n",
    "\n",
    "Now we will do some simple driving with the GoPiGo.\n",
    "\n",
    "You can define your motors using the GPG constants `MOTOR_LEFT` and `MOTOR_RIGHT`.\n",
    "\n",
    "- `motorL = gpg.MOTOR_LEFT`\n",
    "- `motorR = gpg.MOTOR_RIGHT`\n",
    "\n",
    "You can then use the `set_motor_power` function to specify the power at which to drive a particular motor on a `0` to `100` scale (percent power).\n",
    "\n",
    "- `gpg.set_motor_power(motor, 100)`\n",
    "\n",
    "`0` will stop the motor, and negative numbers will drive the motor in reverse."
   ]
  },
  {
   "cell_type": "markdown",
   "metadata": {},
   "source": [
    "### Exercise 5.1:\n",
    "\n",
    "Write some code to do some simple driving of the motors.\n",
    "\n",
    "- Forward for 1 second (hint: forward means both motors one at the same positive power)\n",
    "- Backward for 1 second (hint: backward means same negative power)\n",
    "- Spin for 1 second (hint: to spin in place, drive each motor in same-but-opposite power levels)\n",
    "\n",
    "After turning motors on, use the `time.sleep(1)` to wait.  Then remember to turn OFF (set to power 0) your motors!\n",
    "\n",
    "Experiment with different speeds, directions, etc."
   ]
  },
  {
   "cell_type": "code",
   "execution_count": null,
   "metadata": {},
   "outputs": [],
   "source": [
    "# write your solution to Exercise 5.1 here\n",
    "import time\n",
    "# import GoPiGo Modules:\n",
    "import gopigo3\n",
    "import easysensors\n",
    "import easygopigo3 as easy\n",
    "\n",
    "# Initialize instances of both GPG class objects\n",
    "gpg = gopigo3.GoPiGo3()\n",
    "egpg = easy.EasyGoPiGo3()\n",
    "\n",
    "# Make sure that all sensors and output devices are uncofigured to start\n",
    "gpg.reset_all()\n",
    "\n",
    "# set up the motors\n",
    "\n",
    "# drive the motors"
   ]
  },
  {
   "cell_type": "markdown",
   "metadata": {},
   "source": [
    "### Exercise 5.2:\n",
    "\n",
    "Through iterative \"guess and test\" figure out how to make your robot spin exactly 180 degrees.  How long do you need to run the motors?\n"
   ]
  },
  {
   "cell_type": "code",
   "execution_count": null,
   "metadata": {},
   "outputs": [],
   "source": [
    "# write your solution to Exercise 5.2 here\n",
    "import time\n",
    "# import GoPiGo Modules:\n",
    "import gopigo3\n",
    "import easysensors\n",
    "import easygopigo3 as easy\n",
    "\n",
    "# Initialize instances of both GPG class objects\n",
    "gpg = gopigo3.GoPiGo3()\n",
    "egpg = easy.EasyGoPiGo3()\n",
    "\n",
    "# Make sure that all sensors and output devices are uncofigured to start\n",
    "gpg.reset_all()\n",
    "\n",
    "# write code to spin the robot 180 degrees (based on time)"
   ]
  },
  {
   "cell_type": "markdown",
   "metadata": {},
   "source": [
    "# Motor Encoders\n",
    "\n",
    "Motor encoders allow you to read the position of the motor.\n",
    "\n",
    "To set up the motor encoders (for left motor):\n",
    "- `gpg.offset_motor_encoder(gpg.MOTOR_LEFT, gpg.get_motor_encoder(gpg.MOTOR_LEFT))`\n",
    "\n",
    "To read the motor encoder (for left motor):\n",
    "- `gpg.get_motor_encoder(gpg.MOTOR_LEFT)`\n",
    "\n",
    "Similar code for the right motor (`MOTOR_RIGHT`)."
   ]
  },
  {
   "cell_type": "markdown",
   "metadata": {},
   "source": [
    "\n",
    "### Exercise 6.1:\n",
    "\n",
    "Write some code that prints out the value of the motor encoders.\n",
    "\n",
    "Take a reading every 1/2 second for 10 seconds.  Manually turn the motor and see how the data changes."
   ]
  },
  {
   "cell_type": "code",
   "execution_count": null,
   "metadata": {},
   "outputs": [],
   "source": [
    "# write your solution to Exercise 6.1 here\n",
    "import time\n",
    "# import GoPiGo Modules:\n",
    "import gopigo3\n",
    "import easysensors\n",
    "import easygopigo3 as easy\n",
    "\n",
    "# Initialize instances of both GPG class objects\n",
    "gpg = gopigo3.GoPiGo3()\n",
    "egpg = easy.EasyGoPiGo3()\n",
    "\n",
    "# Make sure that all sensors and output devices are uncofigured to start\n",
    "gpg.reset_all()\n",
    "\n",
    "# loop 20 times, sleeping 1/2 second: take 10-seconds of data\n",
    "for i in range(20):\n",
    "    time.sleep(0.5) # sleep half a second\n",
    "    # read motor encoder and print value"
   ]
  },
  {
   "cell_type": "markdown",
   "metadata": {},
   "source": [
    "### Exercise 6.2:\n",
    "\n",
    "Redo the \"spin 180 degrees\" exercise from above but this time use the motor encoder readings to stop your robot instead."
   ]
  },
  {
   "cell_type": "code",
   "execution_count": null,
   "metadata": {},
   "outputs": [],
   "source": [
    "# write your solution to Exercise W10.L04 here\n",
    "import time\n",
    "# import GoPiGo Modules:\n",
    "import gopigo3\n",
    "import easysensors\n",
    "import easygopigo3 as easy\n",
    "\n",
    "# Initialize instances of both GPG class objects\n",
    "gpg = gopigo3.GoPiGo3()\n",
    "egpg = easy.EasyGoPiGo3()\n",
    "\n",
    "# Make sure that all sensors and output devices are uncofigured to start\n",
    "gpg.reset_all()\n",
    "\n",
    "# write code to spin the robot 180 degrees (based on motor encoder)"
   ]
  },
  {
   "cell_type": "markdown",
   "metadata": {},
   "source": [
    "### Exercise 6.3:\n",
    "\n",
    "From your results above, figure out the ratio of motor encoder values to robot degrees and create a little conversion function (if you want to turn X degrees, what motor encoder value do you need?).\n",
    "\n",
    "Test out your function by inputting different amounts (90-degrees, 180, 360, 720, etc) and see how accurate your robot is.  What factors into the accuracy? Are there things you can change to make it more accurate?"
   ]
  },
  {
   "cell_type": "code",
   "execution_count": null,
   "metadata": {},
   "outputs": [],
   "source": [
    "# write your solution to Exercise W10.L05 here\n",
    "import time\n",
    "# import GoPiGo Modules:\n",
    "import gopigo3\n",
    "import easysensors\n",
    "import easygopigo3 as easy\n",
    "\n",
    "# Initialize instances of both GPG class objects\n",
    "gpg = gopigo3.GoPiGo3()\n",
    "egpg = easy.EasyGoPiGo3()\n",
    "\n",
    "# Make sure that all sensors and output devices are uncofigured to start\n",
    "gpg.reset_all()\n",
    "\n",
    "# how many degrees to turn?\n",
    "input_degrees = 720 # modify this\n",
    "\n",
    "# write code (functions, etc) to automatically turn that number of degrees"
   ]
  },
  {
   "cell_type": "markdown",
   "metadata": {},
   "source": [
    "# Drive by Sensor\n",
    "\n",
    "The previous exercises used the built-in motor encoders as a \"sensor\" (input) for determining when/how to drive.  Now we will use another sensor to help us.\n",
    "\n",
    "Figure out how to mount the Ultrasonic Sensor onto your robot.  At this point it can be \"pointing stright up\" in the air, as we will just be using our hand to trigger the sensor/control the robot."
   ]
  },
  {
   "cell_type": "markdown",
   "metadata": {},
   "source": [
    "### Exercise 7.1:\n",
    "\n",
    "Use your Jedi Powers to control the robot.  When it doesn't see anything (e.g. the ultrasonic sensor reads a large value) the robot should drive forward.  When you put out your hand above your robot (in front of the sensor) the robot should stop moving.  Loop this so it continually is checking and is stopped when it sees your hand and moves when it doesn't.\n"
   ]
  },
  {
   "cell_type": "code",
   "execution_count": null,
   "metadata": {},
   "outputs": [],
   "source": [
    "# write your solution to Exercise 7.1 here\n",
    "import time\n",
    "# import GoPiGo Modules:\n",
    "import gopigo3\n",
    "import easysensors\n",
    "import easygopigo3 as easy\n",
    "\n",
    "# Initialize instances of both GPG class objects\n",
    "gpg = gopigo3.GoPiGo3()\n",
    "egpg = easy.EasyGoPiGo3()\n",
    "\n",
    "# Make sure that all sensors and output devices are uncofigured to start\n",
    "gpg.reset_all()\n",
    "\n",
    "# write your code here to control your robot based on the ultrasonic sensor"
   ]
  },
  {
   "cell_type": "markdown",
   "metadata": {},
   "source": [
    "### Exercise 7.2\n",
    "\n",
    "In Exercise 7.1 the robot only \"started/stopped\" (binary) based on the ultrasonic reading.  Now, redo that problem but instead of just \"starting/stopping\" (on/off) the motors, make the power of the motor (affecting the speed) based on the ultrasonic reading.  That is: when your hand is far away (big value) the motor should move fast (big value), and when your hand it close (small value) the motor should move slow (small value).\n",
    "\n",
    "Keep in mind the power is between 0 and 100.  What kind of ultrasonic sensor readings make sense?  What math do you need to do to the ultrasonic sensor readings to create reasonable motor power values?"
   ]
  },
  {
   "cell_type": "code",
   "execution_count": null,
   "metadata": {},
   "outputs": [],
   "source": [
    "# write your solution to Exercise 7.2 here\n",
    "import time\n",
    "# import GoPiGo Modules:\n",
    "import gopigo3\n",
    "import easysensors\n",
    "import easygopigo3 as easy\n",
    "\n",
    "# Initialize instances of both GPG class objects\n",
    "gpg = gopigo3.GoPiGo3()\n",
    "egpg = easy.EasyGoPiGo3()\n",
    "\n",
    "# Make sure that all sensors and output devices are uncofigured to start\n",
    "gpg.reset_all()\n",
    "\n",
    "# write your code here to control your robot based on the ultrasonic sensor"
   ]
  },
  {
   "cell_type": "code",
   "execution_count": null,
   "metadata": {},
   "outputs": [],
   "source": []
  }
 ],
 "metadata": {
  "kernelspec": {
   "display_name": "Python 3",
   "language": "python",
   "name": "python3"
  },
  "language_info": {
   "codemirror_mode": {
    "name": "ipython",
    "version": 3
   },
   "file_extension": ".py",
   "mimetype": "text/x-python",
   "name": "python",
   "nbconvert_exporter": "python",
   "pygments_lexer": "ipython3",
   "version": "3.7.6"
  }
 },
 "nbformat": 4,
 "nbformat_minor": 4
}
